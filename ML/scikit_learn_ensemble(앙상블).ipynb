{
  "nbformat": 4,
  "nbformat_minor": 0,
  "metadata": {
    "colab": {
      "provenance": [],
      "mount_file_id": "1weB_fDrZ5nwyr-Ct5yCcqnmHQuLCnFJT",
      "authorship_tag": "ABX9TyNgyWlzHQdISzcxdqO3q3Gv",
      "include_colab_link": true
    },
    "kernelspec": {
      "name": "python3",
      "display_name": "Python 3"
    },
    "language_info": {
      "name": "python"
    }
  },
  "cells": [
    {
      "cell_type": "markdown",
      "metadata": {
        "id": "view-in-github",
        "colab_type": "text"
      },
      "source": [
        "<a href=\"https://colab.research.google.com/github/HongEnJung/ML-DL/blob/main/ML/scikit_learn_ensemble(%EC%95%99%EC%83%81%EB%B8%94).ipynb\" target=\"_parent\"><img src=\"https://colab.research.google.com/assets/colab-badge.svg\" alt=\"Open In Colab\"/></a>"
      ]
    },
    {
      "cell_type": "code",
      "execution_count": 6,
      "metadata": {
        "colab": {
          "base_uri": "https://localhost:8080/"
        },
        "id": "f4vybFNaWb23",
        "outputId": "94856a23-32c3-45f8-bfba-e1cc3eb4badc"
      },
      "outputs": [
        {
          "output_type": "stream",
          "name": "stdout",
          "text": [
            "Drive already mounted at /content/gdrive; to attempt to forcibly remount, call drive.mount(\"/content/gdrive\", force_remount=True).\n"
          ]
        }
      ],
      "source": [
        "from google.colab import drive\n",
        "drive.mount('/content/gdrive')"
      ]
    },
    {
      "cell_type": "markdown",
      "source": [
        "### 앙상블 학습 개요"
      ],
      "metadata": {
        "id": "sUEnrSWmWfqb"
      }
    },
    {
      "cell_type": "markdown",
      "source": [
        "#### Voting Classifier"
      ],
      "metadata": {
        "id": "-nbGVET0Wk60"
      }
    },
    {
      "cell_type": "code",
      "source": [
        "import pandas as pd\n",
        "\n",
        "from sklearn.ensemble import VotingClassifier\n",
        "from sklearn.linear_model import LogisticRegression\n",
        "from sklearn.neighbors import KNeighborsClassifier\n",
        "from sklearn.datasets import load_breast_cancer\n",
        "from sklearn.metrics import accuracy_score\n",
        "\n",
        "cancer = load_breast_cancer() # 유방암 데이터 세트\n",
        "\n",
        "data_df = pd.DataFrame(cancer.data, columns=cancer.feature_names)\n",
        "data_df.head()"
      ],
      "metadata": {
        "colab": {
          "base_uri": "https://localhost:8080/",
          "height": 334
        },
        "id": "fYRQyzX2WfDG",
        "outputId": "1f43c018-8d83-48c3-a04f-0ddbb0e87da1"
      },
      "execution_count": 7,
      "outputs": [
        {
          "output_type": "execute_result",
          "data": {
            "text/plain": [
              "   mean radius  mean texture  mean perimeter  mean area  mean smoothness  \\\n",
              "0        17.99         10.38          122.80     1001.0          0.11840   \n",
              "1        20.57         17.77          132.90     1326.0          0.08474   \n",
              "2        19.69         21.25          130.00     1203.0          0.10960   \n",
              "3        11.42         20.38           77.58      386.1          0.14250   \n",
              "4        20.29         14.34          135.10     1297.0          0.10030   \n",
              "\n",
              "   mean compactness  mean concavity  mean concave points  mean symmetry  \\\n",
              "0           0.27760          0.3001              0.14710         0.2419   \n",
              "1           0.07864          0.0869              0.07017         0.1812   \n",
              "2           0.15990          0.1974              0.12790         0.2069   \n",
              "3           0.28390          0.2414              0.10520         0.2597   \n",
              "4           0.13280          0.1980              0.10430         0.1809   \n",
              "\n",
              "   mean fractal dimension  ...  worst radius  worst texture  worst perimeter  \\\n",
              "0                 0.07871  ...         25.38          17.33           184.60   \n",
              "1                 0.05667  ...         24.99          23.41           158.80   \n",
              "2                 0.05999  ...         23.57          25.53           152.50   \n",
              "3                 0.09744  ...         14.91          26.50            98.87   \n",
              "4                 0.05883  ...         22.54          16.67           152.20   \n",
              "\n",
              "   worst area  worst smoothness  worst compactness  worst concavity  \\\n",
              "0      2019.0            0.1622             0.6656           0.7119   \n",
              "1      1956.0            0.1238             0.1866           0.2416   \n",
              "2      1709.0            0.1444             0.4245           0.4504   \n",
              "3       567.7            0.2098             0.8663           0.6869   \n",
              "4      1575.0            0.1374             0.2050           0.4000   \n",
              "\n",
              "   worst concave points  worst symmetry  worst fractal dimension  \n",
              "0                0.2654          0.4601                  0.11890  \n",
              "1                0.1860          0.2750                  0.08902  \n",
              "2                0.2430          0.3613                  0.08758  \n",
              "3                0.2575          0.6638                  0.17300  \n",
              "4                0.1625          0.2364                  0.07678  \n",
              "\n",
              "[5 rows x 30 columns]"
            ],
            "text/html": [
              "\n",
              "  <div id=\"df-b125060c-1c44-4efb-8a70-fc65a2d0a739\">\n",
              "    <div class=\"colab-df-container\">\n",
              "      <div>\n",
              "<style scoped>\n",
              "    .dataframe tbody tr th:only-of-type {\n",
              "        vertical-align: middle;\n",
              "    }\n",
              "\n",
              "    .dataframe tbody tr th {\n",
              "        vertical-align: top;\n",
              "    }\n",
              "\n",
              "    .dataframe thead th {\n",
              "        text-align: right;\n",
              "    }\n",
              "</style>\n",
              "<table border=\"1\" class=\"dataframe\">\n",
              "  <thead>\n",
              "    <tr style=\"text-align: right;\">\n",
              "      <th></th>\n",
              "      <th>mean radius</th>\n",
              "      <th>mean texture</th>\n",
              "      <th>mean perimeter</th>\n",
              "      <th>mean area</th>\n",
              "      <th>mean smoothness</th>\n",
              "      <th>mean compactness</th>\n",
              "      <th>mean concavity</th>\n",
              "      <th>mean concave points</th>\n",
              "      <th>mean symmetry</th>\n",
              "      <th>mean fractal dimension</th>\n",
              "      <th>...</th>\n",
              "      <th>worst radius</th>\n",
              "      <th>worst texture</th>\n",
              "      <th>worst perimeter</th>\n",
              "      <th>worst area</th>\n",
              "      <th>worst smoothness</th>\n",
              "      <th>worst compactness</th>\n",
              "      <th>worst concavity</th>\n",
              "      <th>worst concave points</th>\n",
              "      <th>worst symmetry</th>\n",
              "      <th>worst fractal dimension</th>\n",
              "    </tr>\n",
              "  </thead>\n",
              "  <tbody>\n",
              "    <tr>\n",
              "      <th>0</th>\n",
              "      <td>17.99</td>\n",
              "      <td>10.38</td>\n",
              "      <td>122.80</td>\n",
              "      <td>1001.0</td>\n",
              "      <td>0.11840</td>\n",
              "      <td>0.27760</td>\n",
              "      <td>0.3001</td>\n",
              "      <td>0.14710</td>\n",
              "      <td>0.2419</td>\n",
              "      <td>0.07871</td>\n",
              "      <td>...</td>\n",
              "      <td>25.38</td>\n",
              "      <td>17.33</td>\n",
              "      <td>184.60</td>\n",
              "      <td>2019.0</td>\n",
              "      <td>0.1622</td>\n",
              "      <td>0.6656</td>\n",
              "      <td>0.7119</td>\n",
              "      <td>0.2654</td>\n",
              "      <td>0.4601</td>\n",
              "      <td>0.11890</td>\n",
              "    </tr>\n",
              "    <tr>\n",
              "      <th>1</th>\n",
              "      <td>20.57</td>\n",
              "      <td>17.77</td>\n",
              "      <td>132.90</td>\n",
              "      <td>1326.0</td>\n",
              "      <td>0.08474</td>\n",
              "      <td>0.07864</td>\n",
              "      <td>0.0869</td>\n",
              "      <td>0.07017</td>\n",
              "      <td>0.1812</td>\n",
              "      <td>0.05667</td>\n",
              "      <td>...</td>\n",
              "      <td>24.99</td>\n",
              "      <td>23.41</td>\n",
              "      <td>158.80</td>\n",
              "      <td>1956.0</td>\n",
              "      <td>0.1238</td>\n",
              "      <td>0.1866</td>\n",
              "      <td>0.2416</td>\n",
              "      <td>0.1860</td>\n",
              "      <td>0.2750</td>\n",
              "      <td>0.08902</td>\n",
              "    </tr>\n",
              "    <tr>\n",
              "      <th>2</th>\n",
              "      <td>19.69</td>\n",
              "      <td>21.25</td>\n",
              "      <td>130.00</td>\n",
              "      <td>1203.0</td>\n",
              "      <td>0.10960</td>\n",
              "      <td>0.15990</td>\n",
              "      <td>0.1974</td>\n",
              "      <td>0.12790</td>\n",
              "      <td>0.2069</td>\n",
              "      <td>0.05999</td>\n",
              "      <td>...</td>\n",
              "      <td>23.57</td>\n",
              "      <td>25.53</td>\n",
              "      <td>152.50</td>\n",
              "      <td>1709.0</td>\n",
              "      <td>0.1444</td>\n",
              "      <td>0.4245</td>\n",
              "      <td>0.4504</td>\n",
              "      <td>0.2430</td>\n",
              "      <td>0.3613</td>\n",
              "      <td>0.08758</td>\n",
              "    </tr>\n",
              "    <tr>\n",
              "      <th>3</th>\n",
              "      <td>11.42</td>\n",
              "      <td>20.38</td>\n",
              "      <td>77.58</td>\n",
              "      <td>386.1</td>\n",
              "      <td>0.14250</td>\n",
              "      <td>0.28390</td>\n",
              "      <td>0.2414</td>\n",
              "      <td>0.10520</td>\n",
              "      <td>0.2597</td>\n",
              "      <td>0.09744</td>\n",
              "      <td>...</td>\n",
              "      <td>14.91</td>\n",
              "      <td>26.50</td>\n",
              "      <td>98.87</td>\n",
              "      <td>567.7</td>\n",
              "      <td>0.2098</td>\n",
              "      <td>0.8663</td>\n",
              "      <td>0.6869</td>\n",
              "      <td>0.2575</td>\n",
              "      <td>0.6638</td>\n",
              "      <td>0.17300</td>\n",
              "    </tr>\n",
              "    <tr>\n",
              "      <th>4</th>\n",
              "      <td>20.29</td>\n",
              "      <td>14.34</td>\n",
              "      <td>135.10</td>\n",
              "      <td>1297.0</td>\n",
              "      <td>0.10030</td>\n",
              "      <td>0.13280</td>\n",
              "      <td>0.1980</td>\n",
              "      <td>0.10430</td>\n",
              "      <td>0.1809</td>\n",
              "      <td>0.05883</td>\n",
              "      <td>...</td>\n",
              "      <td>22.54</td>\n",
              "      <td>16.67</td>\n",
              "      <td>152.20</td>\n",
              "      <td>1575.0</td>\n",
              "      <td>0.1374</td>\n",
              "      <td>0.2050</td>\n",
              "      <td>0.4000</td>\n",
              "      <td>0.1625</td>\n",
              "      <td>0.2364</td>\n",
              "      <td>0.07678</td>\n",
              "    </tr>\n",
              "  </tbody>\n",
              "</table>\n",
              "<p>5 rows × 30 columns</p>\n",
              "</div>\n",
              "      <button class=\"colab-df-convert\" onclick=\"convertToInteractive('df-b125060c-1c44-4efb-8a70-fc65a2d0a739')\"\n",
              "              title=\"Convert this dataframe to an interactive table.\"\n",
              "              style=\"display:none;\">\n",
              "        \n",
              "  <svg xmlns=\"http://www.w3.org/2000/svg\" height=\"24px\"viewBox=\"0 0 24 24\"\n",
              "       width=\"24px\">\n",
              "    <path d=\"M0 0h24v24H0V0z\" fill=\"none\"/>\n",
              "    <path d=\"M18.56 5.44l.94 2.06.94-2.06 2.06-.94-2.06-.94-.94-2.06-.94 2.06-2.06.94zm-11 1L8.5 8.5l.94-2.06 2.06-.94-2.06-.94L8.5 2.5l-.94 2.06-2.06.94zm10 10l.94 2.06.94-2.06 2.06-.94-2.06-.94-.94-2.06-.94 2.06-2.06.94z\"/><path d=\"M17.41 7.96l-1.37-1.37c-.4-.4-.92-.59-1.43-.59-.52 0-1.04.2-1.43.59L10.3 9.45l-7.72 7.72c-.78.78-.78 2.05 0 2.83L4 21.41c.39.39.9.59 1.41.59.51 0 1.02-.2 1.41-.59l7.78-7.78 2.81-2.81c.8-.78.8-2.07 0-2.86zM5.41 20L4 18.59l7.72-7.72 1.47 1.35L5.41 20z\"/>\n",
              "  </svg>\n",
              "      </button>\n",
              "      \n",
              "  <style>\n",
              "    .colab-df-container {\n",
              "      display:flex;\n",
              "      flex-wrap:wrap;\n",
              "      gap: 12px;\n",
              "    }\n",
              "\n",
              "    .colab-df-convert {\n",
              "      background-color: #E8F0FE;\n",
              "      border: none;\n",
              "      border-radius: 50%;\n",
              "      cursor: pointer;\n",
              "      display: none;\n",
              "      fill: #1967D2;\n",
              "      height: 32px;\n",
              "      padding: 0 0 0 0;\n",
              "      width: 32px;\n",
              "    }\n",
              "\n",
              "    .colab-df-convert:hover {\n",
              "      background-color: #E2EBFA;\n",
              "      box-shadow: 0px 1px 2px rgba(60, 64, 67, 0.3), 0px 1px 3px 1px rgba(60, 64, 67, 0.15);\n",
              "      fill: #174EA6;\n",
              "    }\n",
              "\n",
              "    [theme=dark] .colab-df-convert {\n",
              "      background-color: #3B4455;\n",
              "      fill: #D2E3FC;\n",
              "    }\n",
              "\n",
              "    [theme=dark] .colab-df-convert:hover {\n",
              "      background-color: #434B5C;\n",
              "      box-shadow: 0px 1px 3px 1px rgba(0, 0, 0, 0.15);\n",
              "      filter: drop-shadow(0px 1px 2px rgba(0, 0, 0, 0.3));\n",
              "      fill: #FFFFFF;\n",
              "    }\n",
              "  </style>\n",
              "\n",
              "      <script>\n",
              "        const buttonEl =\n",
              "          document.querySelector('#df-b125060c-1c44-4efb-8a70-fc65a2d0a739 button.colab-df-convert');\n",
              "        buttonEl.style.display =\n",
              "          google.colab.kernel.accessAllowed ? 'block' : 'none';\n",
              "\n",
              "        async function convertToInteractive(key) {\n",
              "          const element = document.querySelector('#df-b125060c-1c44-4efb-8a70-fc65a2d0a739');\n",
              "          const dataTable =\n",
              "            await google.colab.kernel.invokeFunction('convertToInteractive',\n",
              "                                                     [key], {});\n",
              "          if (!dataTable) return;\n",
              "\n",
              "          const docLinkHtml = 'Like what you see? Visit the ' +\n",
              "            '<a target=\"_blank\" href=https://colab.research.google.com/notebooks/data_table.ipynb>data table notebook</a>'\n",
              "            + ' to learn more about interactive tables.';\n",
              "          element.innerHTML = '';\n",
              "          dataTable['output_type'] = 'display_data';\n",
              "          await google.colab.output.renderOutput(dataTable, element);\n",
              "          const docLink = document.createElement('div');\n",
              "          docLink.innerHTML = docLinkHtml;\n",
              "          element.appendChild(docLink);\n",
              "        }\n",
              "      </script>\n",
              "    </div>\n",
              "  </div>\n",
              "  "
            ]
          },
          "metadata": {},
          "execution_count": 7
        }
      ]
    },
    {
      "cell_type": "markdown",
      "source": [
        "- Hard voting: 다수결로 최종 class 결정\n",
        "- Soft voting: 분류기들의 class확률 평균값을 구하고 해당 확률이 가장 높은 클래스로 예측"
      ],
      "metadata": {
        "id": "IqHjBZVOX9ts"
      }
    },
    {
      "cell_type": "code",
      "source": [
        "from sklearn.model_selection import train_test_split\n",
        "# 개별 학습기는 로지스틱 회귀와 KNN임\n",
        "lr_clf = LogisticRegression(max_iter=3000)\n",
        "knn_clf = KNeighborsClassifier(n_neighbors=8)\n",
        "\n",
        "# 개별 학습기를 소프트 보팅 기반의 앙상블 모델로 구현한 분류기\n",
        "vo_clf = VotingClassifier(estimators=[('LR',lr_clf),('KNN',knn_clf)], voting='soft')\n",
        "\n",
        "X_train, X_test, y_train, y_test = train_test_split(cancer.data , cancer.target,\n",
        "                                                    test_size=0.2, random_state=100)\n",
        "\n",
        "# VotongClassifier 학습/예측/평가\n",
        "vo_clf.fit(X_train, y_train)\n",
        "pred = vo_clf.predict(X_test)\n",
        "print('Voting 분류기 정확도: {0:.4f}'.format(accuracy_score(y_test, pred)))\n",
        "\n",
        "# 개별 학습기의 학습/예측/평가\n",
        "classifiers = [lr_clf, knn_clf]\n",
        "for classifier in classifiers:\n",
        "  classifier.fit(X_train, y_train)\n",
        "  pred = classifier.predict(X_test)\n",
        "  class_name = classifier.__class__.__name__\n",
        "  print('{0} 정확도: {1:.4f}'.format(class_name, accuracy_score(y_test, pred)))"
      ],
      "metadata": {
        "colab": {
          "base_uri": "https://localhost:8080/"
        },
        "id": "aXhgc3V0X6Ht",
        "outputId": "0b1bd17a-81e8-407b-9953-4d3e7fd9b91a"
      },
      "execution_count": 8,
      "outputs": [
        {
          "output_type": "stream",
          "name": "stdout",
          "text": [
            "Voting 분류기 정확도: 0.9649\n",
            "LogisticRegression 정확도: 0.9561\n",
            "KNeighborsClassifier 정확도: 0.9474\n"
          ]
        }
      ]
    },
    {
      "cell_type": "markdown",
      "source": [
        "### Random Forest"
      ],
      "metadata": {
        "id": "e0IzApB7eEXV"
      }
    },
    {
      "cell_type": "code",
      "source": [
        "import pandas as pd\n",
        "def get_new_feature_name_df(old_feature_name_df):\n",
        "    feature_dup_df = pd.DataFrame(data=old_feature_name_df.groupby('column_name').cumcount(),\n",
        "                                  columns=['dup_cnt'])\n",
        "    feature_dup_df = feature_dup_df.reset_index()\n",
        "    new_feature_name_df = pd.merge(old_feature_name_df.reset_index(), feature_dup_df, how='outer')\n",
        "    new_feature_name_df['column_name'] = new_feature_name_df[['column_name', 'dup_cnt']].apply(lambda x : x[0]+'_'+str(x[1])\n",
        "                                                                                         if x[1] >0 else x[0] ,  axis=1)\n",
        "    new_feature_name_df = new_feature_name_df.drop(['index'], axis=1)\n",
        "    return new_feature_name_df"
      ],
      "metadata": {
        "id": "6DcZMNC8duCX"
      },
      "execution_count": 9,
      "outputs": []
    },
    {
      "cell_type": "code",
      "source": [
        "def get_human_dataset( ):\n",
        "\n",
        "    # 각 데이터 파일들은 공백으로 분리되어 있으므로 read_csv에서 공백 문자를 sep으로 할당.\n",
        "    feature_name_df = pd.read_csv('/content/gdrive/MyDrive/학교/머신러닝/분류/features.txt',sep='\\s+',\n",
        "                        header=None,names=['column_index','column_name'])\n",
        "\n",
        "    # 중복된 피처명을 수정하는 get_new_feature_name_df()를 이용, 신규 피처명 DataFrame생성.\n",
        "    new_feature_name_df = get_new_feature_name_df(feature_name_df)\n",
        "\n",
        "    # DataFrame에 피처명을 컬럼으로 부여하기 위해 리스트 객체로 다시 변환\n",
        "    feature_name = new_feature_name_df.iloc[:, 1].values.tolist()\n",
        "\n",
        "    # 학습 피처 데이터 셋과 테스트 피처 데이터을 DataFrame으로 로딩. 컬럼명은 feature_name 적용\n",
        "    X_train = pd.read_csv('/content/gdrive/MyDrive/학교/머신러닝/분류/X_train.txt',sep='\\s+', names=feature_name)\n",
        "    X_test = pd.read_csv('/content/gdrive/MyDrive/학교/머신러닝/분류/X_test.txt',sep='\\s+', names=feature_name)\n",
        "\n",
        "    # 학습 레이블과 테스트 레이블 데이터을 DataFrame으로 로딩하고 컬럼명은 action으로 부여\n",
        "    y_train = pd.read_csv('/content/gdrive/MyDrive/학교/머신러닝/분류/y_train.txt',sep='\\s+',header=None,names=['action'])\n",
        "    y_test = pd.read_csv('/content/gdrive/MyDrive/학교/머신러닝/분류/y_test.txt',sep='\\s+',header=None,names=['action'])\n",
        "\n",
        "    # 로드된 학습/테스트용 DataFrame을 모두 반환\n",
        "    return X_train, X_test, y_train, y_test\n",
        "\n",
        "\n",
        "X_train, X_test, y_train, y_test = get_human_dataset()"
      ],
      "metadata": {
        "id": "2MHNqlySfVXr"
      },
      "execution_count": 10,
      "outputs": []
    },
    {
      "cell_type": "markdown",
      "source": [
        "↑ 분류 실습 때 사용한 데이터"
      ],
      "metadata": {
        "id": "Rk4enojOffRF"
      }
    },
    {
      "cell_type": "code",
      "source": [
        "from sklearn.ensemble import RandomForestClassifier\n",
        "from sklearn.metrics import accuracy_score\n",
        "import warnings\n",
        "warnings.filterwarnings('ignore')\n",
        "\n",
        "# 결정트리에서 사용한 get_human_dataset()을 이용해 학습/테스트용 DataFrame 반환\n",
        "X_train, X_test, y_train, y_test = get_human_dataset()\n",
        "\n",
        "# 랜덤 포레스트 학습 및 별도의 테스트 셋으로 예측 성능 평가\n",
        "rf_clf = RandomForestClassifier(random_state=0)\n",
        "rf_clf.fit(X_train, y_train)\n",
        "pred = rf_clf.predict(X_test)\n",
        "accuracy = accuracy_score(y_test, pred)\n",
        "print('랜덤 포레스트 정확도: {0:.4f}'.format(accuracy))"
      ],
      "metadata": {
        "colab": {
          "base_uri": "https://localhost:8080/"
        },
        "id": "NXccdBgEfW1N",
        "outputId": "6fd62dfd-f541-4dd4-f1d2-81a758151310"
      },
      "execution_count": 11,
      "outputs": [
        {
          "output_type": "stream",
          "name": "stdout",
          "text": [
            "랜덤 포레스트 정확도: 0.9253\n"
          ]
        }
      ]
    },
    {
      "cell_type": "markdown",
      "source": [
        "- n_estimators: DT 개수 # Decision Tree\n",
        "- max_feature나 max_depth, min_sample_leaf 등의 DT와 동일함\n",
        "- n_jobs = -1 은 멀티 코어 환경에서 모든 CPU 코어를 사용할 때 유용함"
      ],
      "metadata": {
        "id": "zfSwsAO1hWQO"
      }
    },
    {
      "cell_type": "code",
      "source": [
        "from sklearn.model_selection import GridSearchCV\n",
        "# GridSearchCV 하이퍼파라미터 튜닝을 위한 도구\n",
        "# 그리드 탐색(Grid Search)과 교차 검증(Cross Validation)을 결합하여 모델의 최적 하이퍼파라미터 조합을 찾는 데 사용\n",
        "\n",
        "params = {\n",
        "    'n_estimators':[50],\n",
        "    'max_depth' : [8, 10],\n",
        "    'min_samples_leaf' : [1, 2, 4 ],\n",
        "    'min_samples_split' : [1, 2, 4]\n",
        "}\n",
        "\n",
        "# RandomForestClassifier 객체 생성 후 GridSearchCV 수행\n",
        "rf_clf = RandomForestClassifier(random_state=0, n_jobs=-1)\n",
        "grid_cv = GridSearchCV(rf_clf, param_grid = params, cv=2, n_jobs=-1)\n",
        "grid_cv.fit(X_train , y_train)\n",
        "\n",
        "print('최적 하이퍼 파라미터:\\n', grid_cv.best_params_)\n",
        "print('최고 예측 정확도 : {0:.4f}'.format(grid_cv.best_score_))"
      ],
      "metadata": {
        "colab": {
          "base_uri": "https://localhost:8080/"
        },
        "id": "3u7SwKfPhP-G",
        "outputId": "c0f3794d-9699-478e-c906-e0a2db95596f"
      },
      "execution_count": 12,
      "outputs": [
        {
          "output_type": "stream",
          "name": "stdout",
          "text": [
            "최적 하이퍼 파라미터:\n",
            " {'max_depth': 10, 'min_samples_leaf': 1, 'min_samples_split': 4, 'n_estimators': 50}\n",
            "최고 예측 정확도 : 0.9098\n"
          ]
        }
      ]
    },
    {
      "cell_type": "code",
      "source": [
        "rf_clf1 = RandomForestClassifier(n_estimators=300, max_depth = 10, min_samples_leaf=1,\n",
        "                                 min_samples_split=4, random_state=0)\n",
        "rf_clf1.fit(X_train, y_train)\n",
        "pred = rf_clf1.predict(X_test)\n",
        "print('예측 정확도 : {0:.4f}'.format(accuracy_score(y_test, pred)))"
      ],
      "metadata": {
        "colab": {
          "base_uri": "https://localhost:8080/"
        },
        "id": "nkvLJradiCmW",
        "outputId": "da5a9b5d-7140-4b8b-c585-9837e55f645d"
      },
      "execution_count": 13,
      "outputs": [
        {
          "output_type": "stream",
          "name": "stdout",
          "text": [
            "예측 정확도 : 0.9213\n"
          ]
        }
      ]
    },
    {
      "cell_type": "code",
      "source": [
        "import matplotlib.pyplot as plt\n",
        "import seaborn as sns\n",
        "%matplotlib inline\n",
        "\n",
        "ftr_importances_values = rf_clf1.feature_importances_ # 랜덤포레스트에서 피처 중요도 추출\n",
        "ftr_importances = pd.Series(ftr_importances_values, index=X_train.columns)\n",
        "ftr_top20 = ftr_importances.sort_values(ascending=False)[:20]\n",
        "\n",
        "plt.figure(figsize=(8,6))\n",
        "plt.title('Feature importances Top 20')\n",
        "sns.barplot(x=ftr_top20, y=ftr_top20.index)\n",
        "plt.show()"
      ],
      "metadata": {
        "colab": {
          "base_uri": "https://localhost:8080/",
          "height": 545
        },
        "id": "3nyg1PWQk-Yn",
        "outputId": "5c09742c-2460-48df-ef02-52f1788d3d7c"
      },
      "execution_count": 14,
      "outputs": [
        {
          "output_type": "display_data",
          "data": {
            "text/plain": [
              "<Figure size 800x600 with 1 Axes>"
            ],
            "image/png": "[encoded data removed]"
          },
          "metadata": {}
        }
      ]
    },
    {
      "cell_type": "markdown",
      "source": [
        "### sklearn wrapper XGBoost 개요 및 적용"
      ],
      "metadata": {
        "id": "w0mHK7N-miyf"
      }
    },
    {
      "cell_type": "code",
      "source": [
        "dataset = load_breast_cancer()\n",
        "X_features=dataset.data\n",
        "y_label = dataset.target\n",
        "\n",
        "cancer_df = pd.DataFrame(data=X_features, columns = dataset.feature_names)\n",
        "cancer_df['target']=y_label\n",
        "cancer_df.head()\n",
        "\n",
        "# 전체 데이터 중 80%는 학습용 데이터, 20%는 테스트용 데이터 추출\n",
        "X_train, X_test, y_train, y_test = train_test_split(X_features, y_label, test_size =0.2, random_state=156)\n",
        "print(X_train.shape, X_test.shape)\n",
        "\n",
        "# 사이킷런 래퍼 XGBoost 클래스인 XGBClassifier 임포트\n",
        "\n",
        "from xgboost import XGBClassifier\n",
        "\n",
        "xgb_wrapper = XGBClassifier(n_estimators = 400, learning_rate = 0.1, max_depth =3)\n",
        "xgb_wrapper.fit(X_train, y_train)\n",
        "w_preds = xgb_wrapper.predict(X_test)\n",
        "w_pred_proba = xgb_wrapper.predict_proba(X_test)[:,1]\n",
        "print(accuracy_score(y_test, w_preds))"
      ],
      "metadata": {
        "colab": {
          "base_uri": "https://localhost:8080/"
        },
        "id": "OeWd5YlAma75",
        "outputId": "a386e97d-918f-4541-8399-dfaad8de5c33"
      },
      "execution_count": 15,
      "outputs": [
        {
          "output_type": "stream",
          "name": "stdout",
          "text": [
            "(455, 30) (114, 30)\n",
            "0.9736842105263158\n"
          ]
        }
      ]
    },
    {
      "cell_type": "code",
      "source": [
        "from sklearn.metrics import confusion_matrix, accuracy_score\n",
        "from sklearn.metrics import precision_score, recall_score\n",
        "from sklearn.metrics import f1_score, roc_auc_score\n",
        "\n",
        "def get_clf_eval(y_test, pred=None, pred_proba=None):\n",
        "  confusion = confusion_matrix(y_test, pred) # 혼동행렬\n",
        "  accuracy = accuracy_score(y_test, pred) # 정확도\n",
        "  precision = precision_score(y_test, pred) # 정밀도\n",
        "  recall = recall_score(y_test, pred) # 재현율\n",
        "  f1 = f1_score(y_test, pred) # F1점수\n",
        "  # ROC - AUC 추가\n",
        "  roc_auc = roc_auc_score(y_test, pred_proba)\n",
        "  print('오차행렬')\n",
        "  print(confusion)\n",
        "  # ROC - AUC print 추가\n",
        "  print('정확도: {0:.4f}, 정밀도: {1:.4f}, 재현율: {2:.4f}, F1: {3:.4f}, AUC: {4:.4f}'.format(accuracy, precision, recall, f1, roc_auc))"
      ],
      "metadata": {
        "id": "0vFs8Llcr0cY"
      },
      "execution_count": 16,
      "outputs": []
    },
    {
      "cell_type": "code",
      "source": [
        "get_clf_eval(y_test, w_preds, w_pred_proba)"
      ],
      "metadata": {
        "colab": {
          "base_uri": "https://localhost:8080/"
        },
        "id": "t_Nxkowgf_AS",
        "outputId": "825f6e46-ba71-41fa-9d67-8824553b547e"
      },
      "execution_count": 18,
      "outputs": [
        {
          "output_type": "stream",
          "name": "stdout",
          "text": [
            "오차행렬\n",
            "[[35  2]\n",
            " [ 1 76]]\n",
            "정확도: 0.9737, 정밀도: 0.9744, 재현율: 0.9870, F1: 0.9806, AUC: 0.9951\n"
          ]
        }
      ]
    },
    {
      "cell_type": "code",
      "source": [
        "from xgboost import XGBClassifier\n",
        "\n",
        "xgb_wrapper = XGBClassifier(n_estimators=400, learning_rate = 0.1, max_depth=3)\n",
        "evals =[(X_test, y_test)]\n",
        "xgb_wrapper.fit(X_train, y_train, early_stopping_rounds =100, eval_metric='logloss',\n",
        "                eval_set=evals, verbose=True)\n",
        "ws100_preds = xgb_wrapper.predict(X_test)\n",
        "ws100_pred_proba = xgb_wrapper.predict_proba(X_test)[:,1]"
      ],
      "metadata": {
        "colab": {
          "base_uri": "https://localhost:8080/"
        },
        "id": "S2ylHt9DgGNZ",
        "outputId": "43fdfb89-d787-4c37-e381-da391d5dec8b"
      },
      "execution_count": 19,
      "outputs": [
        {
          "output_type": "stream",
          "name": "stdout",
          "text": [
            "[0]\tvalidation_0-logloss:0.61352\n",
            "[1]\tvalidation_0-logloss:0.54784\n",
            "[2]\tvalidation_0-logloss:0.49425\n",
            "[3]\tvalidation_0-logloss:0.44799\n",
            "[4]\tvalidation_0-logloss:0.40911\n",
            "[5]\tvalidation_0-logloss:0.37498\n",
            "[6]\tvalidation_0-logloss:0.34571\n",
            "[7]\tvalidation_0-logloss:0.32053\n",
            "[8]\tvalidation_0-logloss:0.29721\n",
            "[9]\tvalidation_0-logloss:0.27799\n",
            "[10]\tvalidation_0-logloss:0.26030\n",
            "[11]\tvalidation_0-logloss:0.24604\n",
            "[12]\tvalidation_0-logloss:0.23156\n",
            "[13]\tvalidation_0-logloss:0.22005\n",
            "[14]\tvalidation_0-logloss:0.20857\n",
            "[15]\tvalidation_0-logloss:0.19999\n",
            "[16]\tvalidation_0-logloss:0.19012\n",
            "[17]\tvalidation_0-logloss:0.18182\n",
            "[18]\tvalidation_0-logloss:0.17473\n",
            "[19]\tvalidation_0-logloss:0.16766\n",
            "[20]\tvalidation_0-logloss:0.15820\n",
            "[21]\tvalidation_0-logloss:0.15472\n",
            "[22]\tvalidation_0-logloss:0.14895\n",
            "[23]\tvalidation_0-logloss:0.14331\n",
            "[24]\tvalidation_0-logloss:0.13634\n",
            "[25]\tvalidation_0-logloss:0.13278\n",
            "[26]\tvalidation_0-logloss:0.12791\n",
            "[27]\tvalidation_0-logloss:0.12526\n",
            "[28]\tvalidation_0-logloss:0.11998\n",
            "[29]\tvalidation_0-logloss:0.11641\n",
            "[30]\tvalidation_0-logloss:0.11450\n",
            "[31]\tvalidation_0-logloss:0.11257\n",
            "[32]\tvalidation_0-logloss:0.11154\n",
            "[33]\tvalidation_0-logloss:0.10868\n",
            "[34]\tvalidation_0-logloss:0.10668\n",
            "[35]\tvalidation_0-logloss:0.10421\n",
            "[36]\tvalidation_0-logloss:0.10296\n",
            "[37]\tvalidation_0-logloss:0.10058\n",
            "[38]\tvalidation_0-logloss:0.09868\n",
            "[39]\tvalidation_0-logloss:0.09644\n",
            "[40]\tvalidation_0-logloss:0.09587\n",
            "[41]\tvalidation_0-logloss:0.09424\n",
            "[42]\tvalidation_0-logloss:0.09471\n",
            "[43]\tvalidation_0-logloss:0.09427\n",
            "[44]\tvalidation_0-logloss:0.09389\n",
            "[45]\tvalidation_0-logloss:0.09418\n",
            "[46]\tvalidation_0-logloss:0.09402\n",
            "[47]\tvalidation_0-logloss:0.09236\n",
            "[48]\tvalidation_0-logloss:0.09301\n",
            "[49]\tvalidation_0-logloss:0.09127\n",
            "[50]\tvalidation_0-logloss:0.09005\n",
            "[51]\tvalidation_0-logloss:0.08961\n",
            "[52]\tvalidation_0-logloss:0.08958\n",
            "[53]\tvalidation_0-logloss:0.09070\n",
            "[54]\tvalidation_0-logloss:0.08958\n",
            "[55]\tvalidation_0-logloss:0.09036\n",
            "[56]\tvalidation_0-logloss:0.09159\n",
            "[57]\tvalidation_0-logloss:0.09153\n",
            "[58]\tvalidation_0-logloss:0.09199\n",
            "[59]\tvalidation_0-logloss:0.09195\n",
            "[60]\tvalidation_0-logloss:0.09194\n",
            "[61]\tvalidation_0-logloss:0.09146\n",
            "[62]\tvalidation_0-logloss:0.09031\n",
            "[63]\tvalidation_0-logloss:0.08941\n",
            "[64]\tvalidation_0-logloss:0.08972\n",
            "[65]\tvalidation_0-logloss:0.08974\n",
            "[66]\tvalidation_0-logloss:0.08962\n",
            "[67]\tvalidation_0-logloss:0.08873\n",
            "[68]\tvalidation_0-logloss:0.08862\n",
            "[69]\tvalidation_0-logloss:0.08974\n",
            "[70]\tvalidation_0-logloss:0.08998\n",
            "[71]\tvalidation_0-logloss:0.08978\n",
            "[72]\tvalidation_0-logloss:0.08958\n",
            "[73]\tvalidation_0-logloss:0.08953\n",
            "[74]\tvalidation_0-logloss:0.08875\n",
            "[75]\tvalidation_0-logloss:0.08860\n",
            "[76]\tvalidation_0-logloss:0.08812\n",
            "[77]\tvalidation_0-logloss:0.08840\n",
            "[78]\tvalidation_0-logloss:0.08874\n",
            "[79]\tvalidation_0-logloss:0.08815\n",
            "[80]\tvalidation_0-logloss:0.08758\n",
            "[81]\tvalidation_0-logloss:0.08741\n",
            "[82]\tvalidation_0-logloss:0.08849\n",
            "[83]\tvalidation_0-logloss:0.08857\n",
            "[84]\tvalidation_0-logloss:0.08807\n",
            "[85]\tvalidation_0-logloss:0.08764\n",
            "[86]\tvalidation_0-logloss:0.08742\n",
            "[87]\tvalidation_0-logloss:0.08761\n",
            "[88]\tvalidation_0-logloss:0.08707\n",
            "[89]\tvalidation_0-logloss:0.08727\n",
            "[90]\tvalidation_0-logloss:0.08716\n",
            "[91]\tvalidation_0-logloss:0.08696\n",
            "[92]\tvalidation_0-logloss:0.08717\n",
            "[93]\tvalidation_0-logloss:0.08707\n",
            "[94]\tvalidation_0-logloss:0.08659\n",
            "[95]\tvalidation_0-logloss:0.08612\n",
            "[96]\tvalidation_0-logloss:0.08714\n",
            "[97]\tvalidation_0-logloss:0.08677\n",
            "[98]\tvalidation_0-logloss:0.08669\n",
            "[99]\tvalidation_0-logloss:0.08655\n",
            "[100]\tvalidation_0-logloss:0.08650\n",
            "[101]\tvalidation_0-logloss:0.08641\n",
            "[102]\tvalidation_0-logloss:0.08629\n",
            "[103]\tvalidation_0-logloss:0.08626\n",
            "[104]\tvalidation_0-logloss:0.08683\n",
            "[105]\tvalidation_0-logloss:0.08677\n",
            "[106]\tvalidation_0-logloss:0.08732\n",
            "[107]\tvalidation_0-logloss:0.08730\n",
            "[108]\tvalidation_0-logloss:0.08728\n",
            "[109]\tvalidation_0-logloss:0.08730\n",
            "[110]\tvalidation_0-logloss:0.08729\n",
            "[111]\tvalidation_0-logloss:0.08800\n",
            "[112]\tvalidation_0-logloss:0.08794\n",
            "[113]\tvalidation_0-logloss:0.08784\n",
            "[114]\tvalidation_0-logloss:0.08807\n",
            "[115]\tvalidation_0-logloss:0.08765\n",
            "[116]\tvalidation_0-logloss:0.08730\n",
            "[117]\tvalidation_0-logloss:0.08780\n",
            "[118]\tvalidation_0-logloss:0.08775\n",
            "[119]\tvalidation_0-logloss:0.08768\n",
            "[120]\tvalidation_0-logloss:0.08763\n",
            "[121]\tvalidation_0-logloss:0.08757\n",
            "[122]\tvalidation_0-logloss:0.08755\n",
            "[123]\tvalidation_0-logloss:0.08716\n",
            "[124]\tvalidation_0-logloss:0.08767\n",
            "[125]\tvalidation_0-logloss:0.08774\n",
            "[126]\tvalidation_0-logloss:0.08827\n",
            "[127]\tvalidation_0-logloss:0.08831\n",
            "[128]\tvalidation_0-logloss:0.08827\n",
            "[129]\tvalidation_0-logloss:0.08789\n",
            "[130]\tvalidation_0-logloss:0.08886\n",
            "[131]\tvalidation_0-logloss:0.08868\n",
            "[132]\tvalidation_0-logloss:0.08874\n",
            "[133]\tvalidation_0-logloss:0.08922\n",
            "[134]\tvalidation_0-logloss:0.08918\n",
            "[135]\tvalidation_0-logloss:0.08882\n",
            "[136]\tvalidation_0-logloss:0.08851\n",
            "[137]\tvalidation_0-logloss:0.08848\n",
            "[138]\tvalidation_0-logloss:0.08839\n",
            "[139]\tvalidation_0-logloss:0.08915\n",
            "[140]\tvalidation_0-logloss:0.08911\n",
            "[141]\tvalidation_0-logloss:0.08876\n",
            "[142]\tvalidation_0-logloss:0.08868\n",
            "[143]\tvalidation_0-logloss:0.08839\n",
            "[144]\tvalidation_0-logloss:0.08927\n",
            "[145]\tvalidation_0-logloss:0.08924\n",
            "[146]\tvalidation_0-logloss:0.08914\n",
            "[147]\tvalidation_0-logloss:0.08891\n",
            "[148]\tvalidation_0-logloss:0.08942\n",
            "[149]\tvalidation_0-logloss:0.08939\n",
            "[150]\tvalidation_0-logloss:0.08911\n",
            "[151]\tvalidation_0-logloss:0.08873\n",
            "[152]\tvalidation_0-logloss:0.08872\n",
            "[153]\tvalidation_0-logloss:0.08848\n",
            "[154]\tvalidation_0-logloss:0.08847\n",
            "[155]\tvalidation_0-logloss:0.08855\n",
            "[156]\tvalidation_0-logloss:0.08852\n",
            "[157]\tvalidation_0-logloss:0.08855\n",
            "[158]\tvalidation_0-logloss:0.08827\n",
            "[159]\tvalidation_0-logloss:0.08830\n",
            "[160]\tvalidation_0-logloss:0.08828\n",
            "[161]\tvalidation_0-logloss:0.08801\n",
            "[162]\tvalidation_0-logloss:0.08776\n",
            "[163]\tvalidation_0-logloss:0.08778\n",
            "[164]\tvalidation_0-logloss:0.08778\n",
            "[165]\tvalidation_0-logloss:0.08752\n",
            "[166]\tvalidation_0-logloss:0.08754\n",
            "[167]\tvalidation_0-logloss:0.08764\n",
            "[168]\tvalidation_0-logloss:0.08739\n",
            "[169]\tvalidation_0-logloss:0.08738\n",
            "[170]\tvalidation_0-logloss:0.08730\n",
            "[171]\tvalidation_0-logloss:0.08737\n",
            "[172]\tvalidation_0-logloss:0.08740\n",
            "[173]\tvalidation_0-logloss:0.08739\n",
            "[174]\tvalidation_0-logloss:0.08713\n",
            "[175]\tvalidation_0-logloss:0.08716\n",
            "[176]\tvalidation_0-logloss:0.08695\n",
            "[177]\tvalidation_0-logloss:0.08705\n",
            "[178]\tvalidation_0-logloss:0.08697\n",
            "[179]\tvalidation_0-logloss:0.08697\n",
            "[180]\tvalidation_0-logloss:0.08704\n",
            "[181]\tvalidation_0-logloss:0.08680\n",
            "[182]\tvalidation_0-logloss:0.08683\n",
            "[183]\tvalidation_0-logloss:0.08658\n",
            "[184]\tvalidation_0-logloss:0.08659\n",
            "[185]\tvalidation_0-logloss:0.08661\n",
            "[186]\tvalidation_0-logloss:0.08637\n",
            "[187]\tvalidation_0-logloss:0.08637\n",
            "[188]\tvalidation_0-logloss:0.08630\n",
            "[189]\tvalidation_0-logloss:0.08610\n",
            "[190]\tvalidation_0-logloss:0.08602\n",
            "[191]\tvalidation_0-logloss:0.08605\n",
            "[192]\tvalidation_0-logloss:0.08615\n",
            "[193]\tvalidation_0-logloss:0.08592\n",
            "[194]\tvalidation_0-logloss:0.08591\n",
            "[195]\tvalidation_0-logloss:0.08598\n",
            "[196]\tvalidation_0-logloss:0.08601\n",
            "[197]\tvalidation_0-logloss:0.08592\n",
            "[198]\tvalidation_0-logloss:0.08585\n",
            "[199]\tvalidation_0-logloss:0.08587\n",
            "[200]\tvalidation_0-logloss:0.08589\n",
            "[201]\tvalidation_0-logloss:0.08595\n",
            "[202]\tvalidation_0-logloss:0.08573\n",
            "[203]\tvalidation_0-logloss:0.08573\n",
            "[204]\tvalidation_0-logloss:0.08575\n",
            "[205]\tvalidation_0-logloss:0.08582\n",
            "[206]\tvalidation_0-logloss:0.08584\n",
            "[207]\tvalidation_0-logloss:0.08578\n",
            "[208]\tvalidation_0-logloss:0.08569\n",
            "[209]\tvalidation_0-logloss:0.08571\n",
            "[210]\tvalidation_0-logloss:0.08581\n",
            "[211]\tvalidation_0-logloss:0.08559\n",
            "[212]\tvalidation_0-logloss:0.08580\n",
            "[213]\tvalidation_0-logloss:0.08581\n",
            "[214]\tvalidation_0-logloss:0.08574\n",
            "[215]\tvalidation_0-logloss:0.08566\n",
            "[216]\tvalidation_0-logloss:0.08584\n",
            "[217]\tvalidation_0-logloss:0.08563\n",
            "[218]\tvalidation_0-logloss:0.08573\n",
            "[219]\tvalidation_0-logloss:0.08578\n",
            "[220]\tvalidation_0-logloss:0.08579\n",
            "[221]\tvalidation_0-logloss:0.08582\n",
            "[222]\tvalidation_0-logloss:0.08576\n",
            "[223]\tvalidation_0-logloss:0.08567\n",
            "[224]\tvalidation_0-logloss:0.08586\n",
            "[225]\tvalidation_0-logloss:0.08587\n",
            "[226]\tvalidation_0-logloss:0.08593\n",
            "[227]\tvalidation_0-logloss:0.08595\n",
            "[228]\tvalidation_0-logloss:0.08587\n",
            "[229]\tvalidation_0-logloss:0.08606\n",
            "[230]\tvalidation_0-logloss:0.08600\n",
            "[231]\tvalidation_0-logloss:0.08592\n",
            "[232]\tvalidation_0-logloss:0.08610\n",
            "[233]\tvalidation_0-logloss:0.08611\n",
            "[234]\tvalidation_0-logloss:0.08617\n",
            "[235]\tvalidation_0-logloss:0.08626\n",
            "[236]\tvalidation_0-logloss:0.08629\n",
            "[237]\tvalidation_0-logloss:0.08622\n",
            "[238]\tvalidation_0-logloss:0.08639\n",
            "[239]\tvalidation_0-logloss:0.08634\n",
            "[240]\tvalidation_0-logloss:0.08618\n",
            "[241]\tvalidation_0-logloss:0.08620\n",
            "[242]\tvalidation_0-logloss:0.08625\n",
            "[243]\tvalidation_0-logloss:0.08626\n",
            "[244]\tvalidation_0-logloss:0.08629\n",
            "[245]\tvalidation_0-logloss:0.08622\n",
            "[246]\tvalidation_0-logloss:0.08640\n",
            "[247]\tvalidation_0-logloss:0.08635\n",
            "[248]\tvalidation_0-logloss:0.08628\n",
            "[249]\tvalidation_0-logloss:0.08645\n",
            "[250]\tvalidation_0-logloss:0.08629\n",
            "[251]\tvalidation_0-logloss:0.08631\n",
            "[252]\tvalidation_0-logloss:0.08636\n",
            "[253]\tvalidation_0-logloss:0.08639\n",
            "[254]\tvalidation_0-logloss:0.08649\n",
            "[255]\tvalidation_0-logloss:0.08644\n",
            "[256]\tvalidation_0-logloss:0.08629\n",
            "[257]\tvalidation_0-logloss:0.08646\n",
            "[258]\tvalidation_0-logloss:0.08639\n",
            "[259]\tvalidation_0-logloss:0.08644\n",
            "[260]\tvalidation_0-logloss:0.08646\n",
            "[261]\tvalidation_0-logloss:0.08649\n",
            "[262]\tvalidation_0-logloss:0.08645\n",
            "[263]\tvalidation_0-logloss:0.08647\n",
            "[264]\tvalidation_0-logloss:0.08632\n",
            "[265]\tvalidation_0-logloss:0.08649\n",
            "[266]\tvalidation_0-logloss:0.08654\n",
            "[267]\tvalidation_0-logloss:0.08647\n",
            "[268]\tvalidation_0-logloss:0.08650\n",
            "[269]\tvalidation_0-logloss:0.08652\n",
            "[270]\tvalidation_0-logloss:0.08669\n",
            "[271]\tvalidation_0-logloss:0.08674\n",
            "[272]\tvalidation_0-logloss:0.08683\n",
            "[273]\tvalidation_0-logloss:0.08668\n",
            "[274]\tvalidation_0-logloss:0.08664\n",
            "[275]\tvalidation_0-logloss:0.08650\n",
            "[276]\tvalidation_0-logloss:0.08635\n",
            "[277]\tvalidation_0-logloss:0.08652\n",
            "[278]\tvalidation_0-logloss:0.08657\n",
            "[279]\tvalidation_0-logloss:0.08659\n",
            "[280]\tvalidation_0-logloss:0.08668\n",
            "[281]\tvalidation_0-logloss:0.08664\n",
            "[282]\tvalidation_0-logloss:0.08650\n",
            "[283]\tvalidation_0-logloss:0.08636\n",
            "[284]\tvalidation_0-logloss:0.08640\n",
            "[285]\tvalidation_0-logloss:0.08643\n",
            "[286]\tvalidation_0-logloss:0.08646\n",
            "[287]\tvalidation_0-logloss:0.08650\n",
            "[288]\tvalidation_0-logloss:0.08637\n",
            "[289]\tvalidation_0-logloss:0.08646\n",
            "[290]\tvalidation_0-logloss:0.08645\n",
            "[291]\tvalidation_0-logloss:0.08632\n",
            "[292]\tvalidation_0-logloss:0.08628\n",
            "[293]\tvalidation_0-logloss:0.08615\n",
            "[294]\tvalidation_0-logloss:0.08620\n",
            "[295]\tvalidation_0-logloss:0.08622\n",
            "[296]\tvalidation_0-logloss:0.08631\n",
            "[297]\tvalidation_0-logloss:0.08618\n",
            "[298]\tvalidation_0-logloss:0.08626\n",
            "[299]\tvalidation_0-logloss:0.08613\n",
            "[300]\tvalidation_0-logloss:0.08618\n",
            "[301]\tvalidation_0-logloss:0.08605\n",
            "[302]\tvalidation_0-logloss:0.08602\n",
            "[303]\tvalidation_0-logloss:0.08610\n",
            "[304]\tvalidation_0-logloss:0.08598\n",
            "[305]\tvalidation_0-logloss:0.08606\n",
            "[306]\tvalidation_0-logloss:0.08597\n",
            "[307]\tvalidation_0-logloss:0.08600\n",
            "[308]\tvalidation_0-logloss:0.08600\n",
            "[309]\tvalidation_0-logloss:0.08588\n",
            "[310]\tvalidation_0-logloss:0.08592\n"
          ]
        }
      ]
    },
    {
      "cell_type": "code",
      "source": [
        "get_clf_eval(y_test , ws100_preds, ws100_pred_proba)"
      ],
      "metadata": {
        "colab": {
          "base_uri": "https://localhost:8080/"
        },
        "id": "J1t-pcDwhPQE",
        "outputId": "5f3de4bd-bc7a-4a60-9230-f8a1305ceb3a"
      },
      "execution_count": 20,
      "outputs": [
        {
          "output_type": "stream",
          "name": "stdout",
          "text": [
            "오차행렬\n",
            "[[34  3]\n",
            " [ 1 76]]\n",
            "정확도: 0.9649, 정밀도: 0.9620, 재현율: 0.9870, F1: 0.9744, AUC: 0.9954\n"
          ]
        }
      ]
    },
    {
      "cell_type": "code",
      "source": [
        "# early_stopping_rounds를 10으로 설정하고 재 학습.\n",
        "xgb_wrapper = XGBClassifier(n_estimators=400, learning_rate = 0.1, max_depth=3)\n",
        "evals =[(X_test, y_test)]\n",
        "xgb_wrapper.fit(X_train, y_train, early_stopping_rounds =10, eval_metric='logloss',\n",
        "                eval_set=evals, verbose=True)\n",
        "ws10_preds = xgb_wrapper.predict(X_test)\n",
        "ws10_pred_proba = xgb_wrapper.predict_proba(X_test)[:,1]"
      ],
      "metadata": {
        "colab": {
          "base_uri": "https://localhost:8080/"
        },
        "id": "4FOSTOQKhS3y",
        "outputId": "b089fa7b-2884-4d7a-ce35-d7d8fb72d6af"
      },
      "execution_count": 24,
      "outputs": [
        {
          "output_type": "stream",
          "name": "stdout",
          "text": [
            "[0]\tvalidation_0-logloss:0.61352\n",
            "[1]\tvalidation_0-logloss:0.54784\n",
            "[2]\tvalidation_0-logloss:0.49425\n",
            "[3]\tvalidation_0-logloss:0.44799\n",
            "[4]\tvalidation_0-logloss:0.40911\n",
            "[5]\tvalidation_0-logloss:0.37498\n",
            "[6]\tvalidation_0-logloss:0.34571\n",
            "[7]\tvalidation_0-logloss:0.32053\n",
            "[8]\tvalidation_0-logloss:0.29721\n",
            "[9]\tvalidation_0-logloss:0.27799\n",
            "[10]\tvalidation_0-logloss:0.26030\n",
            "[11]\tvalidation_0-logloss:0.24604\n",
            "[12]\tvalidation_0-logloss:0.23156\n",
            "[13]\tvalidation_0-logloss:0.22005\n",
            "[14]\tvalidation_0-logloss:0.20857\n",
            "[15]\tvalidation_0-logloss:0.19999\n",
            "[16]\tvalidation_0-logloss:0.19012\n",
            "[17]\tvalidation_0-logloss:0.18182\n",
            "[18]\tvalidation_0-logloss:0.17473\n",
            "[19]\tvalidation_0-logloss:0.16766\n",
            "[20]\tvalidation_0-logloss:0.15820\n",
            "[21]\tvalidation_0-logloss:0.15472\n",
            "[22]\tvalidation_0-logloss:0.14895\n",
            "[23]\tvalidation_0-logloss:0.14331\n",
            "[24]\tvalidation_0-logloss:0.13634\n",
            "[25]\tvalidation_0-logloss:0.13278\n",
            "[26]\tvalidation_0-logloss:0.12791\n",
            "[27]\tvalidation_0-logloss:0.12526\n",
            "[28]\tvalidation_0-logloss:0.11998\n",
            "[29]\tvalidation_0-logloss:0.11641\n",
            "[30]\tvalidation_0-logloss:0.11450\n",
            "[31]\tvalidation_0-logloss:0.11257\n",
            "[32]\tvalidation_0-logloss:0.11154\n",
            "[33]\tvalidation_0-logloss:0.10868\n",
            "[34]\tvalidation_0-logloss:0.10668\n",
            "[35]\tvalidation_0-logloss:0.10421\n",
            "[36]\tvalidation_0-logloss:0.10296\n",
            "[37]\tvalidation_0-logloss:0.10058\n",
            "[38]\tvalidation_0-logloss:0.09868\n",
            "[39]\tvalidation_0-logloss:0.09644\n",
            "[40]\tvalidation_0-logloss:0.09587\n",
            "[41]\tvalidation_0-logloss:0.09424\n",
            "[42]\tvalidation_0-logloss:0.09471\n",
            "[43]\tvalidation_0-logloss:0.09427\n",
            "[44]\tvalidation_0-logloss:0.09389\n",
            "[45]\tvalidation_0-logloss:0.09418\n",
            "[46]\tvalidation_0-logloss:0.09402\n",
            "[47]\tvalidation_0-logloss:0.09236\n",
            "[48]\tvalidation_0-logloss:0.09301\n",
            "[49]\tvalidation_0-logloss:0.09127\n",
            "[50]\tvalidation_0-logloss:0.09005\n",
            "[51]\tvalidation_0-logloss:0.08961\n",
            "[52]\tvalidation_0-logloss:0.08958\n",
            "[53]\tvalidation_0-logloss:0.09070\n",
            "[54]\tvalidation_0-logloss:0.08958\n",
            "[55]\tvalidation_0-logloss:0.09036\n",
            "[56]\tvalidation_0-logloss:0.09159\n",
            "[57]\tvalidation_0-logloss:0.09153\n",
            "[58]\tvalidation_0-logloss:0.09199\n",
            "[59]\tvalidation_0-logloss:0.09195\n",
            "[60]\tvalidation_0-logloss:0.09194\n",
            "[61]\tvalidation_0-logloss:0.09146\n",
            "[62]\tvalidation_0-logloss:0.09031\n"
          ]
        }
      ]
    },
    {
      "cell_type": "code",
      "source": [
        "get_clf_eval(y_test , ws10_preds, ws10_pred_proba)"
      ],
      "metadata": {
        "colab": {
          "base_uri": "https://localhost:8080/"
        },
        "id": "e84F3LXyhkmb",
        "outputId": "c6b0d10f-25b7-4c3d-88c3-81e7cfd7e696"
      },
      "execution_count": 23,
      "outputs": [
        {
          "output_type": "stream",
          "name": "stdout",
          "text": [
            "오차행렬\n",
            "[[34  3]\n",
            " [ 2 75]]\n",
            "정확도: 0.9561, 정밀도: 0.9615, 재현율: 0.9740, F1: 0.9677, AUC: 0.9947\n"
          ]
        }
      ]
    },
    {
      "cell_type": "code",
      "source": [
        "from xgboost import plot_importance\n",
        "import matplotlib.pyplot as plt\n",
        "%matplotlib inline\n",
        "\n",
        "fig, ax = plt.subplots(figsize=(10,12))\n",
        "# 사이킷런 래퍼 클래스를 입력해도 무방\n",
        "plot_importance(xgb_wrapper, ax=ax)"
      ],
      "metadata": {
        "colab": {
          "base_uri": "https://localhost:8080/",
          "height": 1000
        },
        "id": "3_8wZ_jbhnvC",
        "outputId": "fc26f84e-cd01-49e0-a79c-943a370714da"
      },
      "execution_count": 25,
      "outputs": [
        {
          "output_type": "execute_result",
          "data": {
            "text/plain": [
              "<Axes: title={'center': 'Feature importance'}, xlabel='F score', ylabel='Features'>"
            ]
          },
          "metadata": {},
          "execution_count": 25
        },
        {
          "output_type": "display_data",
          "data": {
            "text/plain": [
              "<Figure size 1000x1200 with 1 Axes>"
            ],
            "image/png": "[encoded data removed]"
          },
          "metadata": {}
        }
      ]
    },
    {
      "cell_type": "markdown",
      "source": [
        "### 스태킹 앙상블"
      ],
      "metadata": {
        "id": "XhprPb4IitCZ"
      }
    },
    {
      "cell_type": "code",
      "source": [
        "import numpy as np\n",
        "\n",
        "from sklearn.neighbors import KNeighborsClassifier\n",
        "from sklearn.ensemble import RandomForestClassifier\n",
        "from sklearn.ensemble import AdaBoostClassifier\n",
        "from sklearn.tree import DecisionTreeClassifier\n",
        "from sklearn.linear_model import LogisticRegression\n",
        "\n",
        "from sklearn.datasets import load_breast_cancer\n",
        "from sklearn.model_selection import train_test_split\n",
        "from sklearn.metrics import accuracy_score\n",
        "\n",
        "cancer_data = load_breast_cancer()\n",
        "\n",
        "X_data = cancer_data.data\n",
        "y_label = cancer_data.target\n",
        "\n",
        "X_train, X_test, y_train, y_test = train_test_split(X_data, y_label, test_size=0.2,\n",
        "                                                    random_state=0)"
      ],
      "metadata": {
        "id": "SJoPbbtKiopC"
      },
      "execution_count": 26,
      "outputs": []
    },
    {
      "cell_type": "code",
      "source": [
        "# 개별 ML모델을 위한 Classifier 생성\n",
        "knn_clf = KNeighborsClassifier(n_neighbors=4)\n",
        "rf_clf = RandomForestClassifier(n_estimators=100, random_state=0)\n",
        "dt_clf = DecisionTreeClassifier(random_state=0)\n",
        "ada_clf = AdaBoostClassifier(n_estimators=100, random_state=0)\n",
        "\n",
        "# 최종 Stacking 모델을 위한 Classifier 생성\n",
        "lr_final = LogisticRegression(C=10, random_state =0)"
      ],
      "metadata": {
        "id": "NFUzEu4lpIF0"
      },
      "execution_count": 27,
      "outputs": []
    },
    {
      "cell_type": "code",
      "source": [
        "# 개별 모델들을 학습\n",
        "knn_clf.fit(X_train, y_train)\n",
        "rf_clf.fit(X_train, y_train)\n",
        "dt_clf.fit(X_train, y_train)\n",
        "ada_clf.fit(X_train, y_train)"
      ],
      "metadata": {
        "colab": {
          "base_uri": "https://localhost:8080/",
          "height": 75
        },
        "id": "BSeWrtd7p06z",
        "outputId": "b691ccbd-c964-4829-bd33-30fcf39d77c5"
      },
      "execution_count": 29,
      "outputs": [
        {
          "output_type": "execute_result",
          "data": {
            "text/plain": [
              "AdaBoostClassifier(n_estimators=100, random_state=0)"
            ],
            "text/html": [
              "<style>#sk-container-id-1 {color: black;background-color: white;}#sk-container-id-1 pre{padding: 0;}#sk-container-id-1 div.sk-toggleable {background-color: white;}#sk-container-id-1 label.sk-toggleable__label {cursor: pointer;display: block;width: 100%;margin-bottom: 0;padding: 0.3em;box-sizing: border-box;text-align: center;}#sk-container-id-1 label.sk-toggleable__label-arrow:before {content: \"▸\";float: left;margin-right: 0.25em;color: #696969;}#sk-container-id-1 label.sk-toggleable__label-arrow:hover:before {color: black;}#sk-container-id-1 div.sk-estimator:hover label.sk-toggleable__label-arrow:before {color: black;}#sk-container-id-1 div.sk-toggleable__content {max-height: 0;max-width: 0;overflow: hidden;text-align: left;background-color: #f0f8ff;}#sk-container-id-1 div.sk-toggleable__content pre {margin: 0.2em;color: black;border-radius: 0.25em;background-color: #f0f8ff;}#sk-container-id-1 input.sk-toggleable__control:checked~div.sk-toggleable__content {max-height: 200px;max-width: 100%;overflow: auto;}#sk-container-id-1 input.sk-toggleable__control:checked~label.sk-toggleable__label-arrow:before {content: \"▾\";}#sk-container-id-1 div.sk-estimator input.sk-toggleable__control:checked~label.sk-toggleable__label {background-color: #d4ebff;}#sk-container-id-1 div.sk-label input.sk-toggleable__control:checked~label.sk-toggleable__label {background-color: #d4ebff;}#sk-container-id-1 input.sk-hidden--visually {border: 0;clip: rect(1px 1px 1px 1px);clip: rect(1px, 1px, 1px, 1px);height: 1px;margin: -1px;overflow: hidden;padding: 0;position: absolute;width: 1px;}#sk-container-id-1 div.sk-estimator {font-family: monospace;background-color: #f0f8ff;border: 1px dotted black;border-radius: 0.25em;box-sizing: border-box;margin-bottom: 0.5em;}#sk-container-id-1 div.sk-estimator:hover {background-color: #d4ebff;}#sk-container-id-1 div.sk-parallel-item::after {content: \"\";width: 100%;border-bottom: 1px solid gray;flex-grow: 1;}#sk-container-id-1 div.sk-label:hover label.sk-toggleable__label {background-color: #d4ebff;}#sk-container-id-1 div.sk-serial::before {content: \"\";position: absolute;border-left: 1px solid gray;box-sizing: border-box;top: 0;bottom: 0;left: 50%;z-index: 0;}#sk-container-id-1 div.sk-serial {display: flex;flex-direction: column;align-items: center;background-color: white;padding-right: 0.2em;padding-left: 0.2em;position: relative;}#sk-container-id-1 div.sk-item {position: relative;z-index: 1;}#sk-container-id-1 div.sk-parallel {display: flex;align-items: stretch;justify-content: center;background-color: white;position: relative;}#sk-container-id-1 div.sk-item::before, #sk-container-id-1 div.sk-parallel-item::before {content: \"\";position: absolute;border-left: 1px solid gray;box-sizing: border-box;top: 0;bottom: 0;left: 50%;z-index: -1;}#sk-container-id-1 div.sk-parallel-item {display: flex;flex-direction: column;z-index: 1;position: relative;background-color: white;}#sk-container-id-1 div.sk-parallel-item:first-child::after {align-self: flex-end;width: 50%;}#sk-container-id-1 div.sk-parallel-item:last-child::after {align-self: flex-start;width: 50%;}#sk-container-id-1 div.sk-parallel-item:only-child::after {width: 0;}#sk-container-id-1 div.sk-dashed-wrapped {border: 1px dashed gray;margin: 0 0.4em 0.5em 0.4em;box-sizing: border-box;padding-bottom: 0.4em;background-color: white;}#sk-container-id-1 div.sk-label label {font-family: monospace;font-weight: bold;display: inline-block;line-height: 1.2em;}#sk-container-id-1 div.sk-label-container {text-align: center;}#sk-container-id-1 div.sk-container {/* jupyter's `normalize.less` sets `[hidden] { display: none; }` but bootstrap.min.css set `[hidden] { display: none !important; }` so we also need the `!important` here to be able to override the default hidden behavior on the sphinx rendered scikit-learn.org. See: https://github.com/scikit-learn/scikit-learn/issues/21755 */display: inline-block !important;position: relative;}#sk-container-id-1 div.sk-text-repr-fallback {display: none;}</style><div id=\"sk-container-id-1\" class=\"sk-top-container\"><div class=\"sk-text-repr-fallback\"><pre>AdaBoostClassifier(n_estimators=100, random_state=0)</pre><b>In a Jupyter environment, please rerun this cell to show the HTML representation or trust the notebook. <br />On GitHub, the HTML representation is unable to render, please try loading this page with nbviewer.org.</b></div><div class=\"sk-container\" hidden><div class=\"sk-item\"><div class=\"sk-estimator sk-toggleable\"><input class=\"sk-toggleable__control sk-hidden--visually\" id=\"sk-estimator-id-1\" type=\"checkbox\" checked><label for=\"sk-estimator-id-1\" class=\"sk-toggleable__label sk-toggleable__label-arrow\">AdaBoostClassifier</label><div class=\"sk-toggleable__content\"><pre>AdaBoostClassifier(n_estimators=100, random_state=0)</pre></div></div></div></div></div>"
            ]
          },
          "metadata": {},
          "execution_count": 29
        }
      ]
    },
    {
      "cell_type": "code",
      "source": [
        "# 학습된 개별 모델들이 각자 반환하는 예측 데이터 셋을 생성하고 개별 모델의 정확도 측정\n",
        "knn_pred = knn_clf.predict(X_test)\n",
        "rf_pred = rf_clf.predict(X_test)\n",
        "dt_pred = dt_clf.predict(X_test)\n",
        "ada_pred = ada_clf.predict(X_test)\n",
        "\n",
        "print('KNN 정확도:', np.round(accuracy_score(y_test, knn_pred),4))\n",
        "print('램덤포레스트 정확도:', np.round(accuracy_score(y_test, rf_pred),4))\n",
        "print('결정트리 정확도:', np.round(accuracy_score(y_test, dt_pred),4))\n",
        "print('에이다부스트 정확도:', np.round(accuracy_score(y_test, ada_pred),4))"
      ],
      "metadata": {
        "colab": {
          "base_uri": "https://localhost:8080/"
        },
        "id": "KZMoW8c6p_wb",
        "outputId": "803461c1-e8fc-48ad-9c33-167367d2e91d"
      },
      "execution_count": 31,
      "outputs": [
        {
          "output_type": "stream",
          "name": "stdout",
          "text": [
            "KNN 정확도: 0.9211\n",
            "램덤포레스트 정확도: 0.9649\n",
            "결정트리 정확도: 0.9123\n",
            "에이다부스트 정확도: 0.9561\n"
          ]
        }
      ]
    },
    {
      "cell_type": "code",
      "source": [
        "# Stacking\n",
        "pred = np.array([knn_pred,rf_pred,dt_pred,ada_pred])\n",
        "print(pred.shape)\n",
        "# transpose를 이용해 행과 열의 위치 교환, 컬럼 레벨로 각 알고리즘의 예측 결과를 피처로 만듦.\n",
        "pred = np.transpose(pred)\n",
        "print(pred.shape)"
      ],
      "metadata": {
        "colab": {
          "base_uri": "https://localhost:8080/"
        },
        "id": "LfiNh5JOrMMM",
        "outputId": "24fe2150-5448-4ea4-8532-8bd60a175120"
      },
      "execution_count": 32,
      "outputs": [
        {
          "output_type": "stream",
          "name": "stdout",
          "text": [
            "(4, 114)\n",
            "(114, 4)\n"
          ]
        }
      ]
    },
    {
      "cell_type": "code",
      "source": [
        "lr_final.fit(pred,y_test)\n",
        "final =lr_final.predict(pred)\n",
        "\n",
        "print('최종 메타 모델의 예측 정확도: {0:.4f}'.format(accuracy_score(y_test , final)))"
      ],
      "metadata": {
        "colab": {
          "base_uri": "https://localhost:8080/"
        },
        "id": "CPub3yA6sD7F",
        "outputId": "23eb8d82-23ca-494b-9cd4-d29d6e6b7da9"
      },
      "execution_count": 36,
      "outputs": [
        {
          "output_type": "stream",
          "name": "stdout",
          "text": [
            "최종 메타 모델의 예측 정확도: 0.9737\n"
          ]
        }
      ]
    }
  ]
}