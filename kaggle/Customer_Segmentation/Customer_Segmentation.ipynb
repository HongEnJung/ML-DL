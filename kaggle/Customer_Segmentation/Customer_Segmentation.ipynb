{
  "cells": [
    {
      "cell_type": "markdown",
      "metadata": {
        "id": "view-in-github",
        "colab_type": "text"
      },
      "source": [
        "<a href=\"https://colab.research.google.com/github/HongEnJung/ML-DL/blob/main/kaggle/Customer_Segmentation/Customer_Segmentation.ipynb\" target=\"_parent\"><img src=\"https://colab.research.google.com/assets/colab-badge.svg\" alt=\"Open In Colab\"/></a>"
      ]
    },
    {
      "cell_type": "code",
      "execution_count": 1,
      "metadata": {
        "colab": {
          "base_uri": "https://localhost:8080/",
          "height": 17
        },
        "id": "p6bDRmMXXzAG",
        "outputId": "fb31fe36-c7d2-4d1c-d66d-6b20f0e6d4b9"
      },
      "outputs": [
        {
          "output_type": "display_data",
          "data": {
            "text/html": [
              "        <script type=\"text/javascript\">\n",
              "        window.PlotlyConfig = {MathJaxConfig: 'local'};\n",
              "        if (window.MathJax && window.MathJax.Hub && window.MathJax.Hub.Config) {window.MathJax.Hub.Config({SVG: {font: \"STIX-Web\"}});}\n",
              "        if (typeof require !== 'undefined') {\n",
              "        require.undef(\"plotly\");\n",
              "        requirejs.config({\n",
              "            paths: {\n",
              "                'plotly': ['https://cdn.plot.ly/plotly-2.18.2.min']\n",
              "            }\n",
              "        });\n",
              "        require(['plotly'], function(Plotly) {\n",
              "            window._Plotly = Plotly;\n",
              "        });\n",
              "        }\n",
              "        </script>\n",
              "        "
            ]
          },
          "metadata": {}
        }
      ],
      "source": [
        "import pandas as pd\n",
        "import numpy as np\n",
        "import matplotlib as mpl\n",
        "import matplotlib.pyplot as plt\n",
        "import seaborn as sns\n",
        "import datetime, nltk, warnings\n",
        "import matplotlib.cm as cm\n",
        "import itertools\n",
        "from pathlib import Path\n",
        "from sklearn.preprocessing import StandardScaler\n",
        "from sklearn.cluster import KMeans\n",
        "from sklearn.metrics import silhouette_samples, silhouette_score\n",
        "from sklearn import preprocessing, model_selection, metrics, feature_selection\n",
        "from sklearn.model_selection import GridSearchCV, learning_curve\n",
        "from sklearn.svm import SVC\n",
        "from sklearn.metrics import confusion_matrix\n",
        "from sklearn import neighbors, linear_model, svm, tree, ensemble\n",
        "from wordcloud import WordCloud, STOPWORDS\n",
        "from sklearn.ensemble import AdaBoostClassifier\n",
        "from sklearn.decomposition import PCA\n",
        "from IPython.display import display, HTML\n",
        "import plotly.graph_objs as go\n",
        "from plotly.offline import init_notebook_mode, iplot\n",
        "warnings.filterwarnings('ignore')\n",
        "init_notebook_mode(connected =True)\n",
        "warnings.filterwarnings('ignore')\n",
        "plt.rcParams['patch.force_edgecolor']=True\n",
        "plt.style.use('fivethirtyeight')\n",
        "mpl.rc('patch', edgecolor = 'dimgray', linewidth=1)\n",
        "%matplotlib inline"
      ]
    },
    {
      "cell_type": "code",
      "execution_count": 2,
      "metadata": {
        "colab": {
          "base_uri": "https://localhost:8080/"
        },
        "id": "NV_haWBaeRBY",
        "outputId": "f2d66973-b8bf-4c5d-b233-78355a5757bc"
      },
      "outputs": [
        {
          "output_type": "stream",
          "name": "stdout",
          "text": [
            "DataFrame dimensions: (541909, 8)\n"
          ]
        }
      ],
      "source": [
        "# 파일 불러오기\n",
        "df_initial = pd.read_csv('/content/drive/MyDrive/캐글/customer segmentation/data.csv', encoding='ISO-8859-1',dtype={'CustomerID':str, 'InvoiceID':str})\n",
        "print('DataFrame dimensions:', df_initial.shape)\n",
        "\n",
        "# 날짜로 변경\n",
        "df_initial['InvoiceDate']= pd.to_datetime(df_initial['InvoiceDate'])\n"
      ]
    },
    {
      "cell_type": "code",
      "execution_count": 3,
      "metadata": {
        "colab": {
          "base_uri": "https://localhost:8080/"
        },
        "id": "feHdN9pRfAAy",
        "outputId": "2146228a-8cc2-4f6d-f5f8-39cd28c8dc2d"
      },
      "outputs": [
        {
          "output_type": "stream",
          "name": "stdout",
          "text": [
            "<class 'pandas.core.frame.DataFrame'>\n",
            "RangeIndex: 541909 entries, 0 to 541908\n",
            "Data columns (total 8 columns):\n",
            " #   Column       Non-Null Count   Dtype         \n",
            "---  ------       --------------   -----         \n",
            " 0   InvoiceNo    541909 non-null  object        \n",
            " 1   StockCode    541909 non-null  object        \n",
            " 2   Description  540455 non-null  object        \n",
            " 3   Quantity     541909 non-null  int64         \n",
            " 4   InvoiceDate  541909 non-null  datetime64[ns]\n",
            " 5   UnitPrice    541909 non-null  float64       \n",
            " 6   CustomerID   406829 non-null  object        \n",
            " 7   Country      541909 non-null  object        \n",
            "dtypes: datetime64[ns](1), float64(1), int64(1), object(5)\n",
            "memory usage: 33.1+ MB\n"
          ]
        }
      ],
      "source": [
        "df_initial.info()"
      ]
    },
    {
      "cell_type": "code",
      "execution_count": 4,
      "metadata": {
        "colab": {
          "base_uri": "https://localhost:8080/",
          "height": 206
        },
        "id": "qd3cecVnfQIC",
        "outputId": "87e03f09-a34b-4512-9426-7827ad6a43c0"
      },
      "outputs": [
        {
          "output_type": "execute_result",
          "data": {
            "text/plain": [
              "  InvoiceNo StockCode                          Description  Quantity  \\\n",
              "0    536365    85123A   WHITE HANGING HEART T-LIGHT HOLDER         6   \n",
              "1    536365     71053                  WHITE METAL LANTERN         6   \n",
              "2    536365    84406B       CREAM CUPID HEARTS COAT HANGER         8   \n",
              "3    536365    84029G  KNITTED UNION FLAG HOT WATER BOTTLE         6   \n",
              "4    536365    84029E       RED WOOLLY HOTTIE WHITE HEART.         6   \n",
              "\n",
              "          InvoiceDate  UnitPrice CustomerID         Country  \n",
              "0 2010-12-01 08:26:00       2.55      17850  United Kingdom  \n",
              "1 2010-12-01 08:26:00       3.39      17850  United Kingdom  \n",
              "2 2010-12-01 08:26:00       2.75      17850  United Kingdom  \n",
              "3 2010-12-01 08:26:00       3.39      17850  United Kingdom  \n",
              "4 2010-12-01 08:26:00       3.39      17850  United Kingdom  "
            ],
            "text/html": [
              "\n",
              "  <div id=\"df-73e7402c-60e9-4c9c-a69b-1bcca0fdb0a6\">\n",
              "    <div class=\"colab-df-container\">\n",
              "      <div>\n",
              "<style scoped>\n",
              "    .dataframe tbody tr th:only-of-type {\n",
              "        vertical-align: middle;\n",
              "    }\n",
              "\n",
              "    .dataframe tbody tr th {\n",
              "        vertical-align: top;\n",
              "    }\n",
              "\n",
              "    .dataframe thead th {\n",
              "        text-align: right;\n",
              "    }\n",
              "</style>\n",
              "<table border=\"1\" class=\"dataframe\">\n",
              "  <thead>\n",
              "    <tr style=\"text-align: right;\">\n",
              "      <th></th>\n",
              "      <th>InvoiceNo</th>\n",
              "      <th>StockCode</th>\n",
              "      <th>Description</th>\n",
              "      <th>Quantity</th>\n",
              "      <th>InvoiceDate</th>\n",
              "      <th>UnitPrice</th>\n",
              "      <th>CustomerID</th>\n",
              "      <th>Country</th>\n",
              "    </tr>\n",
              "  </thead>\n",
              "  <tbody>\n",
              "    <tr>\n",
              "      <th>0</th>\n",
              "      <td>536365</td>\n",
              "      <td>85123A</td>\n",
              "      <td>WHITE HANGING HEART T-LIGHT HOLDER</td>\n",
              "      <td>6</td>\n",
              "      <td>2010-12-01 08:26:00</td>\n",
              "      <td>2.55</td>\n",
              "      <td>17850</td>\n",
              "      <td>United Kingdom</td>\n",
              "    </tr>\n",
              "    <tr>\n",
              "      <th>1</th>\n",
              "      <td>536365</td>\n",
              "      <td>71053</td>\n",
              "      <td>WHITE METAL LANTERN</td>\n",
              "      <td>6</td>\n",
              "      <td>2010-12-01 08:26:00</td>\n",
              "      <td>3.39</td>\n",
              "      <td>17850</td>\n",
              "      <td>United Kingdom</td>\n",
              "    </tr>\n",
              "    <tr>\n",
              "      <th>2</th>\n",
              "      <td>536365</td>\n",
              "      <td>84406B</td>\n",
              "      <td>CREAM CUPID HEARTS COAT HANGER</td>\n",
              "      <td>8</td>\n",
              "      <td>2010-12-01 08:26:00</td>\n",
              "      <td>2.75</td>\n",
              "      <td>17850</td>\n",
              "      <td>United Kingdom</td>\n",
              "    </tr>\n",
              "    <tr>\n",
              "      <th>3</th>\n",
              "      <td>536365</td>\n",
              "      <td>84029G</td>\n",
              "      <td>KNITTED UNION FLAG HOT WATER BOTTLE</td>\n",
              "      <td>6</td>\n",
              "      <td>2010-12-01 08:26:00</td>\n",
              "      <td>3.39</td>\n",
              "      <td>17850</td>\n",
              "      <td>United Kingdom</td>\n",
              "    </tr>\n",
              "    <tr>\n",
              "      <th>4</th>\n",
              "      <td>536365</td>\n",
              "      <td>84029E</td>\n",
              "      <td>RED WOOLLY HOTTIE WHITE HEART.</td>\n",
              "      <td>6</td>\n",
              "      <td>2010-12-01 08:26:00</td>\n",
              "      <td>3.39</td>\n",
              "      <td>17850</td>\n",
              "      <td>United Kingdom</td>\n",
              "    </tr>\n",
              "  </tbody>\n",
              "</table>\n",
              "</div>\n",
              "      <button class=\"colab-df-convert\" onclick=\"convertToInteractive('df-73e7402c-60e9-4c9c-a69b-1bcca0fdb0a6')\"\n",
              "              title=\"Convert this dataframe to an interactive table.\"\n",
              "              style=\"display:none;\">\n",
              "        \n",
              "  <svg xmlns=\"http://www.w3.org/2000/svg\" height=\"24px\"viewBox=\"0 0 24 24\"\n",
              "       width=\"24px\">\n",
              "    <path d=\"M0 0h24v24H0V0z\" fill=\"none\"/>\n",
              "    <path d=\"M18.56 5.44l.94 2.06.94-2.06 2.06-.94-2.06-.94-.94-2.06-.94 2.06-2.06.94zm-11 1L8.5 8.5l.94-2.06 2.06-.94-2.06-.94L8.5 2.5l-.94 2.06-2.06.94zm10 10l.94 2.06.94-2.06 2.06-.94-2.06-.94-.94-2.06-.94 2.06-2.06.94z\"/><path d=\"M17.41 7.96l-1.37-1.37c-.4-.4-.92-.59-1.43-.59-.52 0-1.04.2-1.43.59L10.3 9.45l-7.72 7.72c-.78.78-.78 2.05 0 2.83L4 21.41c.39.39.9.59 1.41.59.51 0 1.02-.2 1.41-.59l7.78-7.78 2.81-2.81c.8-.78.8-2.07 0-2.86zM5.41 20L4 18.59l7.72-7.72 1.47 1.35L5.41 20z\"/>\n",
              "  </svg>\n",
              "      </button>\n",
              "      \n",
              "  <style>\n",
              "    .colab-df-container {\n",
              "      display:flex;\n",
              "      flex-wrap:wrap;\n",
              "      gap: 12px;\n",
              "    }\n",
              "\n",
              "    .colab-df-convert {\n",
              "      background-color: #E8F0FE;\n",
              "      border: none;\n",
              "      border-radius: 50%;\n",
              "      cursor: pointer;\n",
              "      display: none;\n",
              "      fill: #1967D2;\n",
              "      height: 32px;\n",
              "      padding: 0 0 0 0;\n",
              "      width: 32px;\n",
              "    }\n",
              "\n",
              "    .colab-df-convert:hover {\n",
              "      background-color: #E2EBFA;\n",
              "      box-shadow: 0px 1px 2px rgba(60, 64, 67, 0.3), 0px 1px 3px 1px rgba(60, 64, 67, 0.15);\n",
              "      fill: #174EA6;\n",
              "    }\n",
              "\n",
              "    [theme=dark] .colab-df-convert {\n",
              "      background-color: #3B4455;\n",
              "      fill: #D2E3FC;\n",
              "    }\n",
              "\n",
              "    [theme=dark] .colab-df-convert:hover {\n",
              "      background-color: #434B5C;\n",
              "      box-shadow: 0px 1px 3px 1px rgba(0, 0, 0, 0.15);\n",
              "      filter: drop-shadow(0px 1px 2px rgba(0, 0, 0, 0.3));\n",
              "      fill: #FFFFFF;\n",
              "    }\n",
              "  </style>\n",
              "\n",
              "      <script>\n",
              "        const buttonEl =\n",
              "          document.querySelector('#df-73e7402c-60e9-4c9c-a69b-1bcca0fdb0a6 button.colab-df-convert');\n",
              "        buttonEl.style.display =\n",
              "          google.colab.kernel.accessAllowed ? 'block' : 'none';\n",
              "\n",
              "        async function convertToInteractive(key) {\n",
              "          const element = document.querySelector('#df-73e7402c-60e9-4c9c-a69b-1bcca0fdb0a6');\n",
              "          const dataTable =\n",
              "            await google.colab.kernel.invokeFunction('convertToInteractive',\n",
              "                                                     [key], {});\n",
              "          if (!dataTable) return;\n",
              "\n",
              "          const docLinkHtml = 'Like what you see? Visit the ' +\n",
              "            '<a target=\"_blank\" href=https://colab.research.google.com/notebooks/data_table.ipynb>data table notebook</a>'\n",
              "            + ' to learn more about interactive tables.';\n",
              "          element.innerHTML = '';\n",
              "          dataTable['output_type'] = 'display_data';\n",
              "          await google.colab.output.renderOutput(dataTable, element);\n",
              "          const docLink = document.createElement('div');\n",
              "          docLink.innerHTML = docLinkHtml;\n",
              "          element.appendChild(docLink);\n",
              "        }\n",
              "      </script>\n",
              "    </div>\n",
              "  </div>\n",
              "  "
            ]
          },
          "metadata": {},
          "execution_count": 4
        }
      ],
      "source": [
        "df_initial.head(5)"
      ]
    },
    {
      "cell_type": "code",
      "execution_count": 5,
      "metadata": {
        "colab": {
          "base_uri": "https://localhost:8080/"
        },
        "id": "fV01mNyLiFQj",
        "outputId": "5fe8e48e-450b-4086-b302-a0405a87521e"
      },
      "outputs": [
        {
          "output_type": "stream",
          "name": "stdout",
          "text": [
            "DataFrame dimensions: (406829, 8)\n"
          ]
        }
      ],
      "source": [
        "df_initial.dropna(axis =0, subset =['CustomerID'], inplace=True)\n",
        "print('DataFrame dimensions:', df_initial.shape)"
      ]
    },
    {
      "cell_type": "code",
      "execution_count": 6,
      "metadata": {
        "colab": {
          "base_uri": "https://localhost:8080/"
        },
        "id": "je2_kCzVi4wV",
        "outputId": "38a93733-17c4-4392-cbe7-542e1a3e01f5"
      },
      "outputs": [
        {
          "output_type": "execute_result",
          "data": {
            "text/plain": [
              "InvoiceNo      0\n",
              "StockCode      0\n",
              "Description    0\n",
              "Quantity       0\n",
              "InvoiceDate    0\n",
              "UnitPrice      0\n",
              "CustomerID     0\n",
              "Country        0\n",
              "dtype: int64"
            ]
          },
          "metadata": {},
          "execution_count": 6
        }
      ],
      "source": [
        "df_initial.isnull().sum()"
      ]
    },
    {
      "cell_type": "code",
      "execution_count": 7,
      "metadata": {
        "colab": {
          "base_uri": "https://localhost:8080/"
        },
        "id": "KiZCw29Yi6pK",
        "outputId": "f2618b8e-0685-4300-f7db-aa67c4661bc6"
      },
      "outputs": [
        {
          "output_type": "stream",
          "name": "stdout",
          "text": [
            "Entrees dupliquees:5225\n"
          ]
        }
      ],
      "source": [
        "# 중복된 행 제거\n",
        "print('Entrees dupliquees:{}'.format(df_initial.duplicated().sum()))\n",
        "df_initial.drop_duplicates(inplace = True)"
      ]
    },
    {
      "cell_type": "markdown",
      "metadata": {
        "id": "wqA0eSAnAhf4"
      },
      "source": [
        "InvoiceNo (송장 번호): 거래를 나타내는 송장 번호입니다. 6자리의 정수로 각 거래마다 고유하게 할당됩니다. 만약 이 코드가 문자 'c'로 시작한다면, 해당 거래는 취소된 것을 나타냅니다.\n",
        "\n",
        "StockCode (상품 코드): 제품(아이템)을 식별하는 상품 코드입니다. 각 제품에 고유하게 할당된 5자리의 정수로 표현됩니다.\n",
        "\n",
        "Description (상품 설명): 제품(아이템)의 이름을 나타내는 변수입니다. 텍스트 형태로 상품의 이름이 기록되어 있습니다.\n",
        "\n",
        "Quantity (수량): 각 제품(아이템)의 거래당 수량입니다. 수치 형태로 표현됩니다.\n",
        "\n",
        "InvoiceDate (송장 날짜): 거래가 생성된 날짜와 시간을 나타내는 변수입니다. 시간 정보를 포함한 날짜 데이터로 표현됩니다.\n",
        "\n",
        "UnitPrice (단가): 제품(아이템)의 단위 가격을 나타내는 변수입니다. 영국 파운드(£)로 표현되는 수치 형태입니다.\n",
        "\n",
        "CustomerID (고객 번호): 고객을 식별하는 고유한 5자리 정수입니다. 각 고객마다 고유한 번호가 할당됩니다.\n",
        "\n",
        "Country (국가): 각 고객이 거주하는 국가의 이름을 나타내는 변수입니다. 텍스트 형태로 국가 이름이 기록되어 있습니다."
      ]
    },
    {
      "cell_type": "code",
      "execution_count": 8,
      "metadata": {
        "colab": {
          "base_uri": "https://localhost:8080/"
        },
        "id": "Nd-hAf-QAFKm",
        "outputId": "040d8fa4-85ea-4920-ef47-d75204af3958"
      },
      "outputs": [
        {
          "output_type": "stream",
          "name": "stdout",
          "text": [
            "['United Kingdom' 'France' 'Australia' 'Netherlands' 'Germany' 'Norway'\n",
            " 'EIRE' 'Switzerland' 'Spain' 'Poland' 'Portugal' 'Italy' 'Belgium'\n",
            " 'Lithuania' 'Japan' 'Iceland' 'Channel Islands' 'Denmark' 'Cyprus'\n",
            " 'Sweden' 'Austria' 'Israel' 'Finland' 'Greece' 'Singapore' 'Lebanon'\n",
            " 'United Arab Emirates' 'Saudi Arabia' 'Czech Republic' 'Canada'\n",
            " 'Unspecified' 'Brazil' 'USA' 'European Community' 'Bahrain' 'Malta' 'RSA'] \n",
            "\n",
            "국가 수:  37\n"
          ]
        }
      ],
      "source": [
        "print(df_initial['Country'].unique(),'\\n')\n",
        "print(\"국가 수: \",len(df_initial['Country'].unique()))"
      ]
    },
    {
      "cell_type": "code",
      "execution_count": 9,
      "metadata": {
        "id": "XDm5VBWuZ7FL"
      },
      "outputs": [],
      "source": [
        "temp = df_initial[['CustomerID', 'InvoiceNo', 'Country']].groupby(['CustomerID', 'InvoiceNo', 'Country']).count()\n",
        "temp = temp.reset_index(drop = False)\n",
        "countries = temp['Country'].value_counts()"
      ]
    },
    {
      "cell_type": "code",
      "execution_count": 10,
      "metadata": {
        "colab": {
          "base_uri": "https://localhost:8080/",
          "height": 542
        },
        "id": "bwCnkHm2BYZp",
        "outputId": "18589bbd-8d76-48a9-e847-3104ac6a2929"
      },
      "outputs": [
        {
          "output_type": "display_data",
          "data": {
            "application/vnd.plotly.v1+json": {
              "data": [
                {
                  "colorbar": {
                    "title": {
                      "text": "Order nb."
                    }
                  },
                  "colorscale": [
                    [
                      0,
                      "rgb(224,255,255)"
                    ],
                    [
                      0.01,
                      "rgb(166,206,227)"
                    ],
                    [
                      0.02,
                      "rgb(31,120,180)"
                    ],
                    [
                      0.03,
                      "rgb(178,223,138)"
                    ],
                    [
                      0.05,
                      "rgb(51,160,44)"
                    ],
                    [
                      0.1,
                      "rgb(251,154,153)"
                    ],
                    [
                      0.2,
                      "rgb(255,255,0)"
                    ],
                    [
                      1,
                      "rgb(227,26,28)"
                    ]
                  ],
                  "locationmode": "country names",
                  "locations": [
                    "United Kingdom",
                    "Germany",
                    "France",
                    "EIRE",
                    "Belgium",
                    "Spain",
                    "Netherlands",
                    "Switzerland",
                    "Portugal",
                    "Australia",
                    "Italy",
                    "Finland",
                    "Sweden",
                    "Norway",
                    "Channel Islands",
                    "Japan",
                    "Poland",
                    "Denmark",
                    "Cyprus",
                    "Austria",
                    "Singapore",
                    "Malta",
                    "Unspecified",
                    "USA",
                    "Iceland",
                    "Israel",
                    "Canada",
                    "Greece",
                    "Czech Republic",
                    "European Community",
                    "Lithuania",
                    "United Arab Emirates",
                    "Saudi Arabia",
                    "Bahrain",
                    "RSA",
                    "Lebanon",
                    "Brazil"
                  ],
                  "reversescale": false,
                  "text": [
                    "United Kingdom",
                    "Germany",
                    "France",
                    "EIRE",
                    "Belgium",
                    "Spain",
                    "Netherlands",
                    "Switzerland",
                    "Portugal",
                    "Australia",
                    "Italy",
                    "Finland",
                    "Sweden",
                    "Norway",
                    "Channel Islands",
                    "Japan",
                    "Poland",
                    "Denmark",
                    "Cyprus",
                    "Austria",
                    "Singapore",
                    "Malta",
                    "Unspecified",
                    "USA",
                    "Iceland",
                    "Israel",
                    "Canada",
                    "Greece",
                    "Czech Republic",
                    "European Community",
                    "Lithuania",
                    "United Arab Emirates",
                    "Saudi Arabia",
                    "Bahrain",
                    "RSA",
                    "Lebanon",
                    "Brazil"
                  ],
                  "z": [
                    19857,
                    603,
                    458,
                    319,
                    119,
                    105,
                    101,
                    71,
                    70,
                    69,
                    55,
                    48,
                    46,
                    40,
                    33,
                    28,
                    24,
                    21,
                    20,
                    19,
                    10,
                    10,
                    8,
                    7,
                    7,
                    6,
                    6,
                    6,
                    5,
                    5,
                    4,
                    3,
                    2,
                    2,
                    1,
                    1,
                    1
                  ],
                  "type": "choropleth"
                }
              ],
              "layout": {
                "geo": {
                  "projection": {
                    "type": "mercator"
                  },
                  "showframe": true
                },
                "title": {
                  "text": "Number of orders per country"
                },
                "template": {
                  "data": {
                    "histogram2dcontour": [
                      {
                        "type": "histogram2dcontour",
                        "colorbar": {
                          "outlinewidth": 0,
                          "ticks": ""
                        },
                        "colorscale": [
                          [
                            0,
                            "#0d0887"
                          ],
                          [
                            0.1111111111111111,
                            "#46039f"
                          ],
                          [
                            0.2222222222222222,
                            "#7201a8"
                          ],
                          [
                            0.3333333333333333,
                            "#9c179e"
                          ],
                          [
                            0.4444444444444444,
                            "#bd3786"
                          ],
                          [
                            0.5555555555555556,
                            "#d8576b"
                          ],
                          [
                            0.6666666666666666,
                            "#ed7953"
                          ],
                          [
                            0.7777777777777778,
                            "#fb9f3a"
                          ],
                          [
                            0.8888888888888888,
                            "#fdca26"
                          ],
                          [
                            1,
                            "#f0f921"
                          ]
                        ]
                      }
                    ],
                    "choropleth": [
                      {
                        "type": "choropleth",
                        "colorbar": {
                          "outlinewidth": 0,
                          "ticks": ""
                        }
                      }
                    ],
                    "histogram2d": [
                      {
                        "type": "histogram2d",
                        "colorbar": {
                          "outlinewidth": 0,
                          "ticks": ""
                        },
                        "colorscale": [
                          [
                            0,
                            "#0d0887"
                          ],
                          [
                            0.1111111111111111,
                            "#46039f"
                          ],
                          [
                            0.2222222222222222,
                            "#7201a8"
                          ],
                          [
                            0.3333333333333333,
                            "#9c179e"
                          ],
                          [
                            0.4444444444444444,
                            "#bd3786"
                          ],
                          [
                            0.5555555555555556,
                            "#d8576b"
                          ],
                          [
                            0.6666666666666666,
                            "#ed7953"
                          ],
                          [
                            0.7777777777777778,
                            "#fb9f3a"
                          ],
                          [
                            0.8888888888888888,
                            "#fdca26"
                          ],
                          [
                            1,
                            "#f0f921"
                          ]
                        ]
                      }
                    ],
                    "heatmap": [
                      {
                        "type": "heatmap",
                        "colorbar": {
                          "outlinewidth": 0,
                          "ticks": ""
                        },
                        "colorscale": [
                          [
                            0,
                            "#0d0887"
                          ],
                          [
                            0.1111111111111111,
                            "#46039f"
                          ],
                          [
                            0.2222222222222222,
                            "#7201a8"
                          ],
                          [
                            0.3333333333333333,
                            "#9c179e"
                          ],
                          [
                            0.4444444444444444,
                            "#bd3786"
                          ],
                          [
                            0.5555555555555556,
                            "#d8576b"
                          ],
                          [
                            0.6666666666666666,
                            "#ed7953"
                          ],
                          [
                            0.7777777777777778,
                            "#fb9f3a"
                          ],
                          [
                            0.8888888888888888,
                            "#fdca26"
                          ],
                          [
                            1,
                            "#f0f921"
                          ]
                        ]
                      }
                    ],
                    "heatmapgl": [
                      {
                        "type": "heatmapgl",
                        "colorbar": {
                          "outlinewidth": 0,
                          "ticks": ""
                        },
                        "colorscale": [
                          [
                            0,
                            "#0d0887"
                          ],
                          [
                            0.1111111111111111,
                            "#46039f"
                          ],
                          [
                            0.2222222222222222,
                            "#7201a8"
                          ],
                          [
                            0.3333333333333333,
                            "#9c179e"
                          ],
                          [
                            0.4444444444444444,
                            "#bd3786"
                          ],
                          [
                            0.5555555555555556,
                            "#d8576b"
                          ],
                          [
                            0.6666666666666666,
                            "#ed7953"
                          ],
                          [
                            0.7777777777777778,
                            "#fb9f3a"
                          ],
                          [
                            0.8888888888888888,
                            "#fdca26"
                          ],
                          [
                            1,
                            "#f0f921"
                          ]
                        ]
                      }
                    ],
                    "contourcarpet": [
                      {
                        "type": "contourcarpet",
                        "colorbar": {
                          "outlinewidth": 0,
                          "ticks": ""
                        }
                      }
                    ],
                    "contour": [
                      {
                        "type": "contour",
                        "colorbar": {
                          "outlinewidth": 0,
                          "ticks": ""
                        },
                        "colorscale": [
                          [
                            0,
                            "#0d0887"
                          ],
                          [
                            0.1111111111111111,
                            "#46039f"
                          ],
                          [
                            0.2222222222222222,
                            "#7201a8"
                          ],
                          [
                            0.3333333333333333,
                            "#9c179e"
                          ],
                          [
                            0.4444444444444444,
                            "#bd3786"
                          ],
                          [
                            0.5555555555555556,
                            "#d8576b"
                          ],
                          [
                            0.6666666666666666,
                            "#ed7953"
                          ],
                          [
                            0.7777777777777778,
                            "#fb9f3a"
                          ],
                          [
                            0.8888888888888888,
                            "#fdca26"
                          ],
                          [
                            1,
                            "#f0f921"
                          ]
                        ]
                      }
                    ],
                    "surface": [
                      {
                        "type": "surface",
                        "colorbar": {
                          "outlinewidth": 0,
                          "ticks": ""
                        },
                        "colorscale": [
                          [
                            0,
                            "#0d0887"
                          ],
                          [
                            0.1111111111111111,
                            "#46039f"
                          ],
                          [
                            0.2222222222222222,
                            "#7201a8"
                          ],
                          [
                            0.3333333333333333,
                            "#9c179e"
                          ],
                          [
                            0.4444444444444444,
                            "#bd3786"
                          ],
                          [
                            0.5555555555555556,
                            "#d8576b"
                          ],
                          [
                            0.6666666666666666,
                            "#ed7953"
                          ],
                          [
                            0.7777777777777778,
                            "#fb9f3a"
                          ],
                          [
                            0.8888888888888888,
                            "#fdca26"
                          ],
                          [
                            1,
                            "#f0f921"
                          ]
                        ]
                      }
                    ],
                    "mesh3d": [
                      {
                        "type": "mesh3d",
                        "colorbar": {
                          "outlinewidth": 0,
                          "ticks": ""
                        }
                      }
                    ],
                    "scatter": [
                      {
                        "fillpattern": {
                          "fillmode": "overlay",
                          "size": 10,
                          "solidity": 0.2
                        },
                        "type": "scatter"
                      }
                    ],
                    "parcoords": [
                      {
                        "type": "parcoords",
                        "line": {
                          "colorbar": {
                            "outlinewidth": 0,
                            "ticks": ""
                          }
                        }
                      }
                    ],
                    "scatterpolargl": [
                      {
                        "type": "scatterpolargl",
                        "marker": {
                          "colorbar": {
                            "outlinewidth": 0,
                            "ticks": ""
                          }
                        }
                      }
                    ],
                    "bar": [
                      {
                        "error_x": {
                          "color": "#2a3f5f"
                        },
                        "error_y": {
                          "color": "#2a3f5f"
                        },
                        "marker": {
                          "line": {
                            "color": "#E5ECF6",
                            "width": 0.5
                          },
                          "pattern": {
                            "fillmode": "overlay",
                            "size": 10,
                            "solidity": 0.2
                          }
                        },
                        "type": "bar"
                      }
                    ],
                    "scattergeo": [
                      {
                        "type": "scattergeo",
                        "marker": {
                          "colorbar": {
                            "outlinewidth": 0,
                            "ticks": ""
                          }
                        }
                      }
                    ],
                    "scatterpolar": [
                      {
                        "type": "scatterpolar",
                        "marker": {
                          "colorbar": {
                            "outlinewidth": 0,
                            "ticks": ""
                          }
                        }
                      }
                    ],
                    "histogram": [
                      {
                        "marker": {
                          "pattern": {
                            "fillmode": "overlay",
                            "size": 10,
                            "solidity": 0.2
                          }
                        },
                        "type": "histogram"
                      }
                    ],
                    "scattergl": [
                      {
                        "type": "scattergl",
                        "marker": {
                          "colorbar": {
                            "outlinewidth": 0,
                            "ticks": ""
                          }
                        }
                      }
                    ],
                    "scatter3d": [
                      {
                        "type": "scatter3d",
                        "line": {
                          "colorbar": {
                            "outlinewidth": 0,
                            "ticks": ""
                          }
                        },
                        "marker": {
                          "colorbar": {
                            "outlinewidth": 0,
                            "ticks": ""
                          }
                        }
                      }
                    ],
                    "scattermapbox": [
                      {
                        "type": "scattermapbox",
                        "marker": {
                          "colorbar": {
                            "outlinewidth": 0,
                            "ticks": ""
                          }
                        }
                      }
                    ],
                    "scatterternary": [
                      {
                        "type": "scatterternary",
                        "marker": {
                          "colorbar": {
                            "outlinewidth": 0,
                            "ticks": ""
                          }
                        }
                      }
                    ],
                    "scattercarpet": [
                      {
                        "type": "scattercarpet",
                        "marker": {
                          "colorbar": {
                            "outlinewidth": 0,
                            "ticks": ""
                          }
                        }
                      }
                    ],
                    "carpet": [
                      {
                        "aaxis": {
                          "endlinecolor": "#2a3f5f",
                          "gridcolor": "white",
                          "linecolor": "white",
                          "minorgridcolor": "white",
                          "startlinecolor": "#2a3f5f"
                        },
                        "baxis": {
                          "endlinecolor": "#2a3f5f",
                          "gridcolor": "white",
                          "linecolor": "white",
                          "minorgridcolor": "white",
                          "startlinecolor": "#2a3f5f"
                        },
                        "type": "carpet"
                      }
                    ],
                    "table": [
                      {
                        "cells": {
                          "fill": {
                            "color": "#EBF0F8"
                          },
                          "line": {
                            "color": "white"
                          }
                        },
                        "header": {
                          "fill": {
                            "color": "#C8D4E3"
                          },
                          "line": {
                            "color": "white"
                          }
                        },
                        "type": "table"
                      }
                    ],
                    "barpolar": [
                      {
                        "marker": {
                          "line": {
                            "color": "#E5ECF6",
                            "width": 0.5
                          },
                          "pattern": {
                            "fillmode": "overlay",
                            "size": 10,
                            "solidity": 0.2
                          }
                        },
                        "type": "barpolar"
                      }
                    ],
                    "pie": [
                      {
                        "automargin": true,
                        "type": "pie"
                      }
                    ]
                  },
                  "layout": {
                    "autotypenumbers": "strict",
                    "colorway": [
                      "#636efa",
                      "#EF553B",
                      "#00cc96",
                      "#ab63fa",
                      "#FFA15A",
                      "#19d3f3",
                      "#FF6692",
                      "#B6E880",
                      "#FF97FF",
                      "#FECB52"
                    ],
                    "font": {
                      "color": "#2a3f5f"
                    },
                    "hovermode": "closest",
                    "hoverlabel": {
                      "align": "left"
                    },
                    "paper_bgcolor": "white",
                    "plot_bgcolor": "#E5ECF6",
                    "polar": {
                      "bgcolor": "#E5ECF6",
                      "angularaxis": {
                        "gridcolor": "white",
                        "linecolor": "white",
                        "ticks": ""
                      },
                      "radialaxis": {
                        "gridcolor": "white",
                        "linecolor": "white",
                        "ticks": ""
                      }
                    },
                    "ternary": {
                      "bgcolor": "#E5ECF6",
                      "aaxis": {
                        "gridcolor": "white",
                        "linecolor": "white",
                        "ticks": ""
                      },
                      "baxis": {
                        "gridcolor": "white",
                        "linecolor": "white",
                        "ticks": ""
                      },
                      "caxis": {
                        "gridcolor": "white",
                        "linecolor": "white",
                        "ticks": ""
                      }
                    },
                    "coloraxis": {
                      "colorbar": {
                        "outlinewidth": 0,
                        "ticks": ""
                      }
                    },
                    "colorscale": {
                      "sequential": [
                        [
                          0,
                          "#0d0887"
                        ],
                        [
                          0.1111111111111111,
                          "#46039f"
                        ],
                        [
                          0.2222222222222222,
                          "#7201a8"
                        ],
                        [
                          0.3333333333333333,
                          "#9c179e"
                        ],
                        [
                          0.4444444444444444,
                          "#bd3786"
                        ],
                        [
                          0.5555555555555556,
                          "#d8576b"
                        ],
                        [
                          0.6666666666666666,
                          "#ed7953"
                        ],
                        [
                          0.7777777777777778,
                          "#fb9f3a"
                        ],
                        [
                          0.8888888888888888,
                          "#fdca26"
                        ],
                        [
                          1,
                          "#f0f921"
                        ]
                      ],
                      "sequentialminus": [
                        [
                          0,
                          "#0d0887"
                        ],
                        [
                          0.1111111111111111,
                          "#46039f"
                        ],
                        [
                          0.2222222222222222,
                          "#7201a8"
                        ],
                        [
                          0.3333333333333333,
                          "#9c179e"
                        ],
                        [
                          0.4444444444444444,
                          "#bd3786"
                        ],
                        [
                          0.5555555555555556,
                          "#d8576b"
                        ],
                        [
                          0.6666666666666666,
                          "#ed7953"
                        ],
                        [
                          0.7777777777777778,
                          "#fb9f3a"
                        ],
                        [
                          0.8888888888888888,
                          "#fdca26"
                        ],
                        [
                          1,
                          "#f0f921"
                        ]
                      ],
                      "diverging": [
                        [
                          0,
                          "#8e0152"
                        ],
                        [
                          0.1,
                          "#c51b7d"
                        ],
                        [
                          0.2,
                          "#de77ae"
                        ],
                        [
                          0.3,
                          "#f1b6da"
                        ],
                        [
                          0.4,
                          "#fde0ef"
                        ],
                        [
                          0.5,
                          "#f7f7f7"
                        ],
                        [
                          0.6,
                          "#e6f5d0"
                        ],
                        [
                          0.7,
                          "#b8e186"
                        ],
                        [
                          0.8,
                          "#7fbc41"
                        ],
                        [
                          0.9,
                          "#4d9221"
                        ],
                        [
                          1,
                          "#276419"
                        ]
                      ]
                    },
                    "xaxis": {
                      "gridcolor": "white",
                      "linecolor": "white",
                      "ticks": "",
                      "title": {
                        "standoff": 15
                      },
                      "zerolinecolor": "white",
                      "automargin": true,
                      "zerolinewidth": 2
                    },
                    "yaxis": {
                      "gridcolor": "white",
                      "linecolor": "white",
                      "ticks": "",
                      "title": {
                        "standoff": 15
                      },
                      "zerolinecolor": "white",
                      "automargin": true,
                      "zerolinewidth": 2
                    },
                    "scene": {
                      "xaxis": {
                        "backgroundcolor": "#E5ECF6",
                        "gridcolor": "white",
                        "linecolor": "white",
                        "showbackground": true,
                        "ticks": "",
                        "zerolinecolor": "white",
                        "gridwidth": 2
                      },
                      "yaxis": {
                        "backgroundcolor": "#E5ECF6",
                        "gridcolor": "white",
                        "linecolor": "white",
                        "showbackground": true,
                        "ticks": "",
                        "zerolinecolor": "white",
                        "gridwidth": 2
                      },
                      "zaxis": {
                        "backgroundcolor": "#E5ECF6",
                        "gridcolor": "white",
                        "linecolor": "white",
                        "showbackground": true,
                        "ticks": "",
                        "zerolinecolor": "white",
                        "gridwidth": 2
                      }
                    },
                    "shapedefaults": {
                      "line": {
                        "color": "#2a3f5f"
                      }
                    },
                    "annotationdefaults": {
                      "arrowcolor": "#2a3f5f",
                      "arrowhead": 0,
                      "arrowwidth": 1
                    },
                    "geo": {
                      "bgcolor": "white",
                      "landcolor": "#E5ECF6",
                      "subunitcolor": "white",
                      "showland": true,
                      "showlakes": true,
                      "lakecolor": "white"
                    },
                    "title": {
                      "x": 0.05
                    },
                    "mapbox": {
                      "style": "light"
                    }
                  }
                }
              },
              "config": {
                "showLink": false,
                "linkText": "Export to plot.ly",
                "plotlyServerURL": "https://plot.ly"
              }
            },
            "text/html": [
              "<div>                            <div id=\"b53f73a1-b842-443d-8194-d40f1ebf85b2\" class=\"plotly-graph-div\" style=\"height:525px; width:100%;\"></div>            <script type=\"text/javascript\">                require([\"plotly\"], function(Plotly) {                    window.PLOTLYENV=window.PLOTLYENV || {};                                    if (document.getElementById(\"b53f73a1-b842-443d-8194-d40f1ebf85b2\")) {                    Plotly.newPlot(                        \"b53f73a1-b842-443d-8194-d40f1ebf85b2\",                        [{\"colorbar\":{\"title\":{\"text\":\"Order nb.\"}},\"colorscale\":[[0,\"rgb(224,255,255)\"],[0.01,\"rgb(166,206,227)\"],[0.02,\"rgb(31,120,180)\"],[0.03,\"rgb(178,223,138)\"],[0.05,\"rgb(51,160,44)\"],[0.1,\"rgb(251,154,153)\"],[0.2,\"rgb(255,255,0)\"],[1,\"rgb(227,26,28)\"]],\"locationmode\":\"country names\",\"locations\":[\"United Kingdom\",\"Germany\",\"France\",\"EIRE\",\"Belgium\",\"Spain\",\"Netherlands\",\"Switzerland\",\"Portugal\",\"Australia\",\"Italy\",\"Finland\",\"Sweden\",\"Norway\",\"Channel Islands\",\"Japan\",\"Poland\",\"Denmark\",\"Cyprus\",\"Austria\",\"Singapore\",\"Malta\",\"Unspecified\",\"USA\",\"Iceland\",\"Israel\",\"Canada\",\"Greece\",\"Czech Republic\",\"European Community\",\"Lithuania\",\"United Arab Emirates\",\"Saudi Arabia\",\"Bahrain\",\"RSA\",\"Lebanon\",\"Brazil\"],\"reversescale\":false,\"text\":[\"United Kingdom\",\"Germany\",\"France\",\"EIRE\",\"Belgium\",\"Spain\",\"Netherlands\",\"Switzerland\",\"Portugal\",\"Australia\",\"Italy\",\"Finland\",\"Sweden\",\"Norway\",\"Channel Islands\",\"Japan\",\"Poland\",\"Denmark\",\"Cyprus\",\"Austria\",\"Singapore\",\"Malta\",\"Unspecified\",\"USA\",\"Iceland\",\"Israel\",\"Canada\",\"Greece\",\"Czech Republic\",\"European Community\",\"Lithuania\",\"United Arab Emirates\",\"Saudi Arabia\",\"Bahrain\",\"RSA\",\"Lebanon\",\"Brazil\"],\"z\":[19857,603,458,319,119,105,101,71,70,69,55,48,46,40,33,28,24,21,20,19,10,10,8,7,7,6,6,6,5,5,4,3,2,2,1,1,1],\"type\":\"choropleth\"}],                        {\"geo\":{\"projection\":{\"type\":\"mercator\"},\"showframe\":true},\"title\":{\"text\":\"Number of orders per country\"},\"template\":{\"data\":{\"histogram2dcontour\":[{\"type\":\"histogram2dcontour\",\"colorbar\":{\"outlinewidth\":0,\"ticks\":\"\"},\"colorscale\":[[0.0,\"#0d0887\"],[0.1111111111111111,\"#46039f\"],[0.2222222222222222,\"#7201a8\"],[0.3333333333333333,\"#9c179e\"],[0.4444444444444444,\"#bd3786\"],[0.5555555555555556,\"#d8576b\"],[0.6666666666666666,\"#ed7953\"],[0.7777777777777778,\"#fb9f3a\"],[0.8888888888888888,\"#fdca26\"],[1.0,\"#f0f921\"]]}],\"choropleth\":[{\"type\":\"choropleth\",\"colorbar\":{\"outlinewidth\":0,\"ticks\":\"\"}}],\"histogram2d\":[{\"type\":\"histogram2d\",\"colorbar\":{\"outlinewidth\":0,\"ticks\":\"\"},\"colorscale\":[[0.0,\"#0d0887\"],[0.1111111111111111,\"#46039f\"],[0.2222222222222222,\"#7201a8\"],[0.3333333333333333,\"#9c179e\"],[0.4444444444444444,\"#bd3786\"],[0.5555555555555556,\"#d8576b\"],[0.6666666666666666,\"#ed7953\"],[0.7777777777777778,\"#fb9f3a\"],[0.8888888888888888,\"#fdca26\"],[1.0,\"#f0f921\"]]}],\"heatmap\":[{\"type\":\"heatmap\",\"colorbar\":{\"outlinewidth\":0,\"ticks\":\"\"},\"colorscale\":[[0.0,\"#0d0887\"],[0.1111111111111111,\"#46039f\"],[0.2222222222222222,\"#7201a8\"],[0.3333333333333333,\"#9c179e\"],[0.4444444444444444,\"#bd3786\"],[0.5555555555555556,\"#d8576b\"],[0.6666666666666666,\"#ed7953\"],[0.7777777777777778,\"#fb9f3a\"],[0.8888888888888888,\"#fdca26\"],[1.0,\"#f0f921\"]]}],\"heatmapgl\":[{\"type\":\"heatmapgl\",\"colorbar\":{\"outlinewidth\":0,\"ticks\":\"\"},\"colorscale\":[[0.0,\"#0d0887\"],[0.1111111111111111,\"#46039f\"],[0.2222222222222222,\"#7201a8\"],[0.3333333333333333,\"#9c179e\"],[0.4444444444444444,\"#bd3786\"],[0.5555555555555556,\"#d8576b\"],[0.6666666666666666,\"#ed7953\"],[0.7777777777777778,\"#fb9f3a\"],[0.8888888888888888,\"#fdca26\"],[1.0,\"#f0f921\"]]}],\"contourcarpet\":[{\"type\":\"contourcarpet\",\"colorbar\":{\"outlinewidth\":0,\"ticks\":\"\"}}],\"contour\":[{\"type\":\"contour\",\"colorbar\":{\"outlinewidth\":0,\"ticks\":\"\"},\"colorscale\":[[0.0,\"#0d0887\"],[0.1111111111111111,\"#46039f\"],[0.2222222222222222,\"#7201a8\"],[0.3333333333333333,\"#9c179e\"],[0.4444444444444444,\"#bd3786\"],[0.5555555555555556,\"#d8576b\"],[0.6666666666666666,\"#ed7953\"],[0.7777777777777778,\"#fb9f3a\"],[0.8888888888888888,\"#fdca26\"],[1.0,\"#f0f921\"]]}],\"surface\":[{\"type\":\"surface\",\"colorbar\":{\"outlinewidth\":0,\"ticks\":\"\"},\"colorscale\":[[0.0,\"#0d0887\"],[0.1111111111111111,\"#46039f\"],[0.2222222222222222,\"#7201a8\"],[0.3333333333333333,\"#9c179e\"],[0.4444444444444444,\"#bd3786\"],[0.5555555555555556,\"#d8576b\"],[0.6666666666666666,\"#ed7953\"],[0.7777777777777778,\"#fb9f3a\"],[0.8888888888888888,\"#fdca26\"],[1.0,\"#f0f921\"]]}],\"mesh3d\":[{\"type\":\"mesh3d\",\"colorbar\":{\"outlinewidth\":0,\"ticks\":\"\"}}],\"scatter\":[{\"fillpattern\":{\"fillmode\":\"overlay\",\"size\":10,\"solidity\":0.2},\"type\":\"scatter\"}],\"parcoords\":[{\"type\":\"parcoords\",\"line\":{\"colorbar\":{\"outlinewidth\":0,\"ticks\":\"\"}}}],\"scatterpolargl\":[{\"type\":\"scatterpolargl\",\"marker\":{\"colorbar\":{\"outlinewidth\":0,\"ticks\":\"\"}}}],\"bar\":[{\"error_x\":{\"color\":\"#2a3f5f\"},\"error_y\":{\"color\":\"#2a3f5f\"},\"marker\":{\"line\":{\"color\":\"#E5ECF6\",\"width\":0.5},\"pattern\":{\"fillmode\":\"overlay\",\"size\":10,\"solidity\":0.2}},\"type\":\"bar\"}],\"scattergeo\":[{\"type\":\"scattergeo\",\"marker\":{\"colorbar\":{\"outlinewidth\":0,\"ticks\":\"\"}}}],\"scatterpolar\":[{\"type\":\"scatterpolar\",\"marker\":{\"colorbar\":{\"outlinewidth\":0,\"ticks\":\"\"}}}],\"histogram\":[{\"marker\":{\"pattern\":{\"fillmode\":\"overlay\",\"size\":10,\"solidity\":0.2}},\"type\":\"histogram\"}],\"scattergl\":[{\"type\":\"scattergl\",\"marker\":{\"colorbar\":{\"outlinewidth\":0,\"ticks\":\"\"}}}],\"scatter3d\":[{\"type\":\"scatter3d\",\"line\":{\"colorbar\":{\"outlinewidth\":0,\"ticks\":\"\"}},\"marker\":{\"colorbar\":{\"outlinewidth\":0,\"ticks\":\"\"}}}],\"scattermapbox\":[{\"type\":\"scattermapbox\",\"marker\":{\"colorbar\":{\"outlinewidth\":0,\"ticks\":\"\"}}}],\"scatterternary\":[{\"type\":\"scatterternary\",\"marker\":{\"colorbar\":{\"outlinewidth\":0,\"ticks\":\"\"}}}],\"scattercarpet\":[{\"type\":\"scattercarpet\",\"marker\":{\"colorbar\":{\"outlinewidth\":0,\"ticks\":\"\"}}}],\"carpet\":[{\"aaxis\":{\"endlinecolor\":\"#2a3f5f\",\"gridcolor\":\"white\",\"linecolor\":\"white\",\"minorgridcolor\":\"white\",\"startlinecolor\":\"#2a3f5f\"},\"baxis\":{\"endlinecolor\":\"#2a3f5f\",\"gridcolor\":\"white\",\"linecolor\":\"white\",\"minorgridcolor\":\"white\",\"startlinecolor\":\"#2a3f5f\"},\"type\":\"carpet\"}],\"table\":[{\"cells\":{\"fill\":{\"color\":\"#EBF0F8\"},\"line\":{\"color\":\"white\"}},\"header\":{\"fill\":{\"color\":\"#C8D4E3\"},\"line\":{\"color\":\"white\"}},\"type\":\"table\"}],\"barpolar\":[{\"marker\":{\"line\":{\"color\":\"#E5ECF6\",\"width\":0.5},\"pattern\":{\"fillmode\":\"overlay\",\"size\":10,\"solidity\":0.2}},\"type\":\"barpolar\"}],\"pie\":[{\"automargin\":true,\"type\":\"pie\"}]},\"layout\":{\"autotypenumbers\":\"strict\",\"colorway\":[\"#636efa\",\"#EF553B\",\"#00cc96\",\"#ab63fa\",\"#FFA15A\",\"#19d3f3\",\"#FF6692\",\"#B6E880\",\"#FF97FF\",\"#FECB52\"],\"font\":{\"color\":\"#2a3f5f\"},\"hovermode\":\"closest\",\"hoverlabel\":{\"align\":\"left\"},\"paper_bgcolor\":\"white\",\"plot_bgcolor\":\"#E5ECF6\",\"polar\":{\"bgcolor\":\"#E5ECF6\",\"angularaxis\":{\"gridcolor\":\"white\",\"linecolor\":\"white\",\"ticks\":\"\"},\"radialaxis\":{\"gridcolor\":\"white\",\"linecolor\":\"white\",\"ticks\":\"\"}},\"ternary\":{\"bgcolor\":\"#E5ECF6\",\"aaxis\":{\"gridcolor\":\"white\",\"linecolor\":\"white\",\"ticks\":\"\"},\"baxis\":{\"gridcolor\":\"white\",\"linecolor\":\"white\",\"ticks\":\"\"},\"caxis\":{\"gridcolor\":\"white\",\"linecolor\":\"white\",\"ticks\":\"\"}},\"coloraxis\":{\"colorbar\":{\"outlinewidth\":0,\"ticks\":\"\"}},\"colorscale\":{\"sequential\":[[0.0,\"#0d0887\"],[0.1111111111111111,\"#46039f\"],[0.2222222222222222,\"#7201a8\"],[0.3333333333333333,\"#9c179e\"],[0.4444444444444444,\"#bd3786\"],[0.5555555555555556,\"#d8576b\"],[0.6666666666666666,\"#ed7953\"],[0.7777777777777778,\"#fb9f3a\"],[0.8888888888888888,\"#fdca26\"],[1.0,\"#f0f921\"]],\"sequentialminus\":[[0.0,\"#0d0887\"],[0.1111111111111111,\"#46039f\"],[0.2222222222222222,\"#7201a8\"],[0.3333333333333333,\"#9c179e\"],[0.4444444444444444,\"#bd3786\"],[0.5555555555555556,\"#d8576b\"],[0.6666666666666666,\"#ed7953\"],[0.7777777777777778,\"#fb9f3a\"],[0.8888888888888888,\"#fdca26\"],[1.0,\"#f0f921\"]],\"diverging\":[[0,\"#8e0152\"],[0.1,\"#c51b7d\"],[0.2,\"#de77ae\"],[0.3,\"#f1b6da\"],[0.4,\"#fde0ef\"],[0.5,\"#f7f7f7\"],[0.6,\"#e6f5d0\"],[0.7,\"#b8e186\"],[0.8,\"#7fbc41\"],[0.9,\"#4d9221\"],[1,\"#276419\"]]},\"xaxis\":{\"gridcolor\":\"white\",\"linecolor\":\"white\",\"ticks\":\"\",\"title\":{\"standoff\":15},\"zerolinecolor\":\"white\",\"automargin\":true,\"zerolinewidth\":2},\"yaxis\":{\"gridcolor\":\"white\",\"linecolor\":\"white\",\"ticks\":\"\",\"title\":{\"standoff\":15},\"zerolinecolor\":\"white\",\"automargin\":true,\"zerolinewidth\":2},\"scene\":{\"xaxis\":{\"backgroundcolor\":\"#E5ECF6\",\"gridcolor\":\"white\",\"linecolor\":\"white\",\"showbackground\":true,\"ticks\":\"\",\"zerolinecolor\":\"white\",\"gridwidth\":2},\"yaxis\":{\"backgroundcolor\":\"#E5ECF6\",\"gridcolor\":\"white\",\"linecolor\":\"white\",\"showbackground\":true,\"ticks\":\"\",\"zerolinecolor\":\"white\",\"gridwidth\":2},\"zaxis\":{\"backgroundcolor\":\"#E5ECF6\",\"gridcolor\":\"white\",\"linecolor\":\"white\",\"showbackground\":true,\"ticks\":\"\",\"zerolinecolor\":\"white\",\"gridwidth\":2}},\"shapedefaults\":{\"line\":{\"color\":\"#2a3f5f\"}},\"annotationdefaults\":{\"arrowcolor\":\"#2a3f5f\",\"arrowhead\":0,\"arrowwidth\":1},\"geo\":{\"bgcolor\":\"white\",\"landcolor\":\"#E5ECF6\",\"subunitcolor\":\"white\",\"showland\":true,\"showlakes\":true,\"lakecolor\":\"white\"},\"title\":{\"x\":0.05},\"mapbox\":{\"style\":\"light\"}}}},                        {\"responsive\": true}                    ).then(function(){\n",
              "                            \n",
              "var gd = document.getElementById('b53f73a1-b842-443d-8194-d40f1ebf85b2');\n",
              "var x = new MutationObserver(function (mutations, observer) {{\n",
              "        var display = window.getComputedStyle(gd).display;\n",
              "        if (!display || display === 'none') {{\n",
              "            console.log([gd, 'removed!']);\n",
              "            Plotly.purge(gd);\n",
              "            observer.disconnect();\n",
              "        }}\n",
              "}});\n",
              "\n",
              "// Listen for the removal of the full notebook cells\n",
              "var notebookContainer = gd.closest('#notebook-container');\n",
              "if (notebookContainer) {{\n",
              "    x.observe(notebookContainer, {childList: true});\n",
              "}}\n",
              "\n",
              "// Listen for the clearing of the current output cell\n",
              "var outputEl = gd.closest('.output');\n",
              "if (outputEl) {{\n",
              "    x.observe(outputEl, {childList: true});\n",
              "}}\n",
              "\n",
              "                        })                };                });            </script>        </div>"
            ]
          },
          "metadata": {}
        }
      ],
      "source": [
        "data = dict(type='choropleth',\n",
        "locations = countries.index,\n",
        "locationmode = 'country names', z = countries,\n",
        "text = countries.index, colorbar = {'title':'Order nb.'},\n",
        "colorscale=[[0, 'rgb(224,255,255)'],\n",
        "            [0.01, 'rgb(166,206,227)'], [0.02, 'rgb(31,120,180)'],\n",
        "            [0.03, 'rgb(178,223,138)'], [0.05, 'rgb(51,160,44)'],\n",
        "            [0.10, 'rgb(251,154,153)'], [0.20, 'rgb(255,255,0)'],\n",
        "            [1, 'rgb(227,26,28)']],\n",
        "reversescale = False)\n",
        "#_______________________\n",
        "layout = dict(title='Number of orders per country',\n",
        "geo = dict(showframe = True, projection={'type':'mercator'}))\n",
        "#______________\n",
        "choromap = go.Figure(data = [data], layout = layout)\n",
        "iplot(choromap, validate=False)"
      ]
    },
    {
      "cell_type": "code",
      "execution_count": 11,
      "metadata": {
        "colab": {
          "base_uri": "https://localhost:8080/"
        },
        "id": "p2DQE-3gD6wg",
        "outputId": "03da6a11-3c08-42f2-c642-b98beda6e573"
      },
      "outputs": [
        {
          "output_type": "execute_result",
          "data": {
            "text/plain": [
              "United Kingdom    19857\n",
              "Germany             603\n",
              "France              458\n",
              "EIRE                319\n",
              "Belgium             119\n",
              "Name: Country, dtype: int64"
            ]
          },
          "metadata": {},
          "execution_count": 11
        }
      ],
      "source": [
        "countries.head(5)"
      ]
    },
    {
      "cell_type": "markdown",
      "metadata": {
        "id": "ZrCF0_x4Dz4Y"
      },
      "source": [
        "Customers and products"
      ]
    },
    {
      "cell_type": "code",
      "execution_count": 12,
      "metadata": {
        "colab": {
          "base_uri": "https://localhost:8080/",
          "height": 81
        },
        "id": "_6xdbEk7Drf3",
        "outputId": "9c3116c1-4a98-4736-8941-57d162046d30"
      },
      "outputs": [
        {
          "output_type": "execute_result",
          "data": {
            "text/plain": [
              "          products  transactions  customers\n",
              "quantity      3684         20460       4372"
            ],
            "text/html": [
              "\n",
              "  <div id=\"df-4649cf0e-1fdb-4ba8-875a-bf6d2532e280\">\n",
              "    <div class=\"colab-df-container\">\n",
              "      <div>\n",
              "<style scoped>\n",
              "    .dataframe tbody tr th:only-of-type {\n",
              "        vertical-align: middle;\n",
              "    }\n",
              "\n",
              "    .dataframe tbody tr th {\n",
              "        vertical-align: top;\n",
              "    }\n",
              "\n",
              "    .dataframe thead th {\n",
              "        text-align: right;\n",
              "    }\n",
              "</style>\n",
              "<table border=\"1\" class=\"dataframe\">\n",
              "  <thead>\n",
              "    <tr style=\"text-align: right;\">\n",
              "      <th></th>\n",
              "      <th>products</th>\n",
              "      <th>transactions</th>\n",
              "      <th>customers</th>\n",
              "    </tr>\n",
              "  </thead>\n",
              "  <tbody>\n",
              "    <tr>\n",
              "      <th>quantity</th>\n",
              "      <td>3684</td>\n",
              "      <td>20460</td>\n",
              "      <td>4372</td>\n",
              "    </tr>\n",
              "  </tbody>\n",
              "</table>\n",
              "</div>\n",
              "      <button class=\"colab-df-convert\" onclick=\"convertToInteractive('df-4649cf0e-1fdb-4ba8-875a-bf6d2532e280')\"\n",
              "              title=\"Convert this dataframe to an interactive table.\"\n",
              "              style=\"display:none;\">\n",
              "        \n",
              "  <svg xmlns=\"http://www.w3.org/2000/svg\" height=\"24px\"viewBox=\"0 0 24 24\"\n",
              "       width=\"24px\">\n",
              "    <path d=\"M0 0h24v24H0V0z\" fill=\"none\"/>\n",
              "    <path d=\"M18.56 5.44l.94 2.06.94-2.06 2.06-.94-2.06-.94-.94-2.06-.94 2.06-2.06.94zm-11 1L8.5 8.5l.94-2.06 2.06-.94-2.06-.94L8.5 2.5l-.94 2.06-2.06.94zm10 10l.94 2.06.94-2.06 2.06-.94-2.06-.94-.94-2.06-.94 2.06-2.06.94z\"/><path d=\"M17.41 7.96l-1.37-1.37c-.4-.4-.92-.59-1.43-.59-.52 0-1.04.2-1.43.59L10.3 9.45l-7.72 7.72c-.78.78-.78 2.05 0 2.83L4 21.41c.39.39.9.59 1.41.59.51 0 1.02-.2 1.41-.59l7.78-7.78 2.81-2.81c.8-.78.8-2.07 0-2.86zM5.41 20L4 18.59l7.72-7.72 1.47 1.35L5.41 20z\"/>\n",
              "  </svg>\n",
              "      </button>\n",
              "      \n",
              "  <style>\n",
              "    .colab-df-container {\n",
              "      display:flex;\n",
              "      flex-wrap:wrap;\n",
              "      gap: 12px;\n",
              "    }\n",
              "\n",
              "    .colab-df-convert {\n",
              "      background-color: #E8F0FE;\n",
              "      border: none;\n",
              "      border-radius: 50%;\n",
              "      cursor: pointer;\n",
              "      display: none;\n",
              "      fill: #1967D2;\n",
              "      height: 32px;\n",
              "      padding: 0 0 0 0;\n",
              "      width: 32px;\n",
              "    }\n",
              "\n",
              "    .colab-df-convert:hover {\n",
              "      background-color: #E2EBFA;\n",
              "      box-shadow: 0px 1px 2px rgba(60, 64, 67, 0.3), 0px 1px 3px 1px rgba(60, 64, 67, 0.15);\n",
              "      fill: #174EA6;\n",
              "    }\n",
              "\n",
              "    [theme=dark] .colab-df-convert {\n",
              "      background-color: #3B4455;\n",
              "      fill: #D2E3FC;\n",
              "    }\n",
              "\n",
              "    [theme=dark] .colab-df-convert:hover {\n",
              "      background-color: #434B5C;\n",
              "      box-shadow: 0px 1px 3px 1px rgba(0, 0, 0, 0.15);\n",
              "      filter: drop-shadow(0px 1px 2px rgba(0, 0, 0, 0.3));\n",
              "      fill: #FFFFFF;\n",
              "    }\n",
              "  </style>\n",
              "\n",
              "      <script>\n",
              "        const buttonEl =\n",
              "          document.querySelector('#df-4649cf0e-1fdb-4ba8-875a-bf6d2532e280 button.colab-df-convert');\n",
              "        buttonEl.style.display =\n",
              "          google.colab.kernel.accessAllowed ? 'block' : 'none';\n",
              "\n",
              "        async function convertToInteractive(key) {\n",
              "          const element = document.querySelector('#df-4649cf0e-1fdb-4ba8-875a-bf6d2532e280');\n",
              "          const dataTable =\n",
              "            await google.colab.kernel.invokeFunction('convertToInteractive',\n",
              "                                                     [key], {});\n",
              "          if (!dataTable) return;\n",
              "\n",
              "          const docLinkHtml = 'Like what you see? Visit the ' +\n",
              "            '<a target=\"_blank\" href=https://colab.research.google.com/notebooks/data_table.ipynb>data table notebook</a>'\n",
              "            + ' to learn more about interactive tables.';\n",
              "          element.innerHTML = '';\n",
              "          dataTable['output_type'] = 'display_data';\n",
              "          await google.colab.output.renderOutput(dataTable, element);\n",
              "          const docLink = document.createElement('div');\n",
              "          docLink.innerHTML = docLinkHtml;\n",
              "          element.appendChild(docLink);\n",
              "        }\n",
              "      </script>\n",
              "    </div>\n",
              "  </div>\n",
              "  "
            ]
          },
          "metadata": {},
          "execution_count": 12
        }
      ],
      "source": [
        "pd.DataFrame([{'products': len(df_initial['StockCode'].value_counts()),\n",
        "               'transactions': len(df_initial['InvoiceDate'].value_counts()),\n",
        "               'customers' : len(df_initial['CustomerID'].value_counts())}],\n",
        "             columns = ['products','transactions','customers'], index = ['quantity'])"
      ]
    },
    {
      "cell_type": "code",
      "execution_count": 13,
      "metadata": {
        "colab": {
          "base_uri": "https://localhost:8080/",
          "height": 423
        },
        "id": "n4xzcU2VMMB0",
        "outputId": "69d6f3cc-7a5c-4f20-c8b0-237959568361"
      },
      "outputs": [
        {
          "output_type": "execute_result",
          "data": {
            "text/plain": [
              "      CustomerID InvoiceNo  Number of products\n",
              "0          12346    541431                   1\n",
              "1          12346   C541433                   1\n",
              "2          12347    537626                  31\n",
              "3          12347    542237                  29\n",
              "4          12347    549222                  24\n",
              "...          ...       ...                 ...\n",
              "22177      18283    557956                  76\n",
              "22186      18283    580872                  50\n",
              "22188      18287    570715                  38\n",
              "22187      18287    554065                  29\n",
              "22189      18287    573167                   3\n",
              "\n",
              "[22190 rows x 3 columns]"
            ],
            "text/html": [
              "\n",
              "  <div id=\"df-dca1ceb4-d82e-4584-aaa6-06e2f311c994\">\n",
              "    <div class=\"colab-df-container\">\n",
              "      <div>\n",
              "<style scoped>\n",
              "    .dataframe tbody tr th:only-of-type {\n",
              "        vertical-align: middle;\n",
              "    }\n",
              "\n",
              "    .dataframe tbody tr th {\n",
              "        vertical-align: top;\n",
              "    }\n",
              "\n",
              "    .dataframe thead th {\n",
              "        text-align: right;\n",
              "    }\n",
              "</style>\n",
              "<table border=\"1\" class=\"dataframe\">\n",
              "  <thead>\n",
              "    <tr style=\"text-align: right;\">\n",
              "      <th></th>\n",
              "      <th>CustomerID</th>\n",
              "      <th>InvoiceNo</th>\n",
              "      <th>Number of products</th>\n",
              "    </tr>\n",
              "  </thead>\n",
              "  <tbody>\n",
              "    <tr>\n",
              "      <th>0</th>\n",
              "      <td>12346</td>\n",
              "      <td>541431</td>\n",
              "      <td>1</td>\n",
              "    </tr>\n",
              "    <tr>\n",
              "      <th>1</th>\n",
              "      <td>12346</td>\n",
              "      <td>C541433</td>\n",
              "      <td>1</td>\n",
              "    </tr>\n",
              "    <tr>\n",
              "      <th>2</th>\n",
              "      <td>12347</td>\n",
              "      <td>537626</td>\n",
              "      <td>31</td>\n",
              "    </tr>\n",
              "    <tr>\n",
              "      <th>3</th>\n",
              "      <td>12347</td>\n",
              "      <td>542237</td>\n",
              "      <td>29</td>\n",
              "    </tr>\n",
              "    <tr>\n",
              "      <th>4</th>\n",
              "      <td>12347</td>\n",
              "      <td>549222</td>\n",
              "      <td>24</td>\n",
              "    </tr>\n",
              "    <tr>\n",
              "      <th>...</th>\n",
              "      <td>...</td>\n",
              "      <td>...</td>\n",
              "      <td>...</td>\n",
              "    </tr>\n",
              "    <tr>\n",
              "      <th>22177</th>\n",
              "      <td>18283</td>\n",
              "      <td>557956</td>\n",
              "      <td>76</td>\n",
              "    </tr>\n",
              "    <tr>\n",
              "      <th>22186</th>\n",
              "      <td>18283</td>\n",
              "      <td>580872</td>\n",
              "      <td>50</td>\n",
              "    </tr>\n",
              "    <tr>\n",
              "      <th>22188</th>\n",
              "      <td>18287</td>\n",
              "      <td>570715</td>\n",
              "      <td>38</td>\n",
              "    </tr>\n",
              "    <tr>\n",
              "      <th>22187</th>\n",
              "      <td>18287</td>\n",
              "      <td>554065</td>\n",
              "      <td>29</td>\n",
              "    </tr>\n",
              "    <tr>\n",
              "      <th>22189</th>\n",
              "      <td>18287</td>\n",
              "      <td>573167</td>\n",
              "      <td>3</td>\n",
              "    </tr>\n",
              "  </tbody>\n",
              "</table>\n",
              "<p>22190 rows × 3 columns</p>\n",
              "</div>\n",
              "      <button class=\"colab-df-convert\" onclick=\"convertToInteractive('df-dca1ceb4-d82e-4584-aaa6-06e2f311c994')\"\n",
              "              title=\"Convert this dataframe to an interactive table.\"\n",
              "              style=\"display:none;\">\n",
              "        \n",
              "  <svg xmlns=\"http://www.w3.org/2000/svg\" height=\"24px\"viewBox=\"0 0 24 24\"\n",
              "       width=\"24px\">\n",
              "    <path d=\"M0 0h24v24H0V0z\" fill=\"none\"/>\n",
              "    <path d=\"M18.56 5.44l.94 2.06.94-2.06 2.06-.94-2.06-.94-.94-2.06-.94 2.06-2.06.94zm-11 1L8.5 8.5l.94-2.06 2.06-.94-2.06-.94L8.5 2.5l-.94 2.06-2.06.94zm10 10l.94 2.06.94-2.06 2.06-.94-2.06-.94-.94-2.06-.94 2.06-2.06.94z\"/><path d=\"M17.41 7.96l-1.37-1.37c-.4-.4-.92-.59-1.43-.59-.52 0-1.04.2-1.43.59L10.3 9.45l-7.72 7.72c-.78.78-.78 2.05 0 2.83L4 21.41c.39.39.9.59 1.41.59.51 0 1.02-.2 1.41-.59l7.78-7.78 2.81-2.81c.8-.78.8-2.07 0-2.86zM5.41 20L4 18.59l7.72-7.72 1.47 1.35L5.41 20z\"/>\n",
              "  </svg>\n",
              "      </button>\n",
              "      \n",
              "  <style>\n",
              "    .colab-df-container {\n",
              "      display:flex;\n",
              "      flex-wrap:wrap;\n",
              "      gap: 12px;\n",
              "    }\n",
              "\n",
              "    .colab-df-convert {\n",
              "      background-color: #E8F0FE;\n",
              "      border: none;\n",
              "      border-radius: 50%;\n",
              "      cursor: pointer;\n",
              "      display: none;\n",
              "      fill: #1967D2;\n",
              "      height: 32px;\n",
              "      padding: 0 0 0 0;\n",
              "      width: 32px;\n",
              "    }\n",
              "\n",
              "    .colab-df-convert:hover {\n",
              "      background-color: #E2EBFA;\n",
              "      box-shadow: 0px 1px 2px rgba(60, 64, 67, 0.3), 0px 1px 3px 1px rgba(60, 64, 67, 0.15);\n",
              "      fill: #174EA6;\n",
              "    }\n",
              "\n",
              "    [theme=dark] .colab-df-convert {\n",
              "      background-color: #3B4455;\n",
              "      fill: #D2E3FC;\n",
              "    }\n",
              "\n",
              "    [theme=dark] .colab-df-convert:hover {\n",
              "      background-color: #434B5C;\n",
              "      box-shadow: 0px 1px 3px 1px rgba(0, 0, 0, 0.15);\n",
              "      filter: drop-shadow(0px 1px 2px rgba(0, 0, 0, 0.3));\n",
              "      fill: #FFFFFF;\n",
              "    }\n",
              "  </style>\n",
              "\n",
              "      <script>\n",
              "        const buttonEl =\n",
              "          document.querySelector('#df-dca1ceb4-d82e-4584-aaa6-06e2f311c994 button.colab-df-convert');\n",
              "        buttonEl.style.display =\n",
              "          google.colab.kernel.accessAllowed ? 'block' : 'none';\n",
              "\n",
              "        async function convertToInteractive(key) {\n",
              "          const element = document.querySelector('#df-dca1ceb4-d82e-4584-aaa6-06e2f311c994');\n",
              "          const dataTable =\n",
              "            await google.colab.kernel.invokeFunction('convertToInteractive',\n",
              "                                                     [key], {});\n",
              "          if (!dataTable) return;\n",
              "\n",
              "          const docLinkHtml = 'Like what you see? Visit the ' +\n",
              "            '<a target=\"_blank\" href=https://colab.research.google.com/notebooks/data_table.ipynb>data table notebook</a>'\n",
              "            + ' to learn more about interactive tables.';\n",
              "          element.innerHTML = '';\n",
              "          dataTable['output_type'] = 'display_data';\n",
              "          await google.colab.output.renderOutput(dataTable, element);\n",
              "          const docLink = document.createElement('div');\n",
              "          docLink.innerHTML = docLinkHtml;\n",
              "          element.appendChild(docLink);\n",
              "        }\n",
              "      </script>\n",
              "    </div>\n",
              "  </div>\n",
              "  "
            ]
          },
          "metadata": {},
          "execution_count": 13
        }
      ],
      "source": [
        "temp = df_initial.groupby(by = ['CustomerID','InvoiceNo'], as_index=False)['InvoiceDate'].count()\n",
        "nb_products_per_basket = temp.rename(columns = {'InvoiceDate': 'Number of products'})\n",
        "nb_products_per_basket.sort_values('CustomerID')"
      ]
    },
    {
      "cell_type": "markdown",
      "metadata": {
        "id": "WlLoyk07NVpM"
      },
      "source": [
        "Cancelling orders"
      ]
    },
    {
      "cell_type": "code",
      "execution_count": 14,
      "metadata": {
        "colab": {
          "base_uri": "https://localhost:8080/",
          "height": 206
        },
        "id": "uuywREldNSRP",
        "outputId": "0922d84c-a9af-4db6-96f7-f0193d952a50"
      },
      "outputs": [
        {
          "output_type": "execute_result",
          "data": {
            "text/plain": [
              "  CustomerID InvoiceNo  Number of products  order_canceled\n",
              "0      12346    541431                   1               0\n",
              "1      12346   C541433                   1               1\n",
              "2      12347    537626                  31               0\n",
              "3      12347    542237                  29               0\n",
              "4      12347    549222                  24               0"
            ],
            "text/html": [
              "\n",
              "  <div id=\"df-7b5fa79d-811f-4915-8b93-1c1157e3da3e\">\n",
              "    <div class=\"colab-df-container\">\n",
              "      <div>\n",
              "<style scoped>\n",
              "    .dataframe tbody tr th:only-of-type {\n",
              "        vertical-align: middle;\n",
              "    }\n",
              "\n",
              "    .dataframe tbody tr th {\n",
              "        vertical-align: top;\n",
              "    }\n",
              "\n",
              "    .dataframe thead th {\n",
              "        text-align: right;\n",
              "    }\n",
              "</style>\n",
              "<table border=\"1\" class=\"dataframe\">\n",
              "  <thead>\n",
              "    <tr style=\"text-align: right;\">\n",
              "      <th></th>\n",
              "      <th>CustomerID</th>\n",
              "      <th>InvoiceNo</th>\n",
              "      <th>Number of products</th>\n",
              "      <th>order_canceled</th>\n",
              "    </tr>\n",
              "  </thead>\n",
              "  <tbody>\n",
              "    <tr>\n",
              "      <th>0</th>\n",
              "      <td>12346</td>\n",
              "      <td>541431</td>\n",
              "      <td>1</td>\n",
              "      <td>0</td>\n",
              "    </tr>\n",
              "    <tr>\n",
              "      <th>1</th>\n",
              "      <td>12346</td>\n",
              "      <td>C541433</td>\n",
              "      <td>1</td>\n",
              "      <td>1</td>\n",
              "    </tr>\n",
              "    <tr>\n",
              "      <th>2</th>\n",
              "      <td>12347</td>\n",
              "      <td>537626</td>\n",
              "      <td>31</td>\n",
              "      <td>0</td>\n",
              "    </tr>\n",
              "    <tr>\n",
              "      <th>3</th>\n",
              "      <td>12347</td>\n",
              "      <td>542237</td>\n",
              "      <td>29</td>\n",
              "      <td>0</td>\n",
              "    </tr>\n",
              "    <tr>\n",
              "      <th>4</th>\n",
              "      <td>12347</td>\n",
              "      <td>549222</td>\n",
              "      <td>24</td>\n",
              "      <td>0</td>\n",
              "    </tr>\n",
              "  </tbody>\n",
              "</table>\n",
              "</div>\n",
              "      <button class=\"colab-df-convert\" onclick=\"convertToInteractive('df-7b5fa79d-811f-4915-8b93-1c1157e3da3e')\"\n",
              "              title=\"Convert this dataframe to an interactive table.\"\n",
              "              style=\"display:none;\">\n",
              "        \n",
              "  <svg xmlns=\"http://www.w3.org/2000/svg\" height=\"24px\"viewBox=\"0 0 24 24\"\n",
              "       width=\"24px\">\n",
              "    <path d=\"M0 0h24v24H0V0z\" fill=\"none\"/>\n",
              "    <path d=\"M18.56 5.44l.94 2.06.94-2.06 2.06-.94-2.06-.94-.94-2.06-.94 2.06-2.06.94zm-11 1L8.5 8.5l.94-2.06 2.06-.94-2.06-.94L8.5 2.5l-.94 2.06-2.06.94zm10 10l.94 2.06.94-2.06 2.06-.94-2.06-.94-.94-2.06-.94 2.06-2.06.94z\"/><path d=\"M17.41 7.96l-1.37-1.37c-.4-.4-.92-.59-1.43-.59-.52 0-1.04.2-1.43.59L10.3 9.45l-7.72 7.72c-.78.78-.78 2.05 0 2.83L4 21.41c.39.39.9.59 1.41.59.51 0 1.02-.2 1.41-.59l7.78-7.78 2.81-2.81c.8-.78.8-2.07 0-2.86zM5.41 20L4 18.59l7.72-7.72 1.47 1.35L5.41 20z\"/>\n",
              "  </svg>\n",
              "      </button>\n",
              "      \n",
              "  <style>\n",
              "    .colab-df-container {\n",
              "      display:flex;\n",
              "      flex-wrap:wrap;\n",
              "      gap: 12px;\n",
              "    }\n",
              "\n",
              "    .colab-df-convert {\n",
              "      background-color: #E8F0FE;\n",
              "      border: none;\n",
              "      border-radius: 50%;\n",
              "      cursor: pointer;\n",
              "      display: none;\n",
              "      fill: #1967D2;\n",
              "      height: 32px;\n",
              "      padding: 0 0 0 0;\n",
              "      width: 32px;\n",
              "    }\n",
              "\n",
              "    .colab-df-convert:hover {\n",
              "      background-color: #E2EBFA;\n",
              "      box-shadow: 0px 1px 2px rgba(60, 64, 67, 0.3), 0px 1px 3px 1px rgba(60, 64, 67, 0.15);\n",
              "      fill: #174EA6;\n",
              "    }\n",
              "\n",
              "    [theme=dark] .colab-df-convert {\n",
              "      background-color: #3B4455;\n",
              "      fill: #D2E3FC;\n",
              "    }\n",
              "\n",
              "    [theme=dark] .colab-df-convert:hover {\n",
              "      background-color: #434B5C;\n",
              "      box-shadow: 0px 1px 3px 1px rgba(0, 0, 0, 0.15);\n",
              "      filter: drop-shadow(0px 1px 2px rgba(0, 0, 0, 0.3));\n",
              "      fill: #FFFFFF;\n",
              "    }\n",
              "  </style>\n",
              "\n",
              "      <script>\n",
              "        const buttonEl =\n",
              "          document.querySelector('#df-7b5fa79d-811f-4915-8b93-1c1157e3da3e button.colab-df-convert');\n",
              "        buttonEl.style.display =\n",
              "          google.colab.kernel.accessAllowed ? 'block' : 'none';\n",
              "\n",
              "        async function convertToInteractive(key) {\n",
              "          const element = document.querySelector('#df-7b5fa79d-811f-4915-8b93-1c1157e3da3e');\n",
              "          const dataTable =\n",
              "            await google.colab.kernel.invokeFunction('convertToInteractive',\n",
              "                                                     [key], {});\n",
              "          if (!dataTable) return;\n",
              "\n",
              "          const docLinkHtml = 'Like what you see? Visit the ' +\n",
              "            '<a target=\"_blank\" href=https://colab.research.google.com/notebooks/data_table.ipynb>data table notebook</a>'\n",
              "            + ' to learn more about interactive tables.';\n",
              "          element.innerHTML = '';\n",
              "          dataTable['output_type'] = 'display_data';\n",
              "          await google.colab.output.renderOutput(dataTable, element);\n",
              "          const docLink = document.createElement('div');\n",
              "          docLink.innerHTML = docLinkHtml;\n",
              "          element.appendChild(docLink);\n",
              "        }\n",
              "      </script>\n",
              "    </div>\n",
              "  </div>\n",
              "  "
            ]
          },
          "metadata": {},
          "execution_count": 14
        }
      ],
      "source": [
        "nb_products_per_basket['order_canceled'] = nb_products_per_basket['InvoiceNo'].apply(lambda x: int('C' in x))\n",
        "nb_products_per_basket.head(5)"
      ]
    },
    {
      "cell_type": "code",
      "execution_count": 15,
      "metadata": {
        "colab": {
          "base_uri": "https://localhost:8080/"
        },
        "id": "9z6rjfzdOS2U",
        "outputId": "849adcc8-9167-4c81-c488-0d18d7387ca3"
      },
      "outputs": [
        {
          "output_type": "stream",
          "name": "stdout",
          "text": [
            "Number of orders canceled: 3654/22190 (16.47%)\n"
          ]
        }
      ],
      "source": [
        "n1 = nb_products_per_basket['order_canceled'].sum()\n",
        "n2 = nb_products_per_basket.shape[0]\n",
        "print('Number of orders canceled: {}/{} ({:.2f}%)'.format(n1,n2,n1/n2*100))"
      ]
    },
    {
      "cell_type": "code",
      "execution_count": 16,
      "metadata": {
        "colab": {
          "base_uri": "https://localhost:8080/",
          "height": 206
        },
        "id": "yFCuWPqOOspm",
        "outputId": "74310ad1-4ffd-42e8-faf0-ca0119ba0e10"
      },
      "outputs": [
        {
          "output_type": "display_data",
          "data": {
            "text/plain": [
              "       InvoiceNo StockCode                         Description  Quantity  \\\n",
              "61619     541431     23166      MEDIUM CERAMIC TOP STORAGE JAR     74215   \n",
              "61624    C541433     23166      MEDIUM CERAMIC TOP STORAGE JAR    -74215   \n",
              "286623    562032     22375   AIRLINE BAG VINTAGE JET SET BROWN         4   \n",
              "72260     542237     84991         60 TEATIME FAIRY CAKE CASES        24   \n",
              "14943     537626     22772  PINK DRAWER KNOB ACRYLIC EDWARDIAN        12   \n",
              "\n",
              "               InvoiceDate  UnitPrice CustomerID         Country  \n",
              "61619  2011-01-18 10:01:00       1.04      12346  United Kingdom  \n",
              "61624  2011-01-18 10:17:00       1.04      12346  United Kingdom  \n",
              "286623 2011-08-02 08:48:00       4.25      12347         Iceland  \n",
              "72260  2011-01-26 14:30:00       0.55      12347         Iceland  \n",
              "14943  2010-12-07 14:57:00       1.25      12347         Iceland  "
            ],
            "text/html": [
              "\n",
              "  <div id=\"df-87329d26-7fa2-4582-b6c8-b8748e1a76f2\">\n",
              "    <div class=\"colab-df-container\">\n",
              "      <div>\n",
              "<style scoped>\n",
              "    .dataframe tbody tr th:only-of-type {\n",
              "        vertical-align: middle;\n",
              "    }\n",
              "\n",
              "    .dataframe tbody tr th {\n",
              "        vertical-align: top;\n",
              "    }\n",
              "\n",
              "    .dataframe thead th {\n",
              "        text-align: right;\n",
              "    }\n",
              "</style>\n",
              "<table border=\"1\" class=\"dataframe\">\n",
              "  <thead>\n",
              "    <tr style=\"text-align: right;\">\n",
              "      <th></th>\n",
              "      <th>InvoiceNo</th>\n",
              "      <th>StockCode</th>\n",
              "      <th>Description</th>\n",
              "      <th>Quantity</th>\n",
              "      <th>InvoiceDate</th>\n",
              "      <th>UnitPrice</th>\n",
              "      <th>CustomerID</th>\n",
              "      <th>Country</th>\n",
              "    </tr>\n",
              "  </thead>\n",
              "  <tbody>\n",
              "    <tr>\n",
              "      <th>61619</th>\n",
              "      <td>541431</td>\n",
              "      <td>23166</td>\n",
              "      <td>MEDIUM CERAMIC TOP STORAGE JAR</td>\n",
              "      <td>74215</td>\n",
              "      <td>2011-01-18 10:01:00</td>\n",
              "      <td>1.04</td>\n",
              "      <td>12346</td>\n",
              "      <td>United Kingdom</td>\n",
              "    </tr>\n",
              "    <tr>\n",
              "      <th>61624</th>\n",
              "      <td>C541433</td>\n",
              "      <td>23166</td>\n",
              "      <td>MEDIUM CERAMIC TOP STORAGE JAR</td>\n",
              "      <td>-74215</td>\n",
              "      <td>2011-01-18 10:17:00</td>\n",
              "      <td>1.04</td>\n",
              "      <td>12346</td>\n",
              "      <td>United Kingdom</td>\n",
              "    </tr>\n",
              "    <tr>\n",
              "      <th>286623</th>\n",
              "      <td>562032</td>\n",
              "      <td>22375</td>\n",
              "      <td>AIRLINE BAG VINTAGE JET SET BROWN</td>\n",
              "      <td>4</td>\n",
              "      <td>2011-08-02 08:48:00</td>\n",
              "      <td>4.25</td>\n",
              "      <td>12347</td>\n",
              "      <td>Iceland</td>\n",
              "    </tr>\n",
              "    <tr>\n",
              "      <th>72260</th>\n",
              "      <td>542237</td>\n",
              "      <td>84991</td>\n",
              "      <td>60 TEATIME FAIRY CAKE CASES</td>\n",
              "      <td>24</td>\n",
              "      <td>2011-01-26 14:30:00</td>\n",
              "      <td>0.55</td>\n",
              "      <td>12347</td>\n",
              "      <td>Iceland</td>\n",
              "    </tr>\n",
              "    <tr>\n",
              "      <th>14943</th>\n",
              "      <td>537626</td>\n",
              "      <td>22772</td>\n",
              "      <td>PINK DRAWER KNOB ACRYLIC EDWARDIAN</td>\n",
              "      <td>12</td>\n",
              "      <td>2010-12-07 14:57:00</td>\n",
              "      <td>1.25</td>\n",
              "      <td>12347</td>\n",
              "      <td>Iceland</td>\n",
              "    </tr>\n",
              "  </tbody>\n",
              "</table>\n",
              "</div>\n",
              "      <button class=\"colab-df-convert\" onclick=\"convertToInteractive('df-87329d26-7fa2-4582-b6c8-b8748e1a76f2')\"\n",
              "              title=\"Convert this dataframe to an interactive table.\"\n",
              "              style=\"display:none;\">\n",
              "        \n",
              "  <svg xmlns=\"http://www.w3.org/2000/svg\" height=\"24px\"viewBox=\"0 0 24 24\"\n",
              "       width=\"24px\">\n",
              "    <path d=\"M0 0h24v24H0V0z\" fill=\"none\"/>\n",
              "    <path d=\"M18.56 5.44l.94 2.06.94-2.06 2.06-.94-2.06-.94-.94-2.06-.94 2.06-2.06.94zm-11 1L8.5 8.5l.94-2.06 2.06-.94-2.06-.94L8.5 2.5l-.94 2.06-2.06.94zm10 10l.94 2.06.94-2.06 2.06-.94-2.06-.94-.94-2.06-.94 2.06-2.06.94z\"/><path d=\"M17.41 7.96l-1.37-1.37c-.4-.4-.92-.59-1.43-.59-.52 0-1.04.2-1.43.59L10.3 9.45l-7.72 7.72c-.78.78-.78 2.05 0 2.83L4 21.41c.39.39.9.59 1.41.59.51 0 1.02-.2 1.41-.59l7.78-7.78 2.81-2.81c.8-.78.8-2.07 0-2.86zM5.41 20L4 18.59l7.72-7.72 1.47 1.35L5.41 20z\"/>\n",
              "  </svg>\n",
              "      </button>\n",
              "      \n",
              "  <style>\n",
              "    .colab-df-container {\n",
              "      display:flex;\n",
              "      flex-wrap:wrap;\n",
              "      gap: 12px;\n",
              "    }\n",
              "\n",
              "    .colab-df-convert {\n",
              "      background-color: #E8F0FE;\n",
              "      border: none;\n",
              "      border-radius: 50%;\n",
              "      cursor: pointer;\n",
              "      display: none;\n",
              "      fill: #1967D2;\n",
              "      height: 32px;\n",
              "      padding: 0 0 0 0;\n",
              "      width: 32px;\n",
              "    }\n",
              "\n",
              "    .colab-df-convert:hover {\n",
              "      background-color: #E2EBFA;\n",
              "      box-shadow: 0px 1px 2px rgba(60, 64, 67, 0.3), 0px 1px 3px 1px rgba(60, 64, 67, 0.15);\n",
              "      fill: #174EA6;\n",
              "    }\n",
              "\n",
              "    [theme=dark] .colab-df-convert {\n",
              "      background-color: #3B4455;\n",
              "      fill: #D2E3FC;\n",
              "    }\n",
              "\n",
              "    [theme=dark] .colab-df-convert:hover {\n",
              "      background-color: #434B5C;\n",
              "      box-shadow: 0px 1px 3px 1px rgba(0, 0, 0, 0.15);\n",
              "      filter: drop-shadow(0px 1px 2px rgba(0, 0, 0, 0.3));\n",
              "      fill: #FFFFFF;\n",
              "    }\n",
              "  </style>\n",
              "\n",
              "      <script>\n",
              "        const buttonEl =\n",
              "          document.querySelector('#df-87329d26-7fa2-4582-b6c8-b8748e1a76f2 button.colab-df-convert');\n",
              "        buttonEl.style.display =\n",
              "          google.colab.kernel.accessAllowed ? 'block' : 'none';\n",
              "\n",
              "        async function convertToInteractive(key) {\n",
              "          const element = document.querySelector('#df-87329d26-7fa2-4582-b6c8-b8748e1a76f2');\n",
              "          const dataTable =\n",
              "            await google.colab.kernel.invokeFunction('convertToInteractive',\n",
              "                                                     [key], {});\n",
              "          if (!dataTable) return;\n",
              "\n",
              "          const docLinkHtml = 'Like what you see? Visit the ' +\n",
              "            '<a target=\"_blank\" href=https://colab.research.google.com/notebooks/data_table.ipynb>data table notebook</a>'\n",
              "            + ' to learn more about interactive tables.';\n",
              "          element.innerHTML = '';\n",
              "          dataTable['output_type'] = 'display_data';\n",
              "          await google.colab.output.renderOutput(dataTable, element);\n",
              "          const docLink = document.createElement('div');\n",
              "          docLink.innerHTML = docLinkHtml;\n",
              "          element.appendChild(docLink);\n",
              "        }\n",
              "      </script>\n",
              "    </div>\n",
              "  </div>\n",
              "  "
            ]
          },
          "metadata": {}
        }
      ],
      "source": [
        "display(df_initial.sort_values('CustomerID')[:5])"
      ]
    },
    {
      "cell_type": "code",
      "execution_count": 17,
      "metadata": {
        "colab": {
          "base_uri": "https://localhost:8080/"
        },
        "id": "bS_NIm4HcYy7",
        "outputId": "9e331e38-ac22-4bef-f3b4-93e7847ef126"
      },
      "outputs": [
        {
          "output_type": "stream",
          "name": "stdout",
          "text": [
            "CustomerID        14527\n",
            "Quantity             -1\n",
            "StockCode             D\n",
            "Description    Discount\n",
            "UnitPrice          27.5\n",
            "Name: 141, dtype: object\n"
          ]
        }
      ],
      "source": [
        "df_check = df_initial[df_initial['Quantity'] < 0 ][['CustomerID','Quantity','StockCode','Description','UnitPrice']]\n",
        "for index, col in df_check.iterrows():\n",
        "  if df_initial[(df_initial['CustomerID']==col[0]) & (df_initial['Quantity'] == -col[1]) &\n",
        "                (df_initial['Description'] == col[2])].shape[0] == 0: # 대응하는 양수 수량 항목이 존재하지 않을 경우를 확인하는 조건\n",
        "    print(df_check.loc[index])\n",
        "    break"
      ]
    },
    {
      "cell_type": "code",
      "execution_count": 18,
      "metadata": {
        "colab": {
          "base_uri": "https://localhost:8080/",
          "height": 81
        },
        "id": "nNhHsyEYcl1T",
        "outputId": "8ee93827-39fb-4c47-cd85-d7a6a57977ae"
      },
      "outputs": [
        {
          "output_type": "execute_result",
          "data": {
            "text/plain": [
              "    InvoiceNo StockCode Description  Quantity         InvoiceDate  UnitPrice  \\\n",
              "141   C536379         D    Discount        -1 2010-12-01 09:41:00       27.5   \n",
              "\n",
              "    CustomerID         Country  \n",
              "141      14527  United Kingdom  "
            ],
            "text/html": [
              "\n",
              "  <div id=\"df-76c56162-d4d2-4c2e-848e-8202f07900ce\">\n",
              "    <div class=\"colab-df-container\">\n",
              "      <div>\n",
              "<style scoped>\n",
              "    .dataframe tbody tr th:only-of-type {\n",
              "        vertical-align: middle;\n",
              "    }\n",
              "\n",
              "    .dataframe tbody tr th {\n",
              "        vertical-align: top;\n",
              "    }\n",
              "\n",
              "    .dataframe thead th {\n",
              "        text-align: right;\n",
              "    }\n",
              "</style>\n",
              "<table border=\"1\" class=\"dataframe\">\n",
              "  <thead>\n",
              "    <tr style=\"text-align: right;\">\n",
              "      <th></th>\n",
              "      <th>InvoiceNo</th>\n",
              "      <th>StockCode</th>\n",
              "      <th>Description</th>\n",
              "      <th>Quantity</th>\n",
              "      <th>InvoiceDate</th>\n",
              "      <th>UnitPrice</th>\n",
              "      <th>CustomerID</th>\n",
              "      <th>Country</th>\n",
              "    </tr>\n",
              "  </thead>\n",
              "  <tbody>\n",
              "    <tr>\n",
              "      <th>141</th>\n",
              "      <td>C536379</td>\n",
              "      <td>D</td>\n",
              "      <td>Discount</td>\n",
              "      <td>-1</td>\n",
              "      <td>2010-12-01 09:41:00</td>\n",
              "      <td>27.5</td>\n",
              "      <td>14527</td>\n",
              "      <td>United Kingdom</td>\n",
              "    </tr>\n",
              "  </tbody>\n",
              "</table>\n",
              "</div>\n",
              "      <button class=\"colab-df-convert\" onclick=\"convertToInteractive('df-76c56162-d4d2-4c2e-848e-8202f07900ce')\"\n",
              "              title=\"Convert this dataframe to an interactive table.\"\n",
              "              style=\"display:none;\">\n",
              "        \n",
              "  <svg xmlns=\"http://www.w3.org/2000/svg\" height=\"24px\"viewBox=\"0 0 24 24\"\n",
              "       width=\"24px\">\n",
              "    <path d=\"M0 0h24v24H0V0z\" fill=\"none\"/>\n",
              "    <path d=\"M18.56 5.44l.94 2.06.94-2.06 2.06-.94-2.06-.94-.94-2.06-.94 2.06-2.06.94zm-11 1L8.5 8.5l.94-2.06 2.06-.94-2.06-.94L8.5 2.5l-.94 2.06-2.06.94zm10 10l.94 2.06.94-2.06 2.06-.94-2.06-.94-.94-2.06-.94 2.06-2.06.94z\"/><path d=\"M17.41 7.96l-1.37-1.37c-.4-.4-.92-.59-1.43-.59-.52 0-1.04.2-1.43.59L10.3 9.45l-7.72 7.72c-.78.78-.78 2.05 0 2.83L4 21.41c.39.39.9.59 1.41.59.51 0 1.02-.2 1.41-.59l7.78-7.78 2.81-2.81c.8-.78.8-2.07 0-2.86zM5.41 20L4 18.59l7.72-7.72 1.47 1.35L5.41 20z\"/>\n",
              "  </svg>\n",
              "      </button>\n",
              "      \n",
              "  <style>\n",
              "    .colab-df-container {\n",
              "      display:flex;\n",
              "      flex-wrap:wrap;\n",
              "      gap: 12px;\n",
              "    }\n",
              "\n",
              "    .colab-df-convert {\n",
              "      background-color: #E8F0FE;\n",
              "      border: none;\n",
              "      border-radius: 50%;\n",
              "      cursor: pointer;\n",
              "      display: none;\n",
              "      fill: #1967D2;\n",
              "      height: 32px;\n",
              "      padding: 0 0 0 0;\n",
              "      width: 32px;\n",
              "    }\n",
              "\n",
              "    .colab-df-convert:hover {\n",
              "      background-color: #E2EBFA;\n",
              "      box-shadow: 0px 1px 2px rgba(60, 64, 67, 0.3), 0px 1px 3px 1px rgba(60, 64, 67, 0.15);\n",
              "      fill: #174EA6;\n",
              "    }\n",
              "\n",
              "    [theme=dark] .colab-df-convert {\n",
              "      background-color: #3B4455;\n",
              "      fill: #D2E3FC;\n",
              "    }\n",
              "\n",
              "    [theme=dark] .colab-df-convert:hover {\n",
              "      background-color: #434B5C;\n",
              "      box-shadow: 0px 1px 3px 1px rgba(0, 0, 0, 0.15);\n",
              "      filter: drop-shadow(0px 1px 2px rgba(0, 0, 0, 0.3));\n",
              "      fill: #FFFFFF;\n",
              "    }\n",
              "  </style>\n",
              "\n",
              "      <script>\n",
              "        const buttonEl =\n",
              "          document.querySelector('#df-76c56162-d4d2-4c2e-848e-8202f07900ce button.colab-df-convert');\n",
              "        buttonEl.style.display =\n",
              "          google.colab.kernel.accessAllowed ? 'block' : 'none';\n",
              "\n",
              "        async function convertToInteractive(key) {\n",
              "          const element = document.querySelector('#df-76c56162-d4d2-4c2e-848e-8202f07900ce');\n",
              "          const dataTable =\n",
              "            await google.colab.kernel.invokeFunction('convertToInteractive',\n",
              "                                                     [key], {});\n",
              "          if (!dataTable) return;\n",
              "\n",
              "          const docLinkHtml = 'Like what you see? Visit the ' +\n",
              "            '<a target=\"_blank\" href=https://colab.research.google.com/notebooks/data_table.ipynb>data table notebook</a>'\n",
              "            + ' to learn more about interactive tables.';\n",
              "          element.innerHTML = '';\n",
              "          dataTable['output_type'] = 'display_data';\n",
              "          await google.colab.output.renderOutput(dataTable, element);\n",
              "          const docLink = document.createElement('div');\n",
              "          docLink.innerHTML = docLinkHtml;\n",
              "          element.appendChild(docLink);\n",
              "        }\n",
              "      </script>\n",
              "    </div>\n",
              "  </div>\n",
              "  "
            ]
          },
          "metadata": {},
          "execution_count": 18
        }
      ],
      "source": [
        "df_initial[(df_initial['CustomerID'] == '14527') & (df_initial['UnitPrice'] == 27.5)]"
      ]
    },
    {
      "cell_type": "code",
      "execution_count": 19,
      "metadata": {
        "colab": {
          "base_uri": "https://localhost:8080/"
        },
        "id": "9kSTxLVed7VN",
        "outputId": "29ad151b-a64f-41b2-84a6-7dc306d75585"
      },
      "outputs": [
        {
          "output_type": "stream",
          "name": "stdout",
          "text": [
            "CustomerID                               15311\n",
            "Quantity                                    -1\n",
            "StockCode                               35004C\n",
            "Description    SET OF 3 COLOURED  FLYING DUCKS\n",
            "UnitPrice                                 4.65\n",
            "Name: 154, dtype: object\n"
          ]
        }
      ],
      "source": [
        "df_check = df_initial[(df_initial['Quantity'] < 0) & (df_initial['Description'] != 'Discount') ][\n",
        "    ['CustomerID','Quantity','StockCode','Description','UnitPrice']]\n",
        "\n",
        "for index, col in df_check.iterrows():\n",
        "  if df_initial[(df_initial['CustomerID']==col[0]) & (df_initial['Quantity'] == -col[1]) &\n",
        "                (df_initial['Description'] == col[2])].shape[0] == 0: # 대응하는 양수 수량 항목이 존재하지 않을 경우를 확인하는 조건\n",
        "    print(df_check.loc[index])\n",
        "    break"
      ]
    },
    {
      "cell_type": "code",
      "execution_count": null,
      "metadata": {
        "id": "a5rsG1ePfVUr"
      },
      "outputs": [],
      "source": [
        "df_cleaned = df_initial.copy(deep = True)\n",
        "df_cleaned['QuantityCanceled'] = 0\n",
        "\n",
        "entry_to_remove = []\n",
        "doubtfull_entry = []\n",
        "\n",
        "for index, col in df_initial.iterrows():\n",
        "  # 만약 주문량이 양수이거나, 할인상품인 경우 취소상품이 아니므로 스킵\n",
        "  if (col['Quantity'] > 0) or col['Description'] == 'Discount' : continue\n",
        "  # 동일한 고객, 상품코드, 송장일자, 주문수량이 양수인 행들을 선택하여 생성\n",
        "  df_test = df_initial[(df_initial['CustomerID'] == col['CustomerID']) &\n",
        "                       (df_initial['StockCode'] == col['StockCode']) &\n",
        "                       (df_initial['InvoiceDate'] < col['InvoiceDate']) & # 취소 주문보다 이전의 경우\n",
        "                       (df_initial['Quantity'] > 0)].copy()\n",
        "\n",
        "  # 취소건 주문에 대응하는 주문이 없는 경우\n",
        "  if (df_test.shape[0] == 0) :\n",
        "    doubtfull_entry.append(index) # 의심되는 주문\n",
        "\n",
        "  # 취소건 주문에 대응하는 주문이 하나인 경우\n",
        "  elif (df_test.shape[0] == 1):\n",
        "    index_order = df_test.index[0]\n",
        "    # 주문수량을 음수로 기록하여 삭제할 준비를 한다.\n",
        "    df_cleaned.loc[index_order, 'QuantityCanceled'] = -col['Quantity']\n",
        "    entry_to_remove.append(index)\n",
        "\n",
        "  # 취소건 주문에 대응하는 주문이 여러개인 경우\n",
        "  elif (df_test.shape[0] >1):\n",
        "    # 인덱스 역순으로 정렬하여 최근 주문 조회\n",
        "    df_test.sort_index(axis =0, ascending=False, inplace =True)\n",
        "    for ind, val in df_test.iterrows():\n",
        "      # 취소된 주문의 수량을 초과하는 주문들은 무시\n",
        "      if val['Quantity'] < -col['Quantity']: continue\n",
        "      df_cleaned.loc[ind, 'QuantityCanceled'] = -col['Quantity']\n",
        "      entry_to_remove.append(index)\n",
        "      break"
      ]
    },
    {
      "cell_type": "code",
      "execution_count": null,
      "metadata": {
        "id": "ciHKfGjXc7XQ"
      },
      "outputs": [],
      "source": [
        "print('entry_to_remove:{}'.format(len(entry_to_remove)))\n",
        "print('doubtfull_entry: {}'.format(len(doubtfull_entry)))"
      ]
    },
    {
      "cell_type": "code",
      "execution_count": null,
      "metadata": {
        "id": "jZ8ahhjFhh7t"
      },
      "outputs": [],
      "source": [
        "df_cleaned.drop(entry_to_remove, axis =0, inplace=True)\n",
        "df_cleaned.drop(doubtfull_entry, axis =0, inplace=True)\n",
        "\n",
        "# 주문취소건에 상품코드가 D(할인코드)가 아닌 주문 필터링\n",
        "remaining_entrires = df_cleaned[(df_cleaned['Quantity'] < 0) &\n",
        "                                (df_cleaned['StockCode'] != 'D')]\n",
        "print('nb of entries to delete : {}'. format(remaining_entrires.shape[0]))\n",
        "remaining_entrires[:5]"
      ]
    },
    {
      "cell_type": "code",
      "execution_count": null,
      "metadata": {
        "id": "gY3Auc-JvG5t"
      },
      "outputs": [],
      "source": [
        "df_cleaned[(df_cleaned['CustomerID'] == 14048) & (df_cleaned['StockCode'] == '22464')]"
      ]
    },
    {
      "cell_type": "markdown",
      "metadata": {
        "id": "OFtUtkQpl74N"
      },
      "source": [
        "Stockcode"
      ]
    },
    {
      "cell_type": "code",
      "execution_count": null,
      "metadata": {
        "id": "IEnEnnrpl7ZN"
      },
      "outputs": [],
      "source": [
        "list_special_codes = df_cleaned[df_cleaned['StockCode'].str.contains('^[a-zA-Z]+', regex=True)]['StockCode'].unique()\n",
        "list_special_codes"
      ]
    },
    {
      "cell_type": "code",
      "execution_count": null,
      "metadata": {
        "id": "umbk9d_ckkDc"
      },
      "outputs": [],
      "source": [
        "for code in list_special_codes:\n",
        "  print(\"{:<15} -> {:<30}\".format(code, df_cleaned[df_cleaned['StockCode'] == code]['Description'].unique()[0]) )"
      ]
    },
    {
      "cell_type": "markdown",
      "metadata": {
        "id": "VtOarp4oNGIZ"
      },
      "source": [
        "Basket Price"
      ]
    },
    {
      "cell_type": "code",
      "execution_count": null,
      "metadata": {
        "id": "AV6IBN3xM6Kg"
      },
      "outputs": [],
      "source": [
        "df_cleaned['TotalPrice'] = df_cleaned['UnitPrice'] * (df_cleaned['Quantity'] - df_cleaned['QuantityCanceled'])\n",
        "df_cleaned.sort_values('CustomerID')[:5]"
      ]
    },
    {
      "cell_type": "code",
      "execution_count": null,
      "metadata": {
        "id": "Zn6gtWBdN7UT"
      },
      "outputs": [],
      "source": [
        "# 고객별 송장별 구매액\n",
        "temp = df_cleaned.groupby(by=['CustomerID','InvoiceNo'], as_index = False)['TotalPrice'].sum()\n",
        "basket_price = temp.rename(columns = {'TotalPrice': 'Basket Price'})\n",
        "\n",
        "# date de la commande\n",
        "df_cleaned['InvoiceDate_int'] = df_cleaned['InvoiceDate'].astype('int64')\n",
        "temp = df_cleaned.groupby(by=['CustomerID','InvoiceNo'], as_index=False)['InvoiceDate_int'].mean()\n",
        "df_cleaned.drop('InvoiceDate_int', axis =1, inplace=True)\n",
        "basket_price.loc[:, 'InvoiceDate'] = pd.to_datetime(temp['InvoiceDate_int'])\n",
        "\n",
        "# Selection des entrees significatives:\n",
        "basket_price = basket_price[basket_price['Basket Price'] > 0]\n",
        "basket_price.sort_values('CustomerID').head(10)"
      ]
    },
    {
      "cell_type": "code",
      "execution_count": null,
      "metadata": {
        "id": "qgeqqKSdYuTd"
      },
      "outputs": [],
      "source": [
        "!sudo apt-get install -y fonts-nanum\n",
        "!sudo fc-cache -fv\n",
        "!rm ~/.cache/matplotlib -rf"
      ]
    },
    {
      "cell_type": "code",
      "execution_count": null,
      "metadata": {
        "id": "qtGj4_krRRlD"
      },
      "outputs": [],
      "source": [
        "# 구매 금액대 지정\n",
        "price_range = [0, 50, 100, 200, 500, 1000, 5000, 50000]\n",
        "count_price = [] # 주문 수\n",
        "for i, price in enumerate(price_range):\n",
        "  if i == 0: continue # 0~50 구간 스킵\n",
        "  val = basket_price[(basket_price['Basket Price'] < price)&\n",
        "                     (basket_price['Basket Price'] > price_range[i-1])]['Basket Price'].count() # i-1은 현재 가격 범위의 이전 가격 범위\n",
        "  count_price.append(val)\n",
        "\n",
        "# 데이터 시각화 (파이 차트)\n",
        "plt.rc('font', weight = 'bold') # 폰트의 두께를 bold로 설정\n",
        "f, ax = plt.subplots(figsize = (11,6)) # 가로 11, 세로 6\n",
        "colors = ['yellowgreen', 'gold', 'wheat', 'c', 'violet', 'royalblue', 'firebrick']\n",
        "labels = ['{} <.< {}'.format(price_range[i-1],s) for i,s in enumerate(price_range) if i != 0] # 가격범위 시작 <.< 끝\n",
        "sizes = count_price\n",
        "# sizes 리스트의 값이 100보다 작은 경우 해당 섹션은 튀어나오지 않도록 0.0으로 설정되며\n",
        "# 100보다 큰 경우에는 튀어나오도록 0.0이 아닌 다른 값을 가짐\n",
        "explode = [0.0 if sizes[i] < 100 else 0.0 for i in range(len(sizes))]\n",
        "ax.pie(sizes, explode = explode, labels =labels, colors = colors,\n",
        "       autopct = lambda x:'{:1.0f}%'.format(x) if x > 1 else '',\n",
        "       shadow = False, startangle=0)\n",
        "ax.axis('equal') # 그래프 모양을 정확히 원으로 표현\n",
        "f.text(0.5, 1.01, '구매 금액대별 주문 수', ha = 'center', fontsize = 18)\n",
        "plt.show()\n"
      ]
    },
    {
      "cell_type": "markdown",
      "metadata": {
        "id": "u1C7jd3zaNMy"
      },
      "source": [
        "#### Insight on product categories"
      ]
    },
    {
      "cell_type": "markdown",
      "metadata": {
        "id": "0C93YEULaW55"
      },
      "source": [
        "Products Description"
      ]
    },
    {
      "cell_type": "code",
      "execution_count": null,
      "metadata": {
        "id": "xTqS8skEYXov"
      },
      "outputs": [],
      "source": [
        "# 자연어 처리(NLP) 기술을 사용하여 유사한 키워드를 식별하고 그룹화하는 작업\n",
        "is_noun = lambda pos: pos[:2] == 'NN' # 형태소가 명사인지 확인\n",
        "\n",
        "def keywords_inventory(dataframe, colonne = 'Description'):\n",
        "  stemmer = nltk.stem.SnowballStemmer('english') # 영어 단어의 어간(stem)을 추출하는데 사용할 스노우볼 스태머(stemmer)를 생성\n",
        "  keywords_roots = dict() # root 뿌리\n",
        "  keywords_select = dict() # root <-> keyword 연결\n",
        "  category_keys = [] # 키워드들을 그룹화하여 선택된 키워드를 저장\n",
        "  count_keywords = dict() #키워드별 빈도수를 저장\n",
        "  icount = 0\n",
        "\n",
        "  for s in dataframe[colonne]:\n",
        "    if pd.isnull(s) : continue\n",
        "    lines = s.lower() # 소문자 변환\n",
        "    tokenized = nltk.word_tokenize(lines) # 소문자로 변환한 문자열을 토큰화 하여 단어로 분할\n",
        "    nouns =[word for (word, pos) in  nltk.pos_tag(tokenized) if is_noun(pos)] # 단어 중 명사만 추출, nltk.pos_tag 통해 품사 확인\n",
        "\n",
        "    for t in nouns: # 추출된 명사를 반복\n",
        "      t = t.lower()\n",
        "      racine = stemmer.stem(t) # 현재 명사를 스노우볼 스태머 이용하여 원형으로 변환\n",
        "      if racine in keywords_roots: # 원형으로 변형된 단어가 root에 이미 존재하는 경우\n",
        "        keywords_roots[racine].add(t) # 원형 집합에 현재 단어 추가\n",
        "        count_keywords[racine] += 1 # 빈도수 +1\n",
        "      else: # 없는 경우\n",
        "        keywords_roots[racine] = {t} # 생성하고 단어 추가\n",
        "        count_keywords[racine] = 1 # 빈도수 1로 초기화\n",
        "\n",
        "  for s in keywords_roots.keys():\n",
        "    if len(keywords_roots[s]) > 1:\n",
        "      min_length = 1000 # 변수에 매우 큰값을 초기화, 가장 작은 키워드 길이가 저장\n",
        "      for k in keywords_roots[s]:\n",
        "        if len(k) < min_length:\n",
        "          clef = k; min_length =len(k)\n",
        "      category_keys.append(clef)\n",
        "      keywords_select[s] = clef\n",
        "    else:\n",
        "      category_keys.append(list(keywords_roots[s])[0])\n",
        "      keywords_select[s] = list(keywords_roots[s])[0]\n",
        "\n",
        "  print(\"Nb of keywords in variable '{}' :{}\".format(colonne, len(category_keys)))\n",
        "  return category_keys, keywords_roots, keywords_select, count_keywords"
      ]
    },
    {
      "cell_type": "markdown",
      "metadata": {
        "id": "N9rE5eyzoEYV"
      },
      "source": [
        "즉, 위 코드는 각 뿌리에 대해 여러 개의 키워드가 있는 경우 가장 짧은 키워드를 선택하고, 유일한 키워드가 있는 경우 그 키워드를 선택하여 category_keys 리스트에 정리하고, keywords_select 딕셔너리에 선택된 키워드를 기록하는 작업을 수행함"
      ]
    },
    {
      "cell_type": "code",
      "execution_count": null,
      "metadata": {
        "id": "Ed5OV-DPeM2z"
      },
      "outputs": [],
      "source": [
        "df_produits = pd.DataFrame(df_initial['Description'].unique()).rename(columns={0:'Description'})"
      ]
    },
    {
      "cell_type": "code",
      "execution_count": null,
      "metadata": {
        "id": "Nugiq3wppwoI"
      },
      "outputs": [],
      "source": [
        "!pip install nltk\n",
        "import nltk\n",
        "nltk.download('punkt')\n",
        "nltk.download('averaged_perceptron_tagger')"
      ]
    },
    {
      "cell_type": "code",
      "execution_count": null,
      "metadata": {
        "id": "DOk6qfSHeODc"
      },
      "outputs": [],
      "source": [
        "keywords, keywords_roots, keywords_select, count_keywords = keywords_inventory(df_produits)"
      ]
    },
    {
      "cell_type": "code",
      "execution_count": null,
      "metadata": {
        "id": "eSEQhnkFqr-u"
      },
      "outputs": [],
      "source": [
        "list_products = []\n",
        "for k, v in count_keywords.items(): # k 키워드, v 카운트 값\n",
        "  list_products.append([keywords_select[k],v])\n",
        "list_products.sort(key = lambda x:x[1], reverse = True)"
      ]
    },
    {
      "cell_type": "code",
      "execution_count": null,
      "metadata": {
        "id": "7kBb8ia3rc9I"
      },
      "outputs": [],
      "source": [
        "liste = sorted(list_products, key = lambda x:x[1], reverse =True)\n",
        "\n",
        "plt.rc('font', weight = 'normal')\n",
        "plt.rc('font', family='NanumBarunGothic')\n",
        "fig, ax = plt.subplots(figsize = (7,25))\n",
        "y_axis = [i[1] for i in liste[:125]]\n",
        "x_axis = [k for k,i in enumerate(liste[:125])]\n",
        "x_label =[i[0] for i in liste[:125]]\n",
        "plt.xticks(fontsize = 15)\n",
        "plt.yticks(fontsize = 13)\n",
        "plt.yticks(x_axis, x_label)\n",
        "plt.xlabel('Nb. of occurences', fontsize = 18, labelpad = 10)\n",
        "ax.barh(x_axis, y_axis, align ='center')\n",
        "ax =plt.gca()\n",
        "ax.invert_yaxis()\n",
        "\n",
        "plt.title('Word 빈도수(발생률)', bbox={'facecolor':'k', 'pad':5}, color='w', fontsize=25)\n",
        "plt.show()"
      ]
    },
    {
      "cell_type": "markdown",
      "metadata": {
        "id": "ePnz3xkb_Mm0"
      },
      "source": [
        "Defining product categories"
      ]
    },
    {
      "cell_type": "code",
      "execution_count": null,
      "metadata": {
        "id": "EWV9eBFN-e3K"
      },
      "outputs": [],
      "source": [
        "list_products = []\n",
        "for k, v in count_keywords.items():\n",
        "  word = keywords_select[k]\n",
        "  if word in ['pink','blue','tag','green','orange']: continue\n",
        "  if len(word) < 3 or v < 13 : continue\n",
        "  if ('+' in word) or ('/' in word): continue\n",
        "  list_products.append([word, v]) # 유의미한 단어만 리스트에 추가\n",
        "\n",
        "list_products.sort(key= lambda x:x[1], reverse = True)\n",
        "print('most conserves:', len(list_products) )"
      ]
    },
    {
      "cell_type": "markdown",
      "metadata": {
        "id": "s0ILMYzPFVk-"
      },
      "source": [
        "Data encoding"
      ]
    },
    {
      "cell_type": "code",
      "execution_count": null,
      "metadata": {
        "id": "wadVV8T8FTuz"
      },
      "outputs": [],
      "source": [
        "liste_produnits = df_cleaned['Description'].unique()\n",
        "X = pd.DataFrame()\n",
        "for key, occurence in list_products:\n",
        "  X[key] = list(map(lambda x:int(key.upper() in x), liste_produnits))"
      ]
    },
    {
      "cell_type": "code",
      "execution_count": null,
      "metadata": {
        "id": "9y4F6o16GraN"
      },
      "outputs": [],
      "source": [
        "X"
      ]
    },
    {
      "cell_type": "code",
      "execution_count": null,
      "metadata": {
        "id": "PTpaH2eTHmfw"
      },
      "outputs": [],
      "source": [
        "liste_produnits.shape"
      ]
    },
    {
      "cell_type": "code",
      "execution_count": null,
      "metadata": {
        "id": "qfl0FYbSH7ri"
      },
      "outputs": [],
      "source": [
        "# UnitPrice(가격)를 기반으로 가격 범위에 따라 레이블을 지정하는 과정,  이를 통해 제품들을 가격에 따라 구간별로 분류\n",
        "threshold = [0,1,2,3,5,10]\n",
        "label_col = []\n",
        "for i in range(len(threshold)):\n",
        "  if i == len(threshold) -1:\n",
        "    col = '.> {}'.format(threshold[i])\n",
        "  else:\n",
        "    col ='{} <.< {}'.format(threshold[i], threshold[i+1])\n",
        "  label_col.append(col)\n",
        "  X.loc[:,col] = 0\n",
        "\n",
        "for i, prod in enumerate(liste_produnits):\n",
        "  prix = df_cleaned[df_cleaned['Description'] == prod]['UnitPrice'].mean()\n",
        "  j=0\n",
        "  while prix > threshold[j]:\n",
        "    j+=1\n",
        "    if j == len(threshold): break\n",
        "  X.loc[i, label_col[j-1]] = 1"
      ]
    },
    {
      "cell_type": "code",
      "execution_count": null,
      "metadata": {
        "id": "yn84x9pkfFQq"
      },
      "outputs": [],
      "source": [
        "print('{:<8} {:<20}\\n'.format('범위','nb. produnits') + 20*'-')\n",
        "\n",
        "for i in range(len(threshold)):\n",
        "  if i == len(threshold) -1:\n",
        "    col = '.> {}'.format(threshold[i])\n",
        "  else:\n",
        "    col ='{} <.< {}'.format(threshold[i], threshold[i+1])\n",
        "  print('{:<10} {:<20}'.format(col, X.loc[:,col].sum()))"
      ]
    },
    {
      "cell_type": "markdown",
      "metadata": {
        "id": "cEelzgTFgkSS"
      },
      "source": [
        "Creating Clusters of Products"
      ]
    },
    {
      "cell_type": "code",
      "execution_count": null,
      "metadata": {
        "id": "55I4oBmBgg6n"
      },
      "outputs": [],
      "source": [
        "# K-means 군집화\n",
        "matrix = X.values\n",
        "\n",
        "# Silhouette Score는 클러스터링의 품질을 평가하는 지표\n",
        "for n_clusters in range(3,10):\n",
        "  kmeans = KMeans(init ='k-means++', n_clusters=n_clusters, n_init=30)\n",
        "  kmeans.fit(matrix)\n",
        "  clusters = kmeans.predict(matrix)\n",
        "  # Silhouette Score가 높은 클러스터 개수가 좋은 군집화\n",
        "  silhouette_avg = silhouette_score(matrix, clusters)\n",
        "  print('1. For n_clusters =', n_clusters, '\\n2. The average silhouette_score is :', silhouette_avg,'\\n')"
      ]
    },
    {
      "cell_type": "markdown",
      "metadata": {
        "id": "O1y3x6qTllKy"
      },
      "source": [
        "클러스터 8개가 가장 좋은 평가지표를 보이지만, 5개 이상의 클러스터를 사용할 경우 일부 클러스터에는 매우 적은 요소들이 포함될 수 있습니다. 그래서 5개의 클러스터를 사용"
      ]
    },
    {
      "cell_type": "markdown",
      "metadata": {
        "id": "M-qDOhbHtOJ3"
      },
      "source": [
        "\n",
        "\n",
        "```\n",
        "실루엣 스코어는 클러스터링 결과의 평가 지표로 사용되는 값으로, 클러스터링이 얼마나 잘 이루어졌는지를 나타내는 지표입니다.\n",
        "이 값은 각 샘플이 속한 클러스터와 해당 클러스터의 유사한 정도를 나타냅니다.\n",
        "\n",
        "실루엣 스코어는 다음과 같이 계산됩니다:\n",
        "\n",
        "1. 샘플마다 실루엣 스코어를 계산합니다.\n",
        "2. 샘플의 실루엣 스코어는 해당 샘플이 속한 클러스터 내부의 평균 거리(a)와 가장 가까운 다른 클러스터의 평균 거리(b)를 사용하여 계산됩니다.\n",
        "3. 실루엣 스코어는 (b - a) / max(a, b)로 계산되며, 값은 -1에서 1 사이의 범위를 가지게 됩니다.\n",
        "  - 1에 가까울수록 샘플이 잘 클러스터링되었음을 의미합니다.\n",
        "  - 0에 가까울수록 샘플이 클러스터 경계에 위치하고 있음을 의미합니다.\n",
        "  - 1에 가까울수록 샘플이 잘못된 클러스터에 할당되었음을 의미합니다.\n",
        "4. 실루엣 스코어가 0보다 큰 값을 가지면 해당 클러스터가 잘 형성되었다고 판단할 수 있습니다.\n",
        "따라서, 클러스터링의 결과를 평가하고 최적의 클러스터 개수를 찾는 데 사용됩니다. 일반적으로 실루엣 스코어가 높을수록 클러스터링 결과가 더 좋다고 평가됩니다.\n",
        "```\n",
        "\n"
      ]
    },
    {
      "cell_type": "code",
      "execution_count": null,
      "metadata": {
        "id": "rTCypheolLSa"
      },
      "outputs": [],
      "source": [
        "n_clusters = 5\n",
        "silhouette_avg = -1\n",
        "while silhouette_avg < 0.145: # Silhouette 점수가 0.145 이상이 될 때까지 K-Means 알고리즘을 반복적으로 실행 -> 최적의 클러스터링 결과\n",
        "  kmeans = KMeans(init = 'k-means++', n_clusters = n_clusters, n_init=30) # k-means++ 스마트한 초기화\n",
        "  kmeans.fit(matrix)\n",
        "  clusters = kmeans.predict(matrix)\n",
        "  silhouette_avg = silhouette_score(matrix, clusters)\n",
        "\n",
        "   #km = kmodes.KModes(n_clusters = n_clusters, init='Huang', n_init=2, verbose=0)\n",
        "   #clusters = km.fit_predict(matrix)\n",
        "   #silhouette_avg = silhouette_score(matrix, clusters)\n",
        "  print('For n_clusters = ', n_clusters, '\\nThe average silhouette_score is:',silhouette_avg)"
      ]
    },
    {
      "cell_type": "markdown",
      "metadata": {
        "id": "uQ4EkPtbq1a6"
      },
      "source": [
        "Characterizing the content of clusters"
      ]
    },
    {
      "cell_type": "code",
      "execution_count": null,
      "metadata": {
        "id": "72sRyHKPqgMS"
      },
      "outputs": [],
      "source": [
        "pd.Series(clusters).value_counts()"
      ]
    },
    {
      "cell_type": "code",
      "execution_count": null,
      "metadata": {
        "id": "QfHRBkSsq_tv"
      },
      "outputs": [],
      "source": [
        "# silhouette intra-cluster score\n",
        "# 실루엣 스코어 그래프 시각화\n",
        "\n",
        "def graph_component_silhouette(n_clusters, lim_x, mat_size, sample_silhouette_values, clusters):\n",
        "  plt.rcParams['patch.force_edgecolor']=True # 그래프의 패치 테두리\n",
        "  plt.style.use('fivethirtyeight') # 그래프 스타일\n",
        "  mpl.rc('patch', edgecolor='dimgray', linewidth=1) # 패치 테두리 색상, 두께\n",
        "\n",
        "  fig, ax1= plt.subplots(1,1) # 그림과 축 생성\n",
        "  fig.set_size_inches(8,8) # 그림의 크기 설정\n",
        "  ax1.set_xlim([lim_x[0], lim_x[1]]) # x축 범위를 lim_x로 설정\n",
        "  ax1.set_ylim([0, mat_size+(n_clusters +1)*10]) # y축 범위 설정\n",
        "  y_lower = 10 # y_lower 값을 초기화\n",
        "\n",
        "  for i in range(n_clusters):\n",
        "    ith_cluster_silhouette_values = sample_silhouette_values[clusters == i] # sample_silhouette_values 샘플들의 실루엣 스코어\n",
        "    ith_cluster_silhouette_values.sort() # 오름차순, 세로 방향으로 정렬\n",
        "    size_cluster_i = ith_cluster_silhouette_values.shape[0] # 샘플의 개수\n",
        "    y_upper = y_lower + size_cluster_i # 샘플이 세로 방향으로 어디까지 채워져야 하는지\n",
        "    cmap = cm.get_cmap('Spectral')\n",
        "    color = cmap(float(i)/n_clusters) # 각 클러스터링이 다른 색으로 시각화\n",
        "    ax1.fill_betweenx(np.arange(y_lower, y_upper), 0, ith_cluster_silhouette_values,\n",
        "                      facecolor = color, edgecolor = color, alpha=0.8) # 클러스터 영역을 색칠\n",
        "\n",
        "    # 각 클러스터 영역에 클러스터 번호를 텍스트로 표시\n",
        "    ax1.text(-0.03, y_lower +0.5*size_cluster_i, str(i), color ='red', fontweight = 'bold',\n",
        "             bbox = dict(facecolor = 'white', edgecolor='black', boxstyle ='round, pad =0.3'))\n",
        "\n",
        "    # 다음 클러스터를 시각화하기 위해 y_lower 값을 y_upper + 10으로 업데이트\n",
        "    y_lower = y_upper +10\n"
      ]
    },
    {
      "cell_type": "code",
      "execution_count": null,
      "metadata": {
        "id": "wxFZqUVkoIQi"
      },
      "outputs": [],
      "source": [
        "# define individual silouette scores\n",
        "sample_silhouette_values = silhouette_samples(matrix, clusters)\n",
        "\n",
        "# and do the graph\n",
        "# graph_component_silhouette(n_clusters, lim_x, mat_size, sample_silhouette_values, clusters)\n",
        "graph_component_silhouette(n_clusters, [-0.07, 0.33], len(X), sample_silhouette_values, clusters)\n",
        "plt.show()"
      ]
    },
    {
      "cell_type": "markdown",
      "metadata": {
        "id": "pHf9_5Nmpgi0"
      },
      "source": [
        "Word Cloud"
      ]
    },
    {
      "cell_type": "code",
      "execution_count": null,
      "metadata": {
        "id": "A5s8n7Xio6p1"
      },
      "outputs": [],
      "source": [
        "# 각 클러스터링 번호별 단어 빈도 계산\n",
        "liste = pd.DataFrame(liste_produnits) # 클러스터링 번호를 이용하여 데이터 프레임\n",
        "liste_words = [word for (word, occurence) in list_products] # 불용어 제외한 단어\n",
        "\n",
        "occurence = [dict() for _ in range(n_clusters)] # 클러스터별 단어 발생 빈도를 딕셔너리로 기록\n",
        "\n",
        "for i in range(n_clusters):\n",
        "  liste_cluster = liste.loc[clusters == i]\n",
        "  for word in liste_words:\n",
        "    if word in ['art', 'set', 'heart', 'pink', 'blue', 'tag']: continue\n",
        "    # 데이터프레임의 첫 번째 열 해당 단어가 대문자로 포함된 텍스트가 몇 개인지를 계산하여 단어의 발생 빈도 구함\n",
        "    occurence[i][word] =sum(liste_cluster.loc[:,0].str.contains(word.upper()))"
      ]
    },
    {
      "cell_type": "code",
      "execution_count": null,
      "metadata": {
        "id": "LfUpjHXYr4FL"
      },
      "outputs": [],
      "source": [
        "# Word Cloud에서 단어의 색상을 랜덤하게 생성하기 위한 함수\n",
        "def random_color_func(word = None, font_size = None, position =None,\n",
        "                      orientation =None, font_path = None, random_state=None): # position 단어 위치, orientation 단어 방향,\n",
        "  h = int(360.0 * tone/255.0) # 단어의 색조(Hue) 값을 계산\n",
        "  s = int(100.0 * 255.0/255.0) # 단어의 채도(Saturation) 값을 100으로 설정\n",
        "  l = int(100.0*float(random_state.randint(70,120))/255.0) # 단어의 명도(Lightness) 값을 랜덤하게 설정\n",
        "  return 'hsl({}, {}%, {}%)'.format(h,s,l)\n",
        "\n",
        "# Word Cloud를 생성하는 함수\n",
        "def make_wordcloud(liste, increment):\n",
        "  ax1 = fig.add_subplot(4,2,increment) # increment: Word Cloud를 그릴 때 subplot의 순서를 나타내는 값\n",
        "  words =dict() # 단어를 담을 딕셔너리 생성\n",
        "  trunc_occurences = liste[0:150] # 상위 150개\n",
        "  for s in trunc_occurences:\n",
        "    words[s[0]] = s[1]\n",
        "\n",
        "  wordcloud = WordCloud(width =1000, height =400, background_color ='lightgray', max_words=1628, # 최대 단어 수\n",
        "                        relative_scaling=1, # 단어 크기의 상대적 스케일링\n",
        "                        color_func =random_color_func, normalize_plurals = False # 복수형 단어 정규화 여부\n",
        "                        )\n",
        "  wordcloud.generate_from_frequencies(words) # Word Cloud 생성\n",
        "  ax1.imshow(wordcloud, interpolation ='bilinear')\n",
        "  ax1.axis('off')\n",
        "  plt.title('cluster n {}'.format(increment -1))"
      ]
    },
    {
      "cell_type": "code",
      "execution_count": null,
      "metadata": {
        "id": "dt-78quyyZIS"
      },
      "outputs": [],
      "source": [
        "fig = plt.figure(1, figsize=(14,14))\n",
        "color = [0, 160, 130, 95, 280, 40, 330, 110, 25]\n",
        "for i in range(n_clusters):\n",
        "  list_cluster_occurences = occurence[i]\n",
        "  tone =color[i]\n",
        "  liste = []\n",
        "  for key, value in list_cluster_occurences.items():\n",
        "    liste.append([key, value])\n",
        "    liste.sort(key = lambda x:x[1], reverse = True)\n",
        "    make_wordcloud(liste, i+1)"
      ]
    },
    {
      "cell_type": "markdown",
      "metadata": {
        "id": "E70KP3cg5Kpu"
      },
      "source": [
        "Principal Component Analysis (주성분 분석 PCA)\n",
        "\n"
      ]
    },
    {
      "cell_type": "code",
      "execution_count": null,
      "metadata": {
        "id": "P0QwfGzCyaQW"
      },
      "outputs": [],
      "source": [
        "pca = PCA()\n",
        "pca.fit(matrix)\n",
        "pca_samples =pca.transform(matrix)"
      ]
    },
    {
      "cell_type": "code",
      "execution_count": null,
      "metadata": {
        "id": "LLQiVP-s5v7C"
      },
      "outputs": [],
      "source": [
        "fig, ax = plt.subplots(figsize=(14, 5))\n",
        "sns.set(font_scale=1)\n",
        "# 주성분 분석 결과의 누적 설명된 분산을 계단 형태의 그래프로 표시\n",
        "plt.step(range(matrix.shape[1]), pca.explained_variance_ratio_.cumsum(), where='mid',\n",
        "         label='cumulative explained variance')\n",
        "# 주성분들의 개별적인 설명된 분산을 막대 그래프로 표시\n",
        "sns.barplot(x=np.arange(1, matrix.shape[1]+1), y=pca.explained_variance_ratio_, alpha=0.5, color='g',\n",
        "            label='individual explained variance')\n",
        "plt.xlim(0, 100)\n",
        "\n",
        "ax.set_xticklabels([s if int(s.get_text())%2 == 0 else '' for s in ax.get_xticklabels()])\n",
        "\n",
        "plt.ylabel('Explained variance', fontsize = 14)\n",
        "plt.xlabel('Principal components', fontsize = 14)\n",
        "plt.legend(loc='upper left', fontsize = 13);"
      ]
    },
    {
      "cell_type": "code",
      "execution_count": null,
      "metadata": {
        "id": "kHroZPioIOky"
      },
      "outputs": [],
      "source": [
        "pca = PCA(n_components=50) # 주성분 개수\n",
        "matrix_9D = pca.fit_transform(matrix)\n",
        "mat = pd.DataFrame(matrix_9D)\n",
        "mat['cluster'] = pd.Series(clusters)"
      ]
    },
    {
      "cell_type": "code",
      "source": [
        "mat.head()"
      ],
      "metadata": {
        "id": "s-rgJFlP6oEW"
      },
      "execution_count": null,
      "outputs": []
    },
    {
      "cell_type": "code",
      "source": [
        "import matplotlib.patches as mpatches\n",
        "\n",
        "sns.set_style(\"white\")\n",
        "sns.set_context(\"notebook\", font_scale=1, rc={\"lines.linewidth\": 2.5})\n",
        "\n",
        "LABEL_COLOR_MAP = {0:'r', 1:'gold', 2:'b', 3:'k', 4:'c', 5:'g'}\n",
        "label_color = [LABEL_COLOR_MAP[l] for l in mat['cluster']]\n",
        "\n",
        "fig = plt.figure(figsize = (15,8))\n",
        "increment = 0\n",
        "for ix in range(4):\n",
        "    for iy in range(ix+1, 4):\n",
        "        increment += 1\n",
        "        ax = fig.add_subplot(2,3,increment)\n",
        "        ax.scatter(mat[ix], mat[iy], c= label_color, alpha=0.4)\n",
        "        plt.ylabel('PCA {}'.format(iy+1), fontsize = 12)\n",
        "        plt.xlabel('PCA {}'.format(ix+1), fontsize = 12)\n",
        "        ax.yaxis.grid(color='lightgray', linestyle=':')\n",
        "        ax.xaxis.grid(color='lightgray', linestyle=':')\n",
        "        ax.spines['right'].set_visible(False)\n",
        "        ax.spines['top'].set_visible(False)\n",
        "\n",
        "        if increment == 9: break\n",
        "    if increment == 9: break\n",
        "\n",
        "#_______________________________________________\n",
        "# I set the legend: abreviation -> airline name\n",
        "comp_handler = []\n",
        "for i in range(5):\n",
        "    comp_handler.append(mpatches.Patch(color = LABEL_COLOR_MAP[i], label = i))\n",
        "\n",
        "plt.legend(handles=comp_handler, bbox_to_anchor=(1.1, 0.97),\n",
        "           title='Cluster', facecolor = 'lightgrey',\n",
        "           shadow = True, frameon = True, framealpha = 1,\n",
        "           fontsize = 13, bbox_transform = plt.gcf().transFigure)\n",
        "\n",
        "plt.show()"
      ],
      "metadata": {
        "id": "UXoGX23xqlT1"
      },
      "execution_count": null,
      "outputs": []
    },
    {
      "cell_type": "markdown",
      "source": [
        "Customer categories"
      ],
      "metadata": {
        "id": "bPLqCCF93pJp"
      }
    },
    {
      "cell_type": "markdown",
      "source": [
        "Formatting data"
      ],
      "metadata": {
        "id": "Fbc00JDzF4nE"
      }
    },
    {
      "cell_type": "code",
      "source": [
        "corresp = dict()\n",
        "\n",
        "for key, val in zip (liste_produnits, clusters):\n",
        "  corresp[key] = val\n",
        "\n",
        "df_cleaned['categ_product'] = df_cleaned.loc[:, 'Description'].map(corresp)"
      ],
      "metadata": {
        "id": "utTHSWerxyqb"
      },
      "execution_count": null,
      "outputs": []
    },
    {
      "cell_type": "markdown",
      "source": [
        "Grouping products"
      ],
      "metadata": {
        "id": "xEb8-POcGwQK"
      }
    },
    {
      "cell_type": "code",
      "source": [
        "for i in range(5):\n",
        "  col = 'categ_{}'.format(i)\n",
        ""
      ],
      "metadata": {
        "id": "O0khEBrgGYcV"
      },
      "execution_count": null,
      "outputs": []
    },
    {
      "cell_type": "code",
      "source": [],
      "metadata": {
        "id": "SDwuWflTGmE1"
      },
      "execution_count": null,
      "outputs": []
    }
  ],
  "metadata": {
    "colab": {
      "provenance": [],
      "mount_file_id": "1Monnvj3RQDnTLPbt7scr-DIfTVS2eIKP",
      "authorship_tag": "ABX9TyP0bDU+ZpwVGUky+CCwjAEu",
      "include_colab_link": true
    },
    "kernelspec": {
      "display_name": "Python 3",
      "name": "python3"
    },
    "language_info": {
      "name": "python"
    },
    "accelerator": "TPU"
  },
  "nbformat": 4,
  "nbformat_minor": 0
}