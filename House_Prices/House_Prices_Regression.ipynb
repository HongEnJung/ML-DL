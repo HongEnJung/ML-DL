{
  "nbformat": 4,
  "nbformat_minor": 0,
  "metadata": {
    "colab": {
      "provenance": [],
      "mount_file_id": "1U8THs14kSU38V8FPtqwA1aqwmXk_0Uxd",
      "authorship_tag": "ABX9TyM/k3b5NcXmMqhGXIss8oMN",
      "include_colab_link": true
    },
    "kernelspec": {
      "name": "python3",
      "display_name": "Python 3"
    },
    "language_info": {
      "name": "python"
    }
  },
  "cells": [
    {
      "cell_type": "markdown",
      "metadata": {
        "id": "view-in-github",
        "colab_type": "text"
      },
      "source": [
        "<a href=\"https://colab.research.google.com/github/HongEnJung/Kaggle/blob/main/House_Prices/House_Prices_Regression.ipynb\" target=\"_parent\"><img src=\"https://colab.research.google.com/assets/colab-badge.svg\" alt=\"Open In Colab\"/></a>"
      ]
    },
    {
      "cell_type": "markdown",
      "source": [
        "\n",
        "\n",
        "```\n",
        "- 데이터에서 중요한 컬럼\n",
        "1. SalePrice: 주택의 판매 가격, 이 컬럼은 예측하려는 타겟 변수\n",
        "2. OverallQual: 주택 전반적인 자질에 대한 평가 점수, 이 컬럼은 1부터 10까지의 값으로 이루어져 있으며, 높은 값일수록 더 좋은 자질을 가진 주택\n",
        "3. GrLivArea: 지상 생활 면적, 이 컬럼은 평방 피트 단위로 이루어져 있으며, 주택의 크기를 나타내는 중요한 변수 중 하나\n",
        "4. YearBuilt: 주택 건축 년도, 이 컬럼은 주택의 연식을 나타내는 중요한 변수 중 하나\n",
        "5. GarageCars: 차고에 수용 가능한 차량 수, 이 컬럼은 차고의 크기와 관련이 있으며, 차량 수가 많을수록 주택의 가치가 높아질 가능성이 있음\n",
        "6. Neighborhood: Ames의 지역 이름, 이 컬럼은 지역에 따른 부동산 시장의 차이를 고려할 때 중요한 변수 중 하나\n",
        "```\n",
        "\n"
      ],
      "metadata": {
        "id": "lx7iBA4bnFUU"
      }
    },
    {
      "cell_type": "code",
      "source": [
        "import pandas as pd\n",
        "import matplotlib.pyplot as plt\n",
        "import seaborn as sns\n",
        "import numpy as np\n",
        "from scipy.stats import norm\n",
        "from sklearn.preprocessing import StandardScaler\n",
        "from scipy import stats\n",
        "import warnings\n",
        "warnings.filterwarnings('ignore')\n",
        "#matplotlib inline"
      ],
      "metadata": {
        "id": "E_yfpgwgTO-s"
      },
      "execution_count": 1,
      "outputs": []
    },
    {
      "cell_type": "code",
      "source": [
        "df_train = pd.read_csv(\"/content/drive/MyDrive/House Prices/train.csv\")"
      ],
      "metadata": {
        "id": "bKyirwnaqBoc"
      },
      "execution_count": 2,
      "outputs": []
    },
    {
      "cell_type": "code",
      "source": [
        "df_train.columns"
      ],
      "metadata": {
        "colab": {
          "base_uri": "https://localhost:8080/"
        },
        "id": "ePT8jWmcqOMi",
        "outputId": "6d133188-febf-484c-f2d3-8d66898f2352"
      },
      "execution_count": 5,
      "outputs": [
        {
          "output_type": "execute_result",
          "data": {
            "text/plain": [
              "Index(['Id', 'MSSubClass', 'MSZoning', 'LotFrontage', 'LotArea', 'Street',\n",
              "       'Alley', 'LotShape', 'LandContour', 'Utilities', 'LotConfig',\n",
              "       'LandSlope', 'Neighborhood', 'Condition1', 'Condition2', 'BldgType',\n",
              "       'HouseStyle', 'OverallQual', 'OverallCond', 'YearBuilt', 'YearRemodAdd',\n",
              "       'RoofStyle', 'RoofMatl', 'Exterior1st', 'Exterior2nd', 'MasVnrType',\n",
              "       'MasVnrArea', 'ExterQual', 'ExterCond', 'Foundation', 'BsmtQual',\n",
              "       'BsmtCond', 'BsmtExposure', 'BsmtFinType1', 'BsmtFinSF1',\n",
              "       'BsmtFinType2', 'BsmtFinSF2', 'BsmtUnfSF', 'TotalBsmtSF', 'Heating',\n",
              "       'HeatingQC', 'CentralAir', 'Electrical', '1stFlrSF', '2ndFlrSF',\n",
              "       'LowQualFinSF', 'GrLivArea', 'BsmtFullBath', 'BsmtHalfBath', 'FullBath',\n",
              "       'HalfBath', 'BedroomAbvGr', 'KitchenAbvGr', 'KitchenQual',\n",
              "       'TotRmsAbvGrd', 'Functional', 'Fireplaces', 'FireplaceQu', 'GarageType',\n",
              "       'GarageYrBlt', 'GarageFinish', 'GarageCars', 'GarageArea', 'GarageQual',\n",
              "       'GarageCond', 'PavedDrive', 'WoodDeckSF', 'OpenPorchSF',\n",
              "       'EnclosedPorch', '3SsnPorch', 'ScreenPorch', 'PoolArea', 'PoolQC',\n",
              "       'Fence', 'MiscFeature', 'MiscVal', 'MoSold', 'YrSold', 'SaleType',\n",
              "       'SaleCondition', 'SalePrice'],\n",
              "      dtype='object')"
            ]
          },
          "metadata": {},
          "execution_count": 5
        }
      ]
    },
    {
      "cell_type": "code",
      "source": [
        "# First things first: analysing 'SalePrice'"
      ],
      "metadata": {
        "id": "H51ZpnfTS6sW"
      },
      "execution_count": 6,
      "outputs": []
    },
    {
      "cell_type": "code",
      "source": [
        "# 주택가격\n",
        "df_train['SalePrice'].describe()"
      ],
      "metadata": {
        "colab": {
          "base_uri": "https://localhost:8080/"
        },
        "id": "oVauCWSeTEml",
        "outputId": "eb2e20bc-3e7a-4e08-c0c9-263956e55fff"
      },
      "execution_count": 9,
      "outputs": [
        {
          "output_type": "execute_result",
          "data": {
            "text/plain": [
              "count      1460.000000\n",
              "mean     180921.195890\n",
              "std       79442.502883\n",
              "min       34900.000000\n",
              "25%      129975.000000\n",
              "50%      163000.000000\n",
              "75%      214000.000000\n",
              "max      755000.000000\n",
              "Name: SalePrice, dtype: float64"
            ]
          },
          "metadata": {},
          "execution_count": 9
        }
      ]
    },
    {
      "cell_type": "code",
      "source": [
        "# 히스토그램\n",
        "sns.distplot(df_train['SalePrice'])"
      ],
      "metadata": {
        "colab": {
          "base_uri": "https://localhost:8080/",
          "height": 308
        },
        "id": "0vJr0SrRTJck",
        "outputId": "f83b6c7b-0eee-4c51-c0ff-9fa1057e16f9"
      },
      "execution_count": 10,
      "outputs": [
        {
          "output_type": "execute_result",
          "data": {
            "text/plain": [
              "<Axes: xlabel='SalePrice', ylabel='Density'>"
            ]
          },
          "metadata": {},
          "execution_count": 10
        },
        {
          "output_type": "display_data",
          "data": {
            "text/plain": [
              "<Figure size 432x288 with 1 Axes>"
            ],
            "image/png": "[encoded data removed]"
          },
          "metadata": {
            "needs_background": "light"
          }
        }
      ]
    },
    {
      "cell_type": "code",
      "source": [
        "# 왜도 계산 (분포가 대칭인지 비대칭인지)\n",
        "# 대칭 분포인 경우 0, 왼쪽으로 치우친 경우 음수, 오른쪽으로 치우친 경우 양수\n",
        "print('Skewness: %f' % df_train['SalePrice'].skew())\n",
        "\n",
        "# 첨도 계산\n",
        "# 분포의 꼬리 부분의 두께\n",
        "# 정규분포와 같은 경우 3, 작으면 분포가 납작, 크면 분포가 뾰족\n",
        "print('Kurtosis: %f' % df_train['SalePrice'].kurt())"
      ],
      "metadata": {
        "colab": {
          "base_uri": "https://localhost:8080/"
        },
        "id": "6AmX8QT0TUM0",
        "outputId": "9b6770bc-7dcf-4eba-98f0-bd44ba36c5f5"
      },
      "execution_count": 13,
      "outputs": [
        {
          "output_type": "stream",
          "name": "stdout",
          "text": [
            "Skewness: 1.882876\n",
            "Kurtosis: 6.536282\n"
          ]
        }
      ]
    },
    {
      "cell_type": "code",
      "source": [
        "# GrLivArea: 지상 생활 면적, SalePrice: 주택의 판매 가격의 산점도\n",
        "var='GrLivArea'\n",
        "data=pd.concat([df_train['SalePrice'], df_train[var]], axis=1)\n",
        "data.plot.scatter(x=var, y='SalePrice', ylim=(0,800000))"
      ],
      "metadata": {
        "colab": {
          "base_uri": "https://localhost:8080/",
          "height": 301
        },
        "id": "eVU27EqCUSLl",
        "outputId": "20359979-28a7-4027-bd19-217e8af2722b"
      },
      "execution_count": 16,
      "outputs": [
        {
          "output_type": "execute_result",
          "data": {
            "text/plain": [
              "<Axes: xlabel='GrLivArea', ylabel='SalePrice'>"
            ]
          },
          "metadata": {},
          "execution_count": 16
        },
        {
          "output_type": "display_data",
          "data": {
            "text/plain": [
              "<Figure size 432x288 with 1 Axes>"
            ],
            "image/png": "[encoded data removed]"
          },
          "metadata": {
            "needs_background": "light"
          }
        }
      ]
    },
    {
      "cell_type": "code",
      "source": [
        "# TotalBsmtSF: 부동산의 지하실 총 면적,SalePrice: 주택의 판매 가격의 산점도\n",
        "var='TotalBsmtSF'\n",
        "data=pd.concat([df_train['SalePrice'], df_train[var]], axis=1)\n"
      ],
      "metadata": {
        "id": "S_W1amvOWD0j"
      },
      "execution_count": null,
      "outputs": []
    }
  ]
}